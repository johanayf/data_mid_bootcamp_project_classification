{
 "cells": [
  {
   "cell_type": "code",
   "execution_count": 2,
   "id": "a2e215db",
   "metadata": {},
   "outputs": [
    {
     "name": "stdout",
     "output_type": "stream",
     "text": [
      "Requirement already satisfied: pyperclip in /usr/local/anaconda3/lib/python3.9/site-packages (1.8.2)\n",
      "Note: you may need to restart the kernel to use updated packages.\n"
     ]
    }
   ],
   "source": [
    "pip install pyperclip"
   ]
  },
  {
   "cell_type": "markdown",
   "id": "ac0decc4",
   "metadata": {},
   "source": [
    "# Credit Card Marketing Project\n",
    "\n",
    "<div class=\"alert alert-block alert-info\">\n",
    "\n",
    "\n",
    "Table Content:\n",
    "\n",
    "* [Introduction](#Introduction)\n",
    "* [Preparation](#Preparation)\n",
    "* [Exploring Data + Basic cleaning + Data featuring](#Exploring-Data-+-Basic-cleaning-+-Data-featuring)\n",
    "* [Modeling: Model M1](#Modeling:-Model-M1)\n",
    "* [Modeling: Model M2](#Modeling:-Model-M2)\n",
    "* [Modeling: Model M3](#Modeling:-Model-M3)\n",
    "* [Modeling: Model M3_1](#Modeling:-Model-M3_1)\n",
    "* [Modeling: Model M4](#Modeling:-Model-M4)\n",
    "* [Modeling: Model M5](#Modeling:-Model-M5)\n",
    "* [Modeling: Other models](#Modeling:-Other-models)\n",
    "\n",
    "\n",
    "</div>\n"
   ]
  },
  {
   "cell_type": "code",
   "execution_count": null,
   "id": "0fe8314c",
   "metadata": {},
   "outputs": [],
   "source": []
  },
  {
   "cell_type": "markdown",
   "id": "fb56f64e",
   "metadata": {},
   "source": [
    "### Introduction\n",
    "[<a href=\"#Credit-Card-Marketing-Project\">Back to Top</a>]\n"
   ]
  },
  {
   "cell_type": "markdown",
   "id": "6e9f8f11",
   "metadata": {},
   "source": [
    "In this notebook, I am including all steps for my mid-term project in IronHack. I have chosen to work on a Classification Model. It's to predict if a customer will take an offer from a bank based on several factors, which include income, houseowns, balance, credit status, type of mailer, etc. \n",
    "\n",
    "This project is to split in 5 parts:\n",
    "* Preparation \n",
    "* EDA (Overview + In depth)\n",
    "* Cleaning (General + Numerical + Categorical)\n",
    "* Data Featuring (Numerical + Categorical)\n",
    "* Modeling\n",
    "*M1: the base model without any cleaning, featuring\n",
    "*M2: clean the outliars based on Average Income feature\n",
    "*M3: Deal with inbalanced data\n",
    "*M3_1: SMOTE, oversampling + scaling numberical \n",
    "*M4: choosing features only base on coefficient score\n",
    "*M5: choosing features base on my understanding\n",
    "* Modeling Validation\n",
    "\n",
    "In this project, I will first run a model without any cleaning or featuring to see the result as a benchmark for the model. In this case, it's more visible to see the impacts of the cleaning and featuring process. At last, I will try to explore different types of models as well. In each step, you can see an explanation of my process. \n",
    "\n",
    "Please feel free to navigate yourself through the content table. \n",
    "Here is my Project Management Dashboard - Trello link: https://trello.com/invite/b/3beff2jF/218f9433022afac20523f3c83aef5801/credit-card-marketing-project\n"
   ]
  },
  {
   "cell_type": "markdown",
   "id": "27e76e27",
   "metadata": {},
   "source": [
    "### Preparation - import data\n",
    "[<a href=\"#Credit-Card-Marketing-Project\">Back to Top</a>]\n"
   ]
  },
  {
   "cell_type": "code",
   "execution_count": 3,
   "id": "3d3d6053",
   "metadata": {},
   "outputs": [],
   "source": [
    "#import library\n",
    "import pandas as pd\n",
    "import numpy as np\n",
    "import seaborn as sns\n",
    "import matplotlib.pyplot as plt\n",
    "import sklearn as sk\n"
   ]
  },
  {
   "cell_type": "code",
   "execution_count": null,
   "id": "b19535e8",
   "metadata": {},
   "outputs": [],
   "source": []
  },
  {
   "cell_type": "code",
   "execution_count": 801,
   "id": "3f7c10b7",
   "metadata": {},
   "outputs": [
    {
     "data": {
      "text/html": [
       "<div>\n",
       "<style scoped>\n",
       "    .dataframe tbody tr th:only-of-type {\n",
       "        vertical-align: middle;\n",
       "    }\n",
       "\n",
       "    .dataframe tbody tr th {\n",
       "        vertical-align: top;\n",
       "    }\n",
       "\n",
       "    .dataframe thead th {\n",
       "        text-align: right;\n",
       "    }\n",
       "</style>\n",
       "<table border=\"1\" class=\"dataframe\">\n",
       "  <thead>\n",
       "    <tr style=\"text-align: right;\">\n",
       "      <th></th>\n",
       "      <th>Customer Number</th>\n",
       "      <th>Offer Accepted</th>\n",
       "      <th>Reward</th>\n",
       "      <th>Mailer Type</th>\n",
       "      <th>Income Level</th>\n",
       "      <th># Bank Accounts Open</th>\n",
       "      <th>Overdraft Protection</th>\n",
       "      <th>Credit Rating</th>\n",
       "      <th># Credit Cards Held</th>\n",
       "      <th># Homes Owned</th>\n",
       "      <th>Household Size</th>\n",
       "      <th>Own Your Home</th>\n",
       "      <th>Average Balance</th>\n",
       "      <th>Q1 Balance</th>\n",
       "      <th>Q2 Balance</th>\n",
       "      <th>Q3 Balance</th>\n",
       "      <th>Q4 Balance</th>\n",
       "    </tr>\n",
       "  </thead>\n",
       "  <tbody>\n",
       "    <tr>\n",
       "      <th>0</th>\n",
       "      <td>1</td>\n",
       "      <td>No</td>\n",
       "      <td>Air Miles</td>\n",
       "      <td>Letter</td>\n",
       "      <td>High</td>\n",
       "      <td>1</td>\n",
       "      <td>No</td>\n",
       "      <td>High</td>\n",
       "      <td>2</td>\n",
       "      <td>1</td>\n",
       "      <td>4</td>\n",
       "      <td>No</td>\n",
       "      <td>1160.75</td>\n",
       "      <td>1669.0</td>\n",
       "      <td>877.0</td>\n",
       "      <td>1095.0</td>\n",
       "      <td>1002.0</td>\n",
       "    </tr>\n",
       "    <tr>\n",
       "      <th>1</th>\n",
       "      <td>2</td>\n",
       "      <td>No</td>\n",
       "      <td>Air Miles</td>\n",
       "      <td>Letter</td>\n",
       "      <td>Medium</td>\n",
       "      <td>1</td>\n",
       "      <td>No</td>\n",
       "      <td>Medium</td>\n",
       "      <td>2</td>\n",
       "      <td>2</td>\n",
       "      <td>5</td>\n",
       "      <td>Yes</td>\n",
       "      <td>147.25</td>\n",
       "      <td>39.0</td>\n",
       "      <td>106.0</td>\n",
       "      <td>78.0</td>\n",
       "      <td>366.0</td>\n",
       "    </tr>\n",
       "    <tr>\n",
       "      <th>2</th>\n",
       "      <td>3</td>\n",
       "      <td>No</td>\n",
       "      <td>Air Miles</td>\n",
       "      <td>Postcard</td>\n",
       "      <td>High</td>\n",
       "      <td>2</td>\n",
       "      <td>No</td>\n",
       "      <td>Medium</td>\n",
       "      <td>2</td>\n",
       "      <td>1</td>\n",
       "      <td>2</td>\n",
       "      <td>Yes</td>\n",
       "      <td>276.50</td>\n",
       "      <td>367.0</td>\n",
       "      <td>352.0</td>\n",
       "      <td>145.0</td>\n",
       "      <td>242.0</td>\n",
       "    </tr>\n",
       "    <tr>\n",
       "      <th>3</th>\n",
       "      <td>4</td>\n",
       "      <td>No</td>\n",
       "      <td>Air Miles</td>\n",
       "      <td>Letter</td>\n",
       "      <td>Medium</td>\n",
       "      <td>2</td>\n",
       "      <td>No</td>\n",
       "      <td>High</td>\n",
       "      <td>1</td>\n",
       "      <td>1</td>\n",
       "      <td>4</td>\n",
       "      <td>No</td>\n",
       "      <td>1219.00</td>\n",
       "      <td>1578.0</td>\n",
       "      <td>1760.0</td>\n",
       "      <td>1119.0</td>\n",
       "      <td>419.0</td>\n",
       "    </tr>\n",
       "    <tr>\n",
       "      <th>4</th>\n",
       "      <td>5</td>\n",
       "      <td>No</td>\n",
       "      <td>Air Miles</td>\n",
       "      <td>Letter</td>\n",
       "      <td>Medium</td>\n",
       "      <td>1</td>\n",
       "      <td>No</td>\n",
       "      <td>Medium</td>\n",
       "      <td>2</td>\n",
       "      <td>1</td>\n",
       "      <td>6</td>\n",
       "      <td>Yes</td>\n",
       "      <td>1211.00</td>\n",
       "      <td>2140.0</td>\n",
       "      <td>1357.0</td>\n",
       "      <td>982.0</td>\n",
       "      <td>365.0</td>\n",
       "    </tr>\n",
       "    <tr>\n",
       "      <th>...</th>\n",
       "      <td>...</td>\n",
       "      <td>...</td>\n",
       "      <td>...</td>\n",
       "      <td>...</td>\n",
       "      <td>...</td>\n",
       "      <td>...</td>\n",
       "      <td>...</td>\n",
       "      <td>...</td>\n",
       "      <td>...</td>\n",
       "      <td>...</td>\n",
       "      <td>...</td>\n",
       "      <td>...</td>\n",
       "      <td>...</td>\n",
       "      <td>...</td>\n",
       "      <td>...</td>\n",
       "      <td>...</td>\n",
       "      <td>...</td>\n",
       "    </tr>\n",
       "    <tr>\n",
       "      <th>17995</th>\n",
       "      <td>17996</td>\n",
       "      <td>No</td>\n",
       "      <td>Cash Back</td>\n",
       "      <td>Letter</td>\n",
       "      <td>High</td>\n",
       "      <td>1</td>\n",
       "      <td>No</td>\n",
       "      <td>Low</td>\n",
       "      <td>1</td>\n",
       "      <td>1</td>\n",
       "      <td>5</td>\n",
       "      <td>Yes</td>\n",
       "      <td>167.50</td>\n",
       "      <td>136.0</td>\n",
       "      <td>65.0</td>\n",
       "      <td>71.0</td>\n",
       "      <td>398.0</td>\n",
       "    </tr>\n",
       "    <tr>\n",
       "      <th>17996</th>\n",
       "      <td>17997</td>\n",
       "      <td>No</td>\n",
       "      <td>Cash Back</td>\n",
       "      <td>Letter</td>\n",
       "      <td>High</td>\n",
       "      <td>1</td>\n",
       "      <td>No</td>\n",
       "      <td>Low</td>\n",
       "      <td>3</td>\n",
       "      <td>1</td>\n",
       "      <td>3</td>\n",
       "      <td>Yes</td>\n",
       "      <td>850.50</td>\n",
       "      <td>984.0</td>\n",
       "      <td>940.0</td>\n",
       "      <td>943.0</td>\n",
       "      <td>535.0</td>\n",
       "    </tr>\n",
       "    <tr>\n",
       "      <th>17997</th>\n",
       "      <td>17998</td>\n",
       "      <td>No</td>\n",
       "      <td>Cash Back</td>\n",
       "      <td>Letter</td>\n",
       "      <td>High</td>\n",
       "      <td>1</td>\n",
       "      <td>No</td>\n",
       "      <td>Low</td>\n",
       "      <td>2</td>\n",
       "      <td>1</td>\n",
       "      <td>4</td>\n",
       "      <td>No</td>\n",
       "      <td>1087.25</td>\n",
       "      <td>918.0</td>\n",
       "      <td>767.0</td>\n",
       "      <td>1170.0</td>\n",
       "      <td>1494.0</td>\n",
       "    </tr>\n",
       "    <tr>\n",
       "      <th>17998</th>\n",
       "      <td>17999</td>\n",
       "      <td>No</td>\n",
       "      <td>Cash Back</td>\n",
       "      <td>Letter</td>\n",
       "      <td>Medium</td>\n",
       "      <td>1</td>\n",
       "      <td>No</td>\n",
       "      <td>Medium</td>\n",
       "      <td>4</td>\n",
       "      <td>2</td>\n",
       "      <td>2</td>\n",
       "      <td>Yes</td>\n",
       "      <td>1022.25</td>\n",
       "      <td>626.0</td>\n",
       "      <td>983.0</td>\n",
       "      <td>865.0</td>\n",
       "      <td>1615.0</td>\n",
       "    </tr>\n",
       "    <tr>\n",
       "      <th>17999</th>\n",
       "      <td>18000</td>\n",
       "      <td>No</td>\n",
       "      <td>Cash Back</td>\n",
       "      <td>Letter</td>\n",
       "      <td>Low</td>\n",
       "      <td>2</td>\n",
       "      <td>No</td>\n",
       "      <td>Medium</td>\n",
       "      <td>2</td>\n",
       "      <td>1</td>\n",
       "      <td>3</td>\n",
       "      <td>No</td>\n",
       "      <td>1056.00</td>\n",
       "      <td>265.0</td>\n",
       "      <td>1378.0</td>\n",
       "      <td>1978.0</td>\n",
       "      <td>603.0</td>\n",
       "    </tr>\n",
       "  </tbody>\n",
       "</table>\n",
       "<p>18000 rows × 17 columns</p>\n",
       "</div>"
      ],
      "text/plain": [
       "       Customer Number Offer Accepted     Reward Mailer Type Income Level  \\\n",
       "0                    1             No  Air Miles      Letter         High   \n",
       "1                    2             No  Air Miles      Letter       Medium   \n",
       "2                    3             No  Air Miles    Postcard         High   \n",
       "3                    4             No  Air Miles      Letter       Medium   \n",
       "4                    5             No  Air Miles      Letter       Medium   \n",
       "...                ...            ...        ...         ...          ...   \n",
       "17995            17996             No  Cash Back      Letter         High   \n",
       "17996            17997             No  Cash Back      Letter         High   \n",
       "17997            17998             No  Cash Back      Letter         High   \n",
       "17998            17999             No  Cash Back      Letter       Medium   \n",
       "17999            18000             No  Cash Back      Letter          Low   \n",
       "\n",
       "       # Bank Accounts Open Overdraft Protection Credit Rating  \\\n",
       "0                         1                   No          High   \n",
       "1                         1                   No        Medium   \n",
       "2                         2                   No        Medium   \n",
       "3                         2                   No          High   \n",
       "4                         1                   No        Medium   \n",
       "...                     ...                  ...           ...   \n",
       "17995                     1                   No           Low   \n",
       "17996                     1                   No           Low   \n",
       "17997                     1                   No           Low   \n",
       "17998                     1                   No        Medium   \n",
       "17999                     2                   No        Medium   \n",
       "\n",
       "       # Credit Cards Held  # Homes Owned  Household Size Own Your Home  \\\n",
       "0                        2              1               4            No   \n",
       "1                        2              2               5           Yes   \n",
       "2                        2              1               2           Yes   \n",
       "3                        1              1               4            No   \n",
       "4                        2              1               6           Yes   \n",
       "...                    ...            ...             ...           ...   \n",
       "17995                    1              1               5           Yes   \n",
       "17996                    3              1               3           Yes   \n",
       "17997                    2              1               4            No   \n",
       "17998                    4              2               2           Yes   \n",
       "17999                    2              1               3            No   \n",
       "\n",
       "       Average Balance  Q1 Balance  Q2 Balance  Q3 Balance  Q4 Balance  \n",
       "0              1160.75      1669.0       877.0      1095.0      1002.0  \n",
       "1               147.25        39.0       106.0        78.0       366.0  \n",
       "2               276.50       367.0       352.0       145.0       242.0  \n",
       "3              1219.00      1578.0      1760.0      1119.0       419.0  \n",
       "4              1211.00      2140.0      1357.0       982.0       365.0  \n",
       "...                ...         ...         ...         ...         ...  \n",
       "17995           167.50       136.0        65.0        71.0       398.0  \n",
       "17996           850.50       984.0       940.0       943.0       535.0  \n",
       "17997          1087.25       918.0       767.0      1170.0      1494.0  \n",
       "17998          1022.25       626.0       983.0       865.0      1615.0  \n",
       "17999          1056.00       265.0      1378.0      1978.0       603.0  \n",
       "\n",
       "[18000 rows x 17 columns]"
      ]
     },
     "execution_count": 801,
     "metadata": {},
     "output_type": "execute_result"
    }
   ],
   "source": [
    "#importing dataset and taking a look\n",
    "data = pd.read_excel('creditcardmarketing.xlsx')\n",
    "data"
   ]
  },
  {
   "cell_type": "markdown",
   "id": "020eeb60",
   "metadata": {},
   "source": [
    "# Exploring Data + Basic cleaning + Data featuring\n",
    "In this part, we are exploring the dataset. Here are the questions we should answer:\n",
    "- What information does the dataset have?\n",
    "- What are the data types? \n",
    "- Which column contains the target variable? \n",
    "\n",
    "[<a href=\"#Credit-Card-Marketing-Project\">Back to Top</a>]\n"
   ]
  },
  {
   "cell_type": "code",
   "execution_count": 802,
   "id": "034f98c1",
   "metadata": {},
   "outputs": [
    {
     "name": "stdout",
     "output_type": "stream",
     "text": [
      "<class 'pandas.core.frame.DataFrame'>\n",
      "RangeIndex: 18000 entries, 0 to 17999\n",
      "Data columns (total 17 columns):\n",
      " #   Column                Non-Null Count  Dtype  \n",
      "---  ------                --------------  -----  \n",
      " 0   Customer Number       18000 non-null  int64  \n",
      " 1   Offer Accepted        18000 non-null  object \n",
      " 2   Reward                18000 non-null  object \n",
      " 3   Mailer Type           18000 non-null  object \n",
      " 4   Income Level          18000 non-null  object \n",
      " 5   # Bank Accounts Open  18000 non-null  int64  \n",
      " 6   Overdraft Protection  18000 non-null  object \n",
      " 7   Credit Rating         18000 non-null  object \n",
      " 8   # Credit Cards Held   18000 non-null  int64  \n",
      " 9   # Homes Owned         18000 non-null  int64  \n",
      " 10  Household Size        18000 non-null  int64  \n",
      " 11  Own Your Home         18000 non-null  object \n",
      " 12  Average Balance       17976 non-null  float64\n",
      " 13  Q1 Balance            17976 non-null  float64\n",
      " 14  Q2 Balance            17976 non-null  float64\n",
      " 15  Q3 Balance            17976 non-null  float64\n",
      " 16  Q4 Balance            17976 non-null  float64\n",
      "dtypes: float64(5), int64(5), object(7)\n",
      "memory usage: 2.3+ MB\n"
     ]
    }
   ],
   "source": [
    "data.info()"
   ]
  },
  {
   "cell_type": "markdown",
   "id": "9bad3cb2",
   "metadata": {},
   "source": [
    "### Here are the summary of the features: \n",
    "   ##### Discrete Numerical Data: \n",
    "        - Bank Account Open\n",
    "        - Credit Card Held\n",
    "        - Home Owned\n",
    "   ##### Continous Numercial Data:\n",
    "        - Balance (Average and for each quarter)\n",
    "   ##### Categorical Data:\n",
    "        - Offer Accepted (Target)\n",
    "        - Reward \n",
    "        - Income Level\n",
    "        - Overdraft Protection \n",
    "        - Credit Rating\n",
    "        - Own your Home"
   ]
  },
  {
   "cell_type": "code",
   "execution_count": 17,
   "id": "679186d8",
   "metadata": {},
   "outputs": [
    {
     "data": {
      "text/plain": [
       "Customer Number          0\n",
       "Offer Accepted           0\n",
       "Reward                   0\n",
       "Mailer Type              0\n",
       "Income Level             0\n",
       "# Bank Accounts Open     0\n",
       "Overdraft Protection     0\n",
       "Credit Rating            0\n",
       "# Credit Cards Held      0\n",
       "# Homes Owned            0\n",
       "Household Size           0\n",
       "Own Your Home            0\n",
       "Average Balance         24\n",
       "Q1 Balance              24\n",
       "Q2 Balance              24\n",
       "Q3 Balance              24\n",
       "Q4 Balance              24\n",
       "dtype: int64"
      ]
     },
     "execution_count": 17,
     "metadata": {},
     "output_type": "execute_result"
    }
   ],
   "source": [
    "##checking NaN data\n",
    "data.isna().sum()\n"
   ]
  },
  {
   "cell_type": "code",
   "execution_count": 803,
   "id": "ad0836dd",
   "metadata": {},
   "outputs": [],
   "source": [
    "##there are only 24 missing values, I decide to drop these values\n",
    "data = data[~(data['Q1 Balance'].isna())]"
   ]
  },
  {
   "cell_type": "code",
   "execution_count": 804,
   "id": "d72feb14",
   "metadata": {},
   "outputs": [
    {
     "data": {
      "text/plain": [
       "Index(['customer_number', 'offer_accepted', 'reward', 'mailer_type',\n",
       "       'income_level', '#_bank_accounts_open', 'overdraft_protection',\n",
       "       'credit_rating', '#_credit_cards_held', '#_homes_owned',\n",
       "       'household_size', 'own_your_home', 'average_balance', 'q1_balance',\n",
       "       'q2_balance', 'q3_balance', 'q4_balance'],\n",
       "      dtype='object')"
      ]
     },
     "execution_count": 804,
     "metadata": {},
     "output_type": "execute_result"
    }
   ],
   "source": [
    "##cleaning the column names\n",
    "data.columns = data.columns.str.lower()\n",
    "data.columns = data.columns.str.replace(' ', '_')\n",
    "data.columns"
   ]
  },
  {
   "cell_type": "code",
   "execution_count": 805,
   "id": "e211165b",
   "metadata": {},
   "outputs": [
    {
     "data": {
      "image/png": "[encoded data removed]",
      "text/plain": [
       "<Figure size 720x576 with 2 Axes>"
      ]
     },
     "metadata": {
      "needs_background": "light"
     },
     "output_type": "display_data"
    }
   ],
   "source": [
    "##checking the correlation of the numerical columns.\n",
    "corr_matrix = data.corr(method = 'pearson')\n",
    "fig, ax = plt.subplots(figsize = (10, 8))\n",
    "ax = sns.heatmap(corr_matrix, annot = True)\n",
    "plt.show()"
   ]
  },
  {
   "cell_type": "code",
   "execution_count": 806,
   "id": "598ed10e",
   "metadata": {},
   "outputs": [],
   "source": [
    "#There is high correlation betwenn q2, q3 balance with average balance. \n",
    "#I decided to only keep the average_balance for the first try out: data_avg1\n",
    "#I am also dropping customer_number, as it doesn't add any value to the model. \n",
    "\n",
    "data_avg1 = data.drop(['q1_balance', 'q2_balance', 'q3_balance', 'q4_balance', 'customer_number'], axis =1)"
   ]
  },
  {
   "cell_type": "code",
   "execution_count": 10,
   "id": "07db6ede",
   "metadata": {},
   "outputs": [
    {
     "data": {
      "text/html": [
       "<div>\n",
       "<style scoped>\n",
       "    .dataframe tbody tr th:only-of-type {\n",
       "        vertical-align: middle;\n",
       "    }\n",
       "\n",
       "    .dataframe tbody tr th {\n",
       "        vertical-align: top;\n",
       "    }\n",
       "\n",
       "    .dataframe thead th {\n",
       "        text-align: right;\n",
       "    }\n",
       "</style>\n",
       "<table border=\"1\" class=\"dataframe\">\n",
       "  <thead>\n",
       "    <tr style=\"text-align: right;\">\n",
       "      <th></th>\n",
       "      <th>offer_accepted</th>\n",
       "      <th>reward</th>\n",
       "      <th>mailer_type</th>\n",
       "      <th>income_level</th>\n",
       "      <th>#_bank_accounts_open</th>\n",
       "      <th>overdraft_protection</th>\n",
       "      <th>credit_rating</th>\n",
       "      <th>#_credit_cards_held</th>\n",
       "      <th>#_homes_owned</th>\n",
       "      <th>household_size</th>\n",
       "      <th>own_your_home</th>\n",
       "      <th>average_balance</th>\n",
       "    </tr>\n",
       "  </thead>\n",
       "  <tbody>\n",
       "    <tr>\n",
       "      <th>0</th>\n",
       "      <td>No</td>\n",
       "      <td>Air Miles</td>\n",
       "      <td>Letter</td>\n",
       "      <td>High</td>\n",
       "      <td>1</td>\n",
       "      <td>No</td>\n",
       "      <td>High</td>\n",
       "      <td>2</td>\n",
       "      <td>1</td>\n",
       "      <td>4</td>\n",
       "      <td>No</td>\n",
       "      <td>1160.75</td>\n",
       "    </tr>\n",
       "    <tr>\n",
       "      <th>1</th>\n",
       "      <td>No</td>\n",
       "      <td>Air Miles</td>\n",
       "      <td>Letter</td>\n",
       "      <td>Medium</td>\n",
       "      <td>1</td>\n",
       "      <td>No</td>\n",
       "      <td>Medium</td>\n",
       "      <td>2</td>\n",
       "      <td>2</td>\n",
       "      <td>5</td>\n",
       "      <td>Yes</td>\n",
       "      <td>147.25</td>\n",
       "    </tr>\n",
       "    <tr>\n",
       "      <th>2</th>\n",
       "      <td>No</td>\n",
       "      <td>Air Miles</td>\n",
       "      <td>Postcard</td>\n",
       "      <td>High</td>\n",
       "      <td>2</td>\n",
       "      <td>No</td>\n",
       "      <td>Medium</td>\n",
       "      <td>2</td>\n",
       "      <td>1</td>\n",
       "      <td>2</td>\n",
       "      <td>Yes</td>\n",
       "      <td>276.50</td>\n",
       "    </tr>\n",
       "    <tr>\n",
       "      <th>3</th>\n",
       "      <td>No</td>\n",
       "      <td>Air Miles</td>\n",
       "      <td>Letter</td>\n",
       "      <td>Medium</td>\n",
       "      <td>2</td>\n",
       "      <td>No</td>\n",
       "      <td>High</td>\n",
       "      <td>1</td>\n",
       "      <td>1</td>\n",
       "      <td>4</td>\n",
       "      <td>No</td>\n",
       "      <td>1219.00</td>\n",
       "    </tr>\n",
       "    <tr>\n",
       "      <th>4</th>\n",
       "      <td>No</td>\n",
       "      <td>Air Miles</td>\n",
       "      <td>Letter</td>\n",
       "      <td>Medium</td>\n",
       "      <td>1</td>\n",
       "      <td>No</td>\n",
       "      <td>Medium</td>\n",
       "      <td>2</td>\n",
       "      <td>1</td>\n",
       "      <td>6</td>\n",
       "      <td>Yes</td>\n",
       "      <td>1211.00</td>\n",
       "    </tr>\n",
       "    <tr>\n",
       "      <th>...</th>\n",
       "      <td>...</td>\n",
       "      <td>...</td>\n",
       "      <td>...</td>\n",
       "      <td>...</td>\n",
       "      <td>...</td>\n",
       "      <td>...</td>\n",
       "      <td>...</td>\n",
       "      <td>...</td>\n",
       "      <td>...</td>\n",
       "      <td>...</td>\n",
       "      <td>...</td>\n",
       "      <td>...</td>\n",
       "    </tr>\n",
       "    <tr>\n",
       "      <th>17995</th>\n",
       "      <td>No</td>\n",
       "      <td>Cash Back</td>\n",
       "      <td>Letter</td>\n",
       "      <td>High</td>\n",
       "      <td>1</td>\n",
       "      <td>No</td>\n",
       "      <td>Low</td>\n",
       "      <td>1</td>\n",
       "      <td>1</td>\n",
       "      <td>5</td>\n",
       "      <td>Yes</td>\n",
       "      <td>167.50</td>\n",
       "    </tr>\n",
       "    <tr>\n",
       "      <th>17996</th>\n",
       "      <td>No</td>\n",
       "      <td>Cash Back</td>\n",
       "      <td>Letter</td>\n",
       "      <td>High</td>\n",
       "      <td>1</td>\n",
       "      <td>No</td>\n",
       "      <td>Low</td>\n",
       "      <td>3</td>\n",
       "      <td>1</td>\n",
       "      <td>3</td>\n",
       "      <td>Yes</td>\n",
       "      <td>850.50</td>\n",
       "    </tr>\n",
       "    <tr>\n",
       "      <th>17997</th>\n",
       "      <td>No</td>\n",
       "      <td>Cash Back</td>\n",
       "      <td>Letter</td>\n",
       "      <td>High</td>\n",
       "      <td>1</td>\n",
       "      <td>No</td>\n",
       "      <td>Low</td>\n",
       "      <td>2</td>\n",
       "      <td>1</td>\n",
       "      <td>4</td>\n",
       "      <td>No</td>\n",
       "      <td>1087.25</td>\n",
       "    </tr>\n",
       "    <tr>\n",
       "      <th>17998</th>\n",
       "      <td>No</td>\n",
       "      <td>Cash Back</td>\n",
       "      <td>Letter</td>\n",
       "      <td>Medium</td>\n",
       "      <td>1</td>\n",
       "      <td>No</td>\n",
       "      <td>Medium</td>\n",
       "      <td>4</td>\n",
       "      <td>2</td>\n",
       "      <td>2</td>\n",
       "      <td>Yes</td>\n",
       "      <td>1022.25</td>\n",
       "    </tr>\n",
       "    <tr>\n",
       "      <th>17999</th>\n",
       "      <td>No</td>\n",
       "      <td>Cash Back</td>\n",
       "      <td>Letter</td>\n",
       "      <td>Low</td>\n",
       "      <td>2</td>\n",
       "      <td>No</td>\n",
       "      <td>Medium</td>\n",
       "      <td>2</td>\n",
       "      <td>1</td>\n",
       "      <td>3</td>\n",
       "      <td>No</td>\n",
       "      <td>1056.00</td>\n",
       "    </tr>\n",
       "  </tbody>\n",
       "</table>\n",
       "<p>17976 rows × 12 columns</p>\n",
       "</div>"
      ],
      "text/plain": [
       "      offer_accepted     reward mailer_type income_level  \\\n",
       "0                 No  Air Miles      Letter         High   \n",
       "1                 No  Air Miles      Letter       Medium   \n",
       "2                 No  Air Miles    Postcard         High   \n",
       "3                 No  Air Miles      Letter       Medium   \n",
       "4                 No  Air Miles      Letter       Medium   \n",
       "...              ...        ...         ...          ...   \n",
       "17995             No  Cash Back      Letter         High   \n",
       "17996             No  Cash Back      Letter         High   \n",
       "17997             No  Cash Back      Letter         High   \n",
       "17998             No  Cash Back      Letter       Medium   \n",
       "17999             No  Cash Back      Letter          Low   \n",
       "\n",
       "       #_bank_accounts_open overdraft_protection credit_rating  \\\n",
       "0                         1                   No          High   \n",
       "1                         1                   No        Medium   \n",
       "2                         2                   No        Medium   \n",
       "3                         2                   No          High   \n",
       "4                         1                   No        Medium   \n",
       "...                     ...                  ...           ...   \n",
       "17995                     1                   No           Low   \n",
       "17996                     1                   No           Low   \n",
       "17997                     1                   No           Low   \n",
       "17998                     1                   No        Medium   \n",
       "17999                     2                   No        Medium   \n",
       "\n",
       "       #_credit_cards_held  #_homes_owned  household_size own_your_home  \\\n",
       "0                        2              1               4            No   \n",
       "1                        2              2               5           Yes   \n",
       "2                        2              1               2           Yes   \n",
       "3                        1              1               4            No   \n",
       "4                        2              1               6           Yes   \n",
       "...                    ...            ...             ...           ...   \n",
       "17995                    1              1               5           Yes   \n",
       "17996                    3              1               3           Yes   \n",
       "17997                    2              1               4            No   \n",
       "17998                    4              2               2           Yes   \n",
       "17999                    2              1               3            No   \n",
       "\n",
       "       average_balance  \n",
       "0              1160.75  \n",
       "1               147.25  \n",
       "2               276.50  \n",
       "3              1219.00  \n",
       "4              1211.00  \n",
       "...                ...  \n",
       "17995           167.50  \n",
       "17996           850.50  \n",
       "17997          1087.25  \n",
       "17998          1022.25  \n",
       "17999          1056.00  \n",
       "\n",
       "[17976 rows x 12 columns]"
      ]
     },
     "execution_count": 10,
     "metadata": {},
     "output_type": "execute_result"
    }
   ],
   "source": [
    "data_avg1"
   ]
  },
  {
   "cell_type": "code",
   "execution_count": 11,
   "id": "232758b1",
   "metadata": {},
   "outputs": [
    {
     "data": {
      "image/png": "[encoded data removed]",
      "text/plain": [
       "<Figure size 360x360 with 1 Axes>"
      ]
     },
     "metadata": {
      "needs_background": "light"
     },
     "output_type": "display_data"
    },
    {
     "data": {
      "image/png": "[encoded data removed]",
      "text/plain": [
       "<Figure size 360x360 with 1 Axes>"
      ]
     },
     "metadata": {
      "needs_background": "light"
     },
     "output_type": "display_data"
    },
    {
     "data": {
      "image/png": "[encoded data removed]",
      "text/plain": [
       "<Figure size 360x360 with 1 Axes>"
      ]
     },
     "metadata": {
      "needs_background": "light"
     },
     "output_type": "display_data"
    },
    {
     "data": {
      "image/png": "[encoded data removed]",
      "text/plain": [
       "<Figure size 360x360 with 1 Axes>"
      ]
     },
     "metadata": {
      "needs_background": "light"
     },
     "output_type": "display_data"
    },
    {
     "data": {
      "image/png": "[encoded data removed]",
      "text/plain": [
       "<Figure size 360x360 with 1 Axes>"
      ]
     },
     "metadata": {
      "needs_background": "light"
     },
     "output_type": "display_data"
    },
    {
     "data": {
      "image/png": "[encoded data removed]",
      "text/plain": [
       "<Figure size 360x360 with 1 Axes>"
      ]
     },
     "metadata": {
      "needs_background": "light"
     },
     "output_type": "display_data"
    },
    {
     "data": {
      "image/png": "[encoded data removed]",
      "text/plain": [
       "<Figure size 360x360 with 1 Axes>"
      ]
     },
     "metadata": {
      "needs_background": "light"
     },
     "output_type": "display_data"
    },
    {
     "data": {
      "image/png": "[encoded data removed]",
      "text/plain": [
       "<Figure size 360x360 with 1 Axes>"
      ]
     },
     "metadata": {
      "needs_background": "light"
     },
     "output_type": "display_data"
    },
    {
     "data": {
      "image/png": "[encoded data removed]",
      "text/plain": [
       "<Figure size 360x360 with 1 Axes>"
      ]
     },
     "metadata": {
      "needs_background": "light"
     },
     "output_type": "display_data"
    },
    {
     "data": {
      "image/png": "[encoded data removed]",
      "text/plain": [
       "<Figure size 360x360 with 1 Axes>"
      ]
     },
     "metadata": {
      "needs_background": "light"
     },
     "output_type": "display_data"
    },
    {
     "data": {
      "image/png": "[encoded data removed]",
      "text/plain": [
       "<Figure size 360x360 with 1 Axes>"
      ]
     },
     "metadata": {
      "needs_background": "light"
     },
     "output_type": "display_data"
    },
    {
     "data": {
      "image/png": "[encoded data removed]",
      "text/plain": [
       "<Figure size 360x360 with 1 Axes>"
      ]
     },
     "metadata": {
      "needs_background": "light"
     },
     "output_type": "display_data"
    }
   ],
   "source": [
    "##Using histogram to see how the data distribute in all features\n",
    "\n",
    "for col in data_avg1.columns:\n",
    "    sns.displot(data = data_avg1[col], bins = 50)\n",
    "plt.show()\n",
    "\n",
    "##google how to normalize discrete numerical features. \n",
    "##own_your_home = under sample and oversample at the same time. "
   ]
  },
  {
   "cell_type": "code",
   "execution_count": 12,
   "id": "a4378883",
   "metadata": {},
   "outputs": [
    {
     "data": {
      "text/plain": [
       "<AxesSubplot:xlabel='average_balance'>"
      ]
     },
     "execution_count": 12,
     "metadata": {},
     "output_type": "execute_result"
    },
    {
     "data": {
      "image/png": "[encoded data removed]",
      "text/plain": [
       "<Figure size 432x288 with 1 Axes>"
      ]
     },
     "metadata": {
      "needs_background": "light"
     },
     "output_type": "display_data"
    }
   ],
   "source": [
    "## Using boxplot to understand the distribution of the column 'average_balance'\n",
    "sns.boxplot(x = data_avg1['average_balance'])    "
   ]
  },
  {
   "cell_type": "code",
   "execution_count": 13,
   "id": "54b57ab2",
   "metadata": {},
   "outputs": [
    {
     "name": "stdout",
     "output_type": "stream",
     "text": [
      "No     16955\n",
      "Yes     1021\n",
      "Name: offer_accepted, dtype: int64\n",
      "Air Miles    6047\n",
      "Cash Back    5995\n",
      "Points       5934\n",
      "Name: reward, dtype: int64\n",
      "Postcard    9134\n",
      "Letter      8842\n",
      "Name: mailer_type, dtype: int64\n",
      "Medium    9002\n",
      "High      4519\n",
      "Low       4455\n",
      "Name: income_level, dtype: int64\n",
      "1    13674\n",
      "2     4007\n",
      "3      295\n",
      "Name: #_bank_accounts_open, dtype: int64\n",
      "No     15300\n",
      "Yes     2676\n",
      "Name: overdraft_protection, dtype: int64\n",
      "High      6064\n",
      "Medium    5964\n",
      "Low       5948\n",
      "Name: credit_rating, dtype: int64\n",
      "2    7933\n",
      "1    6147\n",
      "3    3381\n",
      "4     515\n",
      "Name: #_credit_cards_held, dtype: int64\n",
      "1    14502\n",
      "2     3289\n",
      "3      185\n",
      "Name: #_homes_owned, dtype: int64\n",
      "3    5705\n",
      "4    5532\n",
      "5    2851\n",
      "2    2809\n",
      "1     539\n",
      "6     538\n",
      "8       1\n",
      "9       1\n",
      "Name: household_size, dtype: int64\n",
      "Yes    11636\n",
      "No      6340\n",
      "Name: own_your_home, dtype: int64\n",
      "1127.00    17\n",
      "1070.00    16\n",
      "1036.00    16\n",
      "1078.50    16\n",
      "1053.50    16\n",
      "           ..\n",
      "412.25      1\n",
      "402.00      1\n",
      "394.75      1\n",
      "836.75      1\n",
      "1427.25     1\n",
      "Name: average_balance, Length: 4728, dtype: int64\n"
     ]
    }
   ],
   "source": [
    "##Taking a deep look of the categorical data\n",
    "\n",
    "for col in data_avg1.columns:\n",
    "    a = data_avg1[col].value_counts()\n",
    "    print(a)"
   ]
  },
  {
   "cell_type": "code",
   "execution_count": 14,
   "id": "374604fd",
   "metadata": {},
   "outputs": [],
   "source": [
    "##income_level, credit_rating convert to numerical features, as there is a level increasing in these features\n",
    "\n",
    "data_avg1['income_level'].replace({\"High\":\"3\", \"Medium\" : \"2\", \"Low\" : \"1\"}, inplace=True)\n",
    "data_avg1['credit_rating'].replace({\"High\":\"3\", \"Medium\" : \"2\", \"Low\" : \"1\"}, inplace=True)"
   ]
  },
  {
   "cell_type": "code",
   "execution_count": 15,
   "id": "9be19503",
   "metadata": {},
   "outputs": [
    {
     "data": {
      "text/html": [
       "<div>\n",
       "<style scoped>\n",
       "    .dataframe tbody tr th:only-of-type {\n",
       "        vertical-align: middle;\n",
       "    }\n",
       "\n",
       "    .dataframe tbody tr th {\n",
       "        vertical-align: top;\n",
       "    }\n",
       "\n",
       "    .dataframe thead th {\n",
       "        text-align: right;\n",
       "    }\n",
       "</style>\n",
       "<table border=\"1\" class=\"dataframe\">\n",
       "  <thead>\n",
       "    <tr style=\"text-align: right;\">\n",
       "      <th></th>\n",
       "      <th>offer_accepted</th>\n",
       "      <th>reward</th>\n",
       "      <th>mailer_type</th>\n",
       "      <th>income_level</th>\n",
       "      <th>#_bank_accounts_open</th>\n",
       "      <th>overdraft_protection</th>\n",
       "      <th>credit_rating</th>\n",
       "      <th>#_credit_cards_held</th>\n",
       "      <th>#_homes_owned</th>\n",
       "      <th>household_size</th>\n",
       "      <th>own_your_home</th>\n",
       "      <th>average_balance</th>\n",
       "    </tr>\n",
       "  </thead>\n",
       "  <tbody>\n",
       "    <tr>\n",
       "      <th>0</th>\n",
       "      <td>No</td>\n",
       "      <td>Air Miles</td>\n",
       "      <td>Letter</td>\n",
       "      <td>3</td>\n",
       "      <td>1</td>\n",
       "      <td>No</td>\n",
       "      <td>3</td>\n",
       "      <td>2</td>\n",
       "      <td>1</td>\n",
       "      <td>4</td>\n",
       "      <td>No</td>\n",
       "      <td>1160.75</td>\n",
       "    </tr>\n",
       "    <tr>\n",
       "      <th>1</th>\n",
       "      <td>No</td>\n",
       "      <td>Air Miles</td>\n",
       "      <td>Letter</td>\n",
       "      <td>2</td>\n",
       "      <td>1</td>\n",
       "      <td>No</td>\n",
       "      <td>2</td>\n",
       "      <td>2</td>\n",
       "      <td>2</td>\n",
       "      <td>5</td>\n",
       "      <td>Yes</td>\n",
       "      <td>147.25</td>\n",
       "    </tr>\n",
       "    <tr>\n",
       "      <th>2</th>\n",
       "      <td>No</td>\n",
       "      <td>Air Miles</td>\n",
       "      <td>Postcard</td>\n",
       "      <td>3</td>\n",
       "      <td>2</td>\n",
       "      <td>No</td>\n",
       "      <td>2</td>\n",
       "      <td>2</td>\n",
       "      <td>1</td>\n",
       "      <td>2</td>\n",
       "      <td>Yes</td>\n",
       "      <td>276.50</td>\n",
       "    </tr>\n",
       "    <tr>\n",
       "      <th>3</th>\n",
       "      <td>No</td>\n",
       "      <td>Air Miles</td>\n",
       "      <td>Letter</td>\n",
       "      <td>2</td>\n",
       "      <td>2</td>\n",
       "      <td>No</td>\n",
       "      <td>3</td>\n",
       "      <td>1</td>\n",
       "      <td>1</td>\n",
       "      <td>4</td>\n",
       "      <td>No</td>\n",
       "      <td>1219.00</td>\n",
       "    </tr>\n",
       "    <tr>\n",
       "      <th>4</th>\n",
       "      <td>No</td>\n",
       "      <td>Air Miles</td>\n",
       "      <td>Letter</td>\n",
       "      <td>2</td>\n",
       "      <td>1</td>\n",
       "      <td>No</td>\n",
       "      <td>2</td>\n",
       "      <td>2</td>\n",
       "      <td>1</td>\n",
       "      <td>6</td>\n",
       "      <td>Yes</td>\n",
       "      <td>1211.00</td>\n",
       "    </tr>\n",
       "    <tr>\n",
       "      <th>...</th>\n",
       "      <td>...</td>\n",
       "      <td>...</td>\n",
       "      <td>...</td>\n",
       "      <td>...</td>\n",
       "      <td>...</td>\n",
       "      <td>...</td>\n",
       "      <td>...</td>\n",
       "      <td>...</td>\n",
       "      <td>...</td>\n",
       "      <td>...</td>\n",
       "      <td>...</td>\n",
       "      <td>...</td>\n",
       "    </tr>\n",
       "    <tr>\n",
       "      <th>17995</th>\n",
       "      <td>No</td>\n",
       "      <td>Cash Back</td>\n",
       "      <td>Letter</td>\n",
       "      <td>3</td>\n",
       "      <td>1</td>\n",
       "      <td>No</td>\n",
       "      <td>1</td>\n",
       "      <td>1</td>\n",
       "      <td>1</td>\n",
       "      <td>5</td>\n",
       "      <td>Yes</td>\n",
       "      <td>167.50</td>\n",
       "    </tr>\n",
       "    <tr>\n",
       "      <th>17996</th>\n",
       "      <td>No</td>\n",
       "      <td>Cash Back</td>\n",
       "      <td>Letter</td>\n",
       "      <td>3</td>\n",
       "      <td>1</td>\n",
       "      <td>No</td>\n",
       "      <td>1</td>\n",
       "      <td>3</td>\n",
       "      <td>1</td>\n",
       "      <td>3</td>\n",
       "      <td>Yes</td>\n",
       "      <td>850.50</td>\n",
       "    </tr>\n",
       "    <tr>\n",
       "      <th>17997</th>\n",
       "      <td>No</td>\n",
       "      <td>Cash Back</td>\n",
       "      <td>Letter</td>\n",
       "      <td>3</td>\n",
       "      <td>1</td>\n",
       "      <td>No</td>\n",
       "      <td>1</td>\n",
       "      <td>2</td>\n",
       "      <td>1</td>\n",
       "      <td>4</td>\n",
       "      <td>No</td>\n",
       "      <td>1087.25</td>\n",
       "    </tr>\n",
       "    <tr>\n",
       "      <th>17998</th>\n",
       "      <td>No</td>\n",
       "      <td>Cash Back</td>\n",
       "      <td>Letter</td>\n",
       "      <td>2</td>\n",
       "      <td>1</td>\n",
       "      <td>No</td>\n",
       "      <td>2</td>\n",
       "      <td>4</td>\n",
       "      <td>2</td>\n",
       "      <td>2</td>\n",
       "      <td>Yes</td>\n",
       "      <td>1022.25</td>\n",
       "    </tr>\n",
       "    <tr>\n",
       "      <th>17999</th>\n",
       "      <td>No</td>\n",
       "      <td>Cash Back</td>\n",
       "      <td>Letter</td>\n",
       "      <td>1</td>\n",
       "      <td>2</td>\n",
       "      <td>No</td>\n",
       "      <td>2</td>\n",
       "      <td>2</td>\n",
       "      <td>1</td>\n",
       "      <td>3</td>\n",
       "      <td>No</td>\n",
       "      <td>1056.00</td>\n",
       "    </tr>\n",
       "  </tbody>\n",
       "</table>\n",
       "<p>17976 rows × 12 columns</p>\n",
       "</div>"
      ],
      "text/plain": [
       "      offer_accepted     reward mailer_type income_level  \\\n",
       "0                 No  Air Miles      Letter            3   \n",
       "1                 No  Air Miles      Letter            2   \n",
       "2                 No  Air Miles    Postcard            3   \n",
       "3                 No  Air Miles      Letter            2   \n",
       "4                 No  Air Miles      Letter            2   \n",
       "...              ...        ...         ...          ...   \n",
       "17995             No  Cash Back      Letter            3   \n",
       "17996             No  Cash Back      Letter            3   \n",
       "17997             No  Cash Back      Letter            3   \n",
       "17998             No  Cash Back      Letter            2   \n",
       "17999             No  Cash Back      Letter            1   \n",
       "\n",
       "       #_bank_accounts_open overdraft_protection credit_rating  \\\n",
       "0                         1                   No             3   \n",
       "1                         1                   No             2   \n",
       "2                         2                   No             2   \n",
       "3                         2                   No             3   \n",
       "4                         1                   No             2   \n",
       "...                     ...                  ...           ...   \n",
       "17995                     1                   No             1   \n",
       "17996                     1                   No             1   \n",
       "17997                     1                   No             1   \n",
       "17998                     1                   No             2   \n",
       "17999                     2                   No             2   \n",
       "\n",
       "       #_credit_cards_held  #_homes_owned  household_size own_your_home  \\\n",
       "0                        2              1               4            No   \n",
       "1                        2              2               5           Yes   \n",
       "2                        2              1               2           Yes   \n",
       "3                        1              1               4            No   \n",
       "4                        2              1               6           Yes   \n",
       "...                    ...            ...             ...           ...   \n",
       "17995                    1              1               5           Yes   \n",
       "17996                    3              1               3           Yes   \n",
       "17997                    2              1               4            No   \n",
       "17998                    4              2               2           Yes   \n",
       "17999                    2              1               3            No   \n",
       "\n",
       "       average_balance  \n",
       "0              1160.75  \n",
       "1               147.25  \n",
       "2               276.50  \n",
       "3              1219.00  \n",
       "4              1211.00  \n",
       "...                ...  \n",
       "17995           167.50  \n",
       "17996           850.50  \n",
       "17997          1087.25  \n",
       "17998          1022.25  \n",
       "17999          1056.00  \n",
       "\n",
       "[17976 rows x 12 columns]"
      ]
     },
     "execution_count": 15,
     "metadata": {},
     "output_type": "execute_result"
    }
   ],
   "source": [
    "data_avg1"
   ]
  },
  {
   "cell_type": "markdown",
   "id": "d5d0da1f",
   "metadata": {},
   "source": [
    "### Modeling: Model M1 \n",
    "#without any feature engineering, except encoding catagocial data\n",
    "[<a href=\"#Credit-Card-Marketing-Project\">Back to Top</a>]\n"
   ]
  },
  {
   "cell_type": "code",
   "execution_count": 19,
   "id": "b5a2e0fc",
   "metadata": {},
   "outputs": [],
   "source": [
    "##Encoding categorical data\n",
    "data_avg_m1 = pd.get_dummies(data_avg1, columns = ['offer_accepted','reward', 'mailer_type', 'overdraft_protection', 'own_your_home'], drop_first = True)\n"
   ]
  },
  {
   "cell_type": "code",
   "execution_count": 20,
   "id": "90c8f8e9",
   "metadata": {},
   "outputs": [],
   "source": [
    "##Converting data type\n",
    "data_avg_m1['income_level'] = data_avg_m1['income_level'].astype('int')\n",
    "data_avg_m1['credit_rating'] = data_avg_m1['credit_rating'].astype('int')"
   ]
  },
  {
   "cell_type": "code",
   "execution_count": 21,
   "id": "819b7256",
   "metadata": {},
   "outputs": [
    {
     "data": {
      "text/html": [
       "<div>\n",
       "<style scoped>\n",
       "    .dataframe tbody tr th:only-of-type {\n",
       "        vertical-align: middle;\n",
       "    }\n",
       "\n",
       "    .dataframe tbody tr th {\n",
       "        vertical-align: top;\n",
       "    }\n",
       "\n",
       "    .dataframe thead th {\n",
       "        text-align: right;\n",
       "    }\n",
       "</style>\n",
       "<table border=\"1\" class=\"dataframe\">\n",
       "  <thead>\n",
       "    <tr style=\"text-align: right;\">\n",
       "      <th></th>\n",
       "      <th>income_level</th>\n",
       "      <th>#_bank_accounts_open</th>\n",
       "      <th>credit_rating</th>\n",
       "      <th>#_credit_cards_held</th>\n",
       "      <th>#_homes_owned</th>\n",
       "      <th>household_size</th>\n",
       "      <th>average_balance</th>\n",
       "      <th>offer_accepted_Yes</th>\n",
       "      <th>reward_Cash Back</th>\n",
       "      <th>reward_Points</th>\n",
       "      <th>mailer_type_Postcard</th>\n",
       "      <th>overdraft_protection_Yes</th>\n",
       "      <th>own_your_home_Yes</th>\n",
       "    </tr>\n",
       "  </thead>\n",
       "  <tbody>\n",
       "    <tr>\n",
       "      <th>0</th>\n",
       "      <td>3</td>\n",
       "      <td>1</td>\n",
       "      <td>3</td>\n",
       "      <td>2</td>\n",
       "      <td>1</td>\n",
       "      <td>4</td>\n",
       "      <td>1160.75</td>\n",
       "      <td>0</td>\n",
       "      <td>0</td>\n",
       "      <td>0</td>\n",
       "      <td>0</td>\n",
       "      <td>0</td>\n",
       "      <td>0</td>\n",
       "    </tr>\n",
       "    <tr>\n",
       "      <th>1</th>\n",
       "      <td>2</td>\n",
       "      <td>1</td>\n",
       "      <td>2</td>\n",
       "      <td>2</td>\n",
       "      <td>2</td>\n",
       "      <td>5</td>\n",
       "      <td>147.25</td>\n",
       "      <td>0</td>\n",
       "      <td>0</td>\n",
       "      <td>0</td>\n",
       "      <td>0</td>\n",
       "      <td>0</td>\n",
       "      <td>1</td>\n",
       "    </tr>\n",
       "    <tr>\n",
       "      <th>2</th>\n",
       "      <td>3</td>\n",
       "      <td>2</td>\n",
       "      <td>2</td>\n",
       "      <td>2</td>\n",
       "      <td>1</td>\n",
       "      <td>2</td>\n",
       "      <td>276.50</td>\n",
       "      <td>0</td>\n",
       "      <td>0</td>\n",
       "      <td>0</td>\n",
       "      <td>1</td>\n",
       "      <td>0</td>\n",
       "      <td>1</td>\n",
       "    </tr>\n",
       "    <tr>\n",
       "      <th>3</th>\n",
       "      <td>2</td>\n",
       "      <td>2</td>\n",
       "      <td>3</td>\n",
       "      <td>1</td>\n",
       "      <td>1</td>\n",
       "      <td>4</td>\n",
       "      <td>1219.00</td>\n",
       "      <td>0</td>\n",
       "      <td>0</td>\n",
       "      <td>0</td>\n",
       "      <td>0</td>\n",
       "      <td>0</td>\n",
       "      <td>0</td>\n",
       "    </tr>\n",
       "    <tr>\n",
       "      <th>4</th>\n",
       "      <td>2</td>\n",
       "      <td>1</td>\n",
       "      <td>2</td>\n",
       "      <td>2</td>\n",
       "      <td>1</td>\n",
       "      <td>6</td>\n",
       "      <td>1211.00</td>\n",
       "      <td>0</td>\n",
       "      <td>0</td>\n",
       "      <td>0</td>\n",
       "      <td>0</td>\n",
       "      <td>0</td>\n",
       "      <td>1</td>\n",
       "    </tr>\n",
       "    <tr>\n",
       "      <th>...</th>\n",
       "      <td>...</td>\n",
       "      <td>...</td>\n",
       "      <td>...</td>\n",
       "      <td>...</td>\n",
       "      <td>...</td>\n",
       "      <td>...</td>\n",
       "      <td>...</td>\n",
       "      <td>...</td>\n",
       "      <td>...</td>\n",
       "      <td>...</td>\n",
       "      <td>...</td>\n",
       "      <td>...</td>\n",
       "      <td>...</td>\n",
       "    </tr>\n",
       "    <tr>\n",
       "      <th>17995</th>\n",
       "      <td>3</td>\n",
       "      <td>1</td>\n",
       "      <td>1</td>\n",
       "      <td>1</td>\n",
       "      <td>1</td>\n",
       "      <td>5</td>\n",
       "      <td>167.50</td>\n",
       "      <td>0</td>\n",
       "      <td>1</td>\n",
       "      <td>0</td>\n",
       "      <td>0</td>\n",
       "      <td>0</td>\n",
       "      <td>1</td>\n",
       "    </tr>\n",
       "    <tr>\n",
       "      <th>17996</th>\n",
       "      <td>3</td>\n",
       "      <td>1</td>\n",
       "      <td>1</td>\n",
       "      <td>3</td>\n",
       "      <td>1</td>\n",
       "      <td>3</td>\n",
       "      <td>850.50</td>\n",
       "      <td>0</td>\n",
       "      <td>1</td>\n",
       "      <td>0</td>\n",
       "      <td>0</td>\n",
       "      <td>0</td>\n",
       "      <td>1</td>\n",
       "    </tr>\n",
       "    <tr>\n",
       "      <th>17997</th>\n",
       "      <td>3</td>\n",
       "      <td>1</td>\n",
       "      <td>1</td>\n",
       "      <td>2</td>\n",
       "      <td>1</td>\n",
       "      <td>4</td>\n",
       "      <td>1087.25</td>\n",
       "      <td>0</td>\n",
       "      <td>1</td>\n",
       "      <td>0</td>\n",
       "      <td>0</td>\n",
       "      <td>0</td>\n",
       "      <td>0</td>\n",
       "    </tr>\n",
       "    <tr>\n",
       "      <th>17998</th>\n",
       "      <td>2</td>\n",
       "      <td>1</td>\n",
       "      <td>2</td>\n",
       "      <td>4</td>\n",
       "      <td>2</td>\n",
       "      <td>2</td>\n",
       "      <td>1022.25</td>\n",
       "      <td>0</td>\n",
       "      <td>1</td>\n",
       "      <td>0</td>\n",
       "      <td>0</td>\n",
       "      <td>0</td>\n",
       "      <td>1</td>\n",
       "    </tr>\n",
       "    <tr>\n",
       "      <th>17999</th>\n",
       "      <td>1</td>\n",
       "      <td>2</td>\n",
       "      <td>2</td>\n",
       "      <td>2</td>\n",
       "      <td>1</td>\n",
       "      <td>3</td>\n",
       "      <td>1056.00</td>\n",
       "      <td>0</td>\n",
       "      <td>1</td>\n",
       "      <td>0</td>\n",
       "      <td>0</td>\n",
       "      <td>0</td>\n",
       "      <td>0</td>\n",
       "    </tr>\n",
       "  </tbody>\n",
       "</table>\n",
       "<p>17976 rows × 13 columns</p>\n",
       "</div>"
      ],
      "text/plain": [
       "       income_level  #_bank_accounts_open  credit_rating  #_credit_cards_held  \\\n",
       "0                 3                     1              3                    2   \n",
       "1                 2                     1              2                    2   \n",
       "2                 3                     2              2                    2   \n",
       "3                 2                     2              3                    1   \n",
       "4                 2                     1              2                    2   \n",
       "...             ...                   ...            ...                  ...   \n",
       "17995             3                     1              1                    1   \n",
       "17996             3                     1              1                    3   \n",
       "17997             3                     1              1                    2   \n",
       "17998             2                     1              2                    4   \n",
       "17999             1                     2              2                    2   \n",
       "\n",
       "       #_homes_owned  household_size  average_balance  offer_accepted_Yes  \\\n",
       "0                  1               4          1160.75                   0   \n",
       "1                  2               5           147.25                   0   \n",
       "2                  1               2           276.50                   0   \n",
       "3                  1               4          1219.00                   0   \n",
       "4                  1               6          1211.00                   0   \n",
       "...              ...             ...              ...                 ...   \n",
       "17995              1               5           167.50                   0   \n",
       "17996              1               3           850.50                   0   \n",
       "17997              1               4          1087.25                   0   \n",
       "17998              2               2          1022.25                   0   \n",
       "17999              1               3          1056.00                   0   \n",
       "\n",
       "       reward_Cash Back  reward_Points  mailer_type_Postcard  \\\n",
       "0                     0              0                     0   \n",
       "1                     0              0                     0   \n",
       "2                     0              0                     1   \n",
       "3                     0              0                     0   \n",
       "4                     0              0                     0   \n",
       "...                 ...            ...                   ...   \n",
       "17995                 1              0                     0   \n",
       "17996                 1              0                     0   \n",
       "17997                 1              0                     0   \n",
       "17998                 1              0                     0   \n",
       "17999                 1              0                     0   \n",
       "\n",
       "       overdraft_protection_Yes  own_your_home_Yes  \n",
       "0                             0                  0  \n",
       "1                             0                  1  \n",
       "2                             0                  1  \n",
       "3                             0                  0  \n",
       "4                             0                  1  \n",
       "...                         ...                ...  \n",
       "17995                         0                  1  \n",
       "17996                         0                  1  \n",
       "17997                         0                  0  \n",
       "17998                         0                  1  \n",
       "17999                         0                  0  \n",
       "\n",
       "[17976 rows x 13 columns]"
      ]
     },
     "execution_count": 21,
     "metadata": {},
     "output_type": "execute_result"
    }
   ],
   "source": [
    "data_avg_m1"
   ]
  },
  {
   "cell_type": "code",
   "execution_count": 22,
   "id": "abf9ba6f",
   "metadata": {},
   "outputs": [],
   "source": [
    "##saving this file as a break point. In case, I mess up the dataset during the process, I could always come back to this point. \n",
    "data_avg_m1.to_csv('data_avg_m1.csv', index = False)"
   ]
  },
  {
   "cell_type": "code",
   "execution_count": 844,
   "id": "29576119",
   "metadata": {},
   "outputs": [],
   "source": [
    "data_avg_m1=pd.read_csv('data_avg_m1.csv')"
   ]
  },
  {
   "cell_type": "code",
   "execution_count": 845,
   "id": "5d0748e6",
   "metadata": {},
   "outputs": [],
   "source": [
    "X = data_avg_m1.drop(['offer_accepted_Yes'], axis =1)\n",
    "y = data_avg_m1['offer_accepted_Yes']\n"
   ]
  },
  {
   "cell_type": "code",
   "execution_count": 25,
   "id": "ed6ae62f",
   "metadata": {},
   "outputs": [],
   "source": [
    "from sklearn.model_selection import train_test_split"
   ]
  },
  {
   "cell_type": "code",
   "execution_count": 846,
   "id": "90ebcc1e",
   "metadata": {},
   "outputs": [],
   "source": [
    "X_train, X_test, y_train, y_test = train_test_split(X, y, test_size=0.4, random_state=100)"
   ]
  },
  {
   "cell_type": "code",
   "execution_count": 847,
   "id": "45705db5",
   "metadata": {},
   "outputs": [],
   "source": [
    "##building a linear Regression model\n",
    "from sklearn.linear_model import LogisticRegression\n",
    "m1 = LogisticRegression().fit(X_train, y_train)"
   ]
  },
  {
   "cell_type": "code",
   "execution_count": 848,
   "id": "7fa6520e",
   "metadata": {},
   "outputs": [],
   "source": [
    "from sklearn.metrics import classification_report\n",
    "from sklearn.metrics import accuracy_score, precision_score, recall_score, f1_score, plot_confusion_matrix\n",
    "\n",
    "##check the predict data\n",
    "Y_train_perditct = m1.predict(X_train)\n",
    "Y_test_perditct = m1.predict(X_test)"
   ]
  },
  {
   "cell_type": "code",
   "execution_count": 849,
   "id": "2d93415c",
   "metadata": {},
   "outputs": [
    {
     "name": "stderr",
     "output_type": "stream",
     "text": [
      "/usr/local/anaconda3/lib/python3.9/site-packages/sklearn/utils/deprecation.py:87: FutureWarning: Function plot_confusion_matrix is deprecated; Function `plot_confusion_matrix` is deprecated in 1.0 and will be removed in 1.2. Use one of the class methods: ConfusionMatrixDisplay.from_predictions or ConfusionMatrixDisplay.from_estimator.\n",
      "  warnings.warn(msg, category=FutureWarning)\n",
      "/usr/local/anaconda3/lib/python3.9/site-packages/sklearn/utils/deprecation.py:87: FutureWarning: Function plot_confusion_matrix is deprecated; Function `plot_confusion_matrix` is deprecated in 1.0 and will be removed in 1.2. Use one of the class methods: ConfusionMatrixDisplay.from_predictions or ConfusionMatrixDisplay.from_estimator.\n",
      "  warnings.warn(msg, category=FutureWarning)\n"
     ]
    },
    {
     "data": {
      "text/plain": [
       "<sklearn.metrics._plot.confusion_matrix.ConfusionMatrixDisplay at 0x7fbfcef8b040>"
      ]
     },
     "execution_count": 849,
     "metadata": {},
     "output_type": "execute_result"
    },
    {
     "data": {
      "image/png": "[encoded data removed]",
      "text/plain": [
       "<Figure size 432x288 with 2 Axes>"
      ]
     },
     "metadata": {
      "needs_background": "light"
     },
     "output_type": "display_data"
    },
    {
     "data": {
      "image/png": "[encoded data removed]",
      "text/plain": [
       "<Figure size 432x288 with 2 Axes>"
      ]
     },
     "metadata": {
      "needs_background": "light"
     },
     "output_type": "display_data"
    }
   ],
   "source": [
    "##to see the accurracy\n",
    "plot_confusion_matrix(m1,X_train, y_train)\n",
    "plot_confusion_matrix(m1,X_test, y_test)\n",
    "##As you can see, this model is only able to predict \"no\". "
   ]
  },
  {
   "cell_type": "code",
   "execution_count": 850,
   "id": "abb59ad5",
   "metadata": {},
   "outputs": [
    {
     "data": {
      "text/plain": [
       "0.9436795994993742"
      ]
     },
     "execution_count": 850,
     "metadata": {},
     "output_type": "execute_result"
    }
   ],
   "source": [
    "m1.score(X_test, y_test)"
   ]
  },
  {
   "cell_type": "code",
   "execution_count": 851,
   "id": "2900c788",
   "metadata": {},
   "outputs": [
    {
     "name": "stdout",
     "output_type": "stream",
     "text": [
      "              precision    recall  f1-score   support\n",
      "\n",
      "           0       0.94      1.00      0.97     10169\n",
      "           1       0.00      0.00      0.00       616\n",
      "\n",
      "    accuracy                           0.94     10785\n",
      "   macro avg       0.47      0.50      0.49     10785\n",
      "weighted avg       0.89      0.94      0.92     10785\n",
      "               precision    recall  f1-score   support\n",
      "\n",
      "           0       0.94      1.00      0.97      6786\n",
      "           1       0.00      0.00      0.00       405\n",
      "\n",
      "    accuracy                           0.94      7191\n",
      "   macro avg       0.47      0.50      0.49      7191\n",
      "weighted avg       0.89      0.94      0.92      7191\n",
      "\n"
     ]
    },
    {
     "name": "stderr",
     "output_type": "stream",
     "text": [
      "/usr/local/anaconda3/lib/python3.9/site-packages/sklearn/metrics/_classification.py:1318: UndefinedMetricWarning: Precision and F-score are ill-defined and being set to 0.0 in labels with no predicted samples. Use `zero_division` parameter to control this behavior.\n",
      "  _warn_prf(average, modifier, msg_start, len(result))\n",
      "/usr/local/anaconda3/lib/python3.9/site-packages/sklearn/metrics/_classification.py:1318: UndefinedMetricWarning: Precision and F-score are ill-defined and being set to 0.0 in labels with no predicted samples. Use `zero_division` parameter to control this behavior.\n",
      "  _warn_prf(average, modifier, msg_start, len(result))\n",
      "/usr/local/anaconda3/lib/python3.9/site-packages/sklearn/metrics/_classification.py:1318: UndefinedMetricWarning: Precision and F-score are ill-defined and being set to 0.0 in labels with no predicted samples. Use `zero_division` parameter to control this behavior.\n",
      "  _warn_prf(average, modifier, msg_start, len(result))\n",
      "/usr/local/anaconda3/lib/python3.9/site-packages/sklearn/metrics/_classification.py:1318: UndefinedMetricWarning: Precision and F-score are ill-defined and being set to 0.0 in labels with no predicted samples. Use `zero_division` parameter to control this behavior.\n",
      "  _warn_prf(average, modifier, msg_start, len(result))\n",
      "/usr/local/anaconda3/lib/python3.9/site-packages/sklearn/metrics/_classification.py:1318: UndefinedMetricWarning: Precision and F-score are ill-defined and being set to 0.0 in labels with no predicted samples. Use `zero_division` parameter to control this behavior.\n",
      "  _warn_prf(average, modifier, msg_start, len(result))\n",
      "/usr/local/anaconda3/lib/python3.9/site-packages/sklearn/metrics/_classification.py:1318: UndefinedMetricWarning: Precision and F-score are ill-defined and being set to 0.0 in labels with no predicted samples. Use `zero_division` parameter to control this behavior.\n",
      "  _warn_prf(average, modifier, msg_start, len(result))\n"
     ]
    }
   ],
   "source": [
    "print(classification_report(y_train, Y_train_perditct),classification_report(y_test, Y_test_perditct))"
   ]
  },
  {
   "cell_type": "code",
   "execution_count": 94,
   "id": "bc2e849c",
   "metadata": {},
   "outputs": [
    {
     "data": {
      "text/html": [
       "<div>\n",
       "<style scoped>\n",
       "    .dataframe tbody tr th:only-of-type {\n",
       "        vertical-align: middle;\n",
       "    }\n",
       "\n",
       "    .dataframe tbody tr th {\n",
       "        vertical-align: top;\n",
       "    }\n",
       "\n",
       "    .dataframe thead th {\n",
       "        text-align: right;\n",
       "    }\n",
       "</style>\n",
       "<table border=\"1\" class=\"dataframe\">\n",
       "  <thead>\n",
       "    <tr style=\"text-align: right;\">\n",
       "      <th></th>\n",
       "      <th>features</th>\n",
       "      <th>coef</th>\n",
       "    </tr>\n",
       "  </thead>\n",
       "  <tbody>\n",
       "    <tr>\n",
       "      <th>0</th>\n",
       "      <td>income_level</td>\n",
       "      <td>-0.459722</td>\n",
       "    </tr>\n",
       "    <tr>\n",
       "      <th>1</th>\n",
       "      <td>#_bank_accounts_open</td>\n",
       "      <td>-0.001459</td>\n",
       "    </tr>\n",
       "    <tr>\n",
       "      <th>2</th>\n",
       "      <td>credit_rating</td>\n",
       "      <td>-0.952168</td>\n",
       "    </tr>\n",
       "    <tr>\n",
       "      <th>3</th>\n",
       "      <td>#_credit_cards_held</td>\n",
       "      <td>-0.087647</td>\n",
       "    </tr>\n",
       "    <tr>\n",
       "      <th>4</th>\n",
       "      <td>#_homes_owned</td>\n",
       "      <td>-0.116474</td>\n",
       "    </tr>\n",
       "    <tr>\n",
       "      <th>5</th>\n",
       "      <td>household_size</td>\n",
       "      <td>-0.079212</td>\n",
       "    </tr>\n",
       "    <tr>\n",
       "      <th>6</th>\n",
       "      <td>average_balance</td>\n",
       "      <td>-0.000080</td>\n",
       "    </tr>\n",
       "    <tr>\n",
       "      <th>7</th>\n",
       "      <td>reward_Cash Back</td>\n",
       "      <td>-0.589912</td>\n",
       "    </tr>\n",
       "    <tr>\n",
       "      <th>8</th>\n",
       "      <td>reward_Points</td>\n",
       "      <td>-0.105772</td>\n",
       "    </tr>\n",
       "    <tr>\n",
       "      <th>9</th>\n",
       "      <td>mailer_type_Postcard</td>\n",
       "      <td>1.008129</td>\n",
       "    </tr>\n",
       "    <tr>\n",
       "      <th>10</th>\n",
       "      <td>overdraft_protection_Yes</td>\n",
       "      <td>-0.087834</td>\n",
       "    </tr>\n",
       "    <tr>\n",
       "      <th>11</th>\n",
       "      <td>own_your_home_Yes</td>\n",
       "      <td>0.105144</td>\n",
       "    </tr>\n",
       "  </tbody>\n",
       "</table>\n",
       "</div>"
      ],
      "text/plain": [
       "                    features      coef\n",
       "0               income_level -0.459722\n",
       "1       #_bank_accounts_open -0.001459\n",
       "2              credit_rating -0.952168\n",
       "3        #_credit_cards_held -0.087647\n",
       "4              #_homes_owned -0.116474\n",
       "5             household_size -0.079212\n",
       "6            average_balance -0.000080\n",
       "7           reward_Cash Back -0.589912\n",
       "8              reward_Points -0.105772\n",
       "9       mailer_type_Postcard  1.008129\n",
       "10  overdraft_protection_Yes -0.087834\n",
       "11         own_your_home_Yes  0.105144"
      ]
     },
     "execution_count": 94,
     "metadata": {},
     "output_type": "execute_result"
    }
   ],
   "source": [
    "pd.DataFrame(zip(X_train.columns, np.transpose(m1.coef_.tolist()[0])), columns=['features', 'coef'])"
   ]
  },
  {
   "cell_type": "markdown",
   "id": "49382f2e",
   "metadata": {},
   "source": [
    "For the first model, as you can see with the data we have, the model only returns \"0\" to the target value. Even the score is good, we can use the model. We need to deal with the balance data. \n",
    "\n",
    "What's more, you can see some important factors here: \n",
    "* income level\n",
    "* creadit rating\n",
    "* reward_cash \n",
    "* mail type\n"
   ]
  },
  {
   "cell_type": "markdown",
   "id": "90cf1d40",
   "metadata": {},
   "source": [
    "[<a href=\"#Credit-Card-Marketing-Project\">Back to Top</a>]"
   ]
  },
  {
   "cell_type": "code",
   "execution_count": 171,
   "id": "695d71e9",
   "metadata": {},
   "outputs": [
    {
     "data": {
      "image/png": "[encoded data removed]",
      "text/plain": [
       "<Figure size 1080x936 with 2 Axes>"
      ]
     },
     "metadata": {
      "needs_background": "light"
     },
     "output_type": "display_data"
    }
   ],
   "source": [
    "corr_matrix = data_avg_m1.corr(method = 'pearson')\n",
    "fig, ax = plt.subplots(figsize = (15, 13))\n",
    "ax = sns.heatmap(corr_matrix, annot = True)\n",
    "plt.show()"
   ]
  },
  {
   "cell_type": "markdown",
   "id": "f5bc4837",
   "metadata": {},
   "source": [
    "### Modeling: Model M2 \n",
    "#cleaning the outliers in Average income\n",
    "[<a href=\"#Credit-Card-Marketing-Project\">Back to Top</a>]\n"
   ]
  },
  {
   "cell_type": "code",
   "execution_count": 852,
   "id": "cd5e6823",
   "metadata": {},
   "outputs": [],
   "source": [
    "##In this model, what I will do is: Clean out the outliers in average_balance, and scale it\n",
    "\n",
    "data_avg_m2 = pd.read_csv('data_avg_m1.csv')"
   ]
  },
  {
   "cell_type": "code",
   "execution_count": 853,
   "id": "e3aed2ad",
   "metadata": {},
   "outputs": [
    {
     "name": "stderr",
     "output_type": "stream",
     "text": [
      "/usr/local/anaconda3/lib/python3.9/site-packages/seaborn/_decorators.py:36: FutureWarning: Pass the following variable as a keyword arg: x. From version 0.12, the only valid positional argument will be `data`, and passing other arguments without an explicit keyword will result in an error or misinterpretation.\n",
      "  warnings.warn(\n"
     ]
    },
    {
     "data": {
      "text/plain": [
       "<AxesSubplot:xlabel='average_balance'>"
      ]
     },
     "execution_count": 853,
     "metadata": {},
     "output_type": "execute_result"
    },
    {
     "data": {
      "image/png": "[encoded data removed]",
      "text/plain": [
       "<Figure size 432x288 with 1 Axes>"
      ]
     },
     "metadata": {
      "needs_background": "light"
     },
     "output_type": "display_data"
    }
   ],
   "source": [
    "#Let's take a look of the column \"average_balance\" to see if it's normally distrubuted\n",
    "sns.boxplot(data_avg_m2['average_balance'])"
   ]
  },
  {
   "cell_type": "code",
   "execution_count": 854,
   "id": "d9b657a4",
   "metadata": {},
   "outputs": [
    {
     "data": {
      "text/plain": [
       "<seaborn.axisgrid.FacetGrid at 0x7fbfcf1df5e0>"
      ]
     },
     "execution_count": 854,
     "metadata": {},
     "output_type": "execute_result"
    },
    {
     "data": {
      "image/png": "[encoded data removed]",
      "text/plain": [
       "<Figure size 360x360 with 1 Axes>"
      ]
     },
     "metadata": {
      "needs_background": "light"
     },
     "output_type": "display_data"
    }
   ],
   "source": [
    "sns.displot(data_avg_m2['average_balance'])"
   ]
  },
  {
   "cell_type": "markdown",
   "id": "a542694f",
   "metadata": {},
   "source": [
    "As you can see for this feature \"average_balance\", the whole data doesn't display as normal distrubution. In this case, we will need to clean out the outliars. As you can see there is a clean break in 500 and aroung 1600. "
   ]
  },
  {
   "cell_type": "code",
   "execution_count": 855,
   "id": "0be8b856",
   "metadata": {},
   "outputs": [],
   "source": [
    "##However, I will try to use the percentile method to clean out the outliars first. \n",
    "iqr = np.percentile(data_avg_m2['average_balance'], 75)- np.percentile(data_avg_m2['average_balance'], 25)\n",
    "upper_limit = np.percentile(data_avg_m2['average_balance'], 75) + 1.5*iqr\n",
    "lower_limit = np.percentile(data_avg_m2['average_balance'], 75) - 1.5*iqr\n",
    "data_avg_m2['average_balance'] = data_avg_m2[(data_avg_m2['average_balance']>lower_limit) & (data_avg_m2['average_balance']<upper_limit)]['average_balance']"
   ]
  },
  {
   "cell_type": "code",
   "execution_count": 856,
   "id": "17ca4241",
   "metadata": {},
   "outputs": [
    {
     "data": {
      "text/plain": [
       "<seaborn.axisgrid.FacetGrid at 0x7fbfcd09b460>"
      ]
     },
     "execution_count": 856,
     "metadata": {},
     "output_type": "execute_result"
    },
    {
     "data": {
      "image/png": "[encoded data removed]",
      "text/plain": [
       "<Figure size 360x360 with 1 Axes>"
      ]
     },
     "metadata": {
      "needs_background": "light"
     },
     "output_type": "display_data"
    }
   ],
   "source": [
    "sns.displot(data_avg_m2['average_balance'])"
   ]
  },
  {
   "cell_type": "code",
   "execution_count": 857,
   "id": "169d4f9b",
   "metadata": {},
   "outputs": [
    {
     "name": "stderr",
     "output_type": "stream",
     "text": [
      "/usr/local/anaconda3/lib/python3.9/site-packages/seaborn/_decorators.py:36: FutureWarning: Pass the following variable as a keyword arg: x. From version 0.12, the only valid positional argument will be `data`, and passing other arguments without an explicit keyword will result in an error or misinterpretation.\n",
      "  warnings.warn(\n"
     ]
    },
    {
     "data": {
      "text/plain": [
       "<AxesSubplot:xlabel='average_balance'>"
      ]
     },
     "execution_count": 857,
     "metadata": {},
     "output_type": "execute_result"
    },
    {
     "data": {
      "image/png": "[encoded data removed]",
      "text/plain": [
       "<Figure size 432x288 with 1 Axes>"
      ]
     },
     "metadata": {
      "needs_background": "light"
     },
     "output_type": "display_data"
    }
   ],
   "source": [
    "sns.boxplot(data_avg_m2['average_balance'])"
   ]
  },
  {
   "cell_type": "code",
   "execution_count": 858,
   "id": "6506e0db",
   "metadata": {},
   "outputs": [
    {
     "data": {
      "text/plain": [
       "income_level                   0\n",
       "#_bank_accounts_open           0\n",
       "credit_rating                  0\n",
       "#_credit_cards_held            0\n",
       "#_homes_owned                  0\n",
       "household_size                 0\n",
       "average_balance             2871\n",
       "offer_accepted_Yes             0\n",
       "reward_Cash Back               0\n",
       "reward_Points                  0\n",
       "mailer_type_Postcard           0\n",
       "overdraft_protection_Yes       0\n",
       "own_your_home_Yes              0\n",
       "dtype: int64"
      ]
     },
     "execution_count": 858,
     "metadata": {},
     "output_type": "execute_result"
    }
   ],
   "source": [
    "data_avg_m2.isna().sum()"
   ]
  },
  {
   "cell_type": "code",
   "execution_count": 859,
   "id": "2fe83063",
   "metadata": {},
   "outputs": [],
   "source": [
    "data_avg_m2 = data_avg_m2[~(data_avg_m2['average_balance'].isna())]"
   ]
  },
  {
   "cell_type": "code",
   "execution_count": 860,
   "id": "99f95cc3",
   "metadata": {},
   "outputs": [],
   "source": [
    "data_num = data_avg_m2.drop(['offer_accepted_Yes'], axis = 1)"
   ]
  },
  {
   "cell_type": "code",
   "execution_count": 270,
   "id": "b8fde5f7",
   "metadata": {},
   "outputs": [
    {
     "data": {
      "text/html": [
       "<div>\n",
       "<style scoped>\n",
       "    .dataframe tbody tr th:only-of-type {\n",
       "        vertical-align: middle;\n",
       "    }\n",
       "\n",
       "    .dataframe tbody tr th {\n",
       "        vertical-align: top;\n",
       "    }\n",
       "\n",
       "    .dataframe thead th {\n",
       "        text-align: right;\n",
       "    }\n",
       "</style>\n",
       "<table border=\"1\" class=\"dataframe\">\n",
       "  <thead>\n",
       "    <tr style=\"text-align: right;\">\n",
       "      <th></th>\n",
       "      <th>income_level</th>\n",
       "      <th>#_bank_accounts_open</th>\n",
       "      <th>credit_rating</th>\n",
       "      <th>#_credit_cards_held</th>\n",
       "      <th>#_homes_owned</th>\n",
       "      <th>household_size</th>\n",
       "      <th>average_balance</th>\n",
       "      <th>reward_Cash Back</th>\n",
       "      <th>reward_Points</th>\n",
       "      <th>mailer_type_Postcard</th>\n",
       "      <th>overdraft_protection_Yes</th>\n",
       "      <th>own_your_home_Yes</th>\n",
       "    </tr>\n",
       "  </thead>\n",
       "  <tbody>\n",
       "    <tr>\n",
       "      <th>0</th>\n",
       "      <td>3</td>\n",
       "      <td>1</td>\n",
       "      <td>3</td>\n",
       "      <td>2</td>\n",
       "      <td>1</td>\n",
       "      <td>4</td>\n",
       "      <td>1160.75</td>\n",
       "      <td>0</td>\n",
       "      <td>0</td>\n",
       "      <td>0</td>\n",
       "      <td>0</td>\n",
       "      <td>0</td>\n",
       "    </tr>\n",
       "    <tr>\n",
       "      <th>3</th>\n",
       "      <td>2</td>\n",
       "      <td>2</td>\n",
       "      <td>3</td>\n",
       "      <td>1</td>\n",
       "      <td>1</td>\n",
       "      <td>4</td>\n",
       "      <td>1219.00</td>\n",
       "      <td>0</td>\n",
       "      <td>0</td>\n",
       "      <td>0</td>\n",
       "      <td>0</td>\n",
       "      <td>0</td>\n",
       "    </tr>\n",
       "    <tr>\n",
       "      <th>4</th>\n",
       "      <td>2</td>\n",
       "      <td>1</td>\n",
       "      <td>2</td>\n",
       "      <td>2</td>\n",
       "      <td>1</td>\n",
       "      <td>6</td>\n",
       "      <td>1211.00</td>\n",
       "      <td>0</td>\n",
       "      <td>0</td>\n",
       "      <td>0</td>\n",
       "      <td>0</td>\n",
       "      <td>1</td>\n",
       "    </tr>\n",
       "    <tr>\n",
       "      <th>5</th>\n",
       "      <td>2</td>\n",
       "      <td>1</td>\n",
       "      <td>3</td>\n",
       "      <td>3</td>\n",
       "      <td>1</td>\n",
       "      <td>4</td>\n",
       "      <td>1114.75</td>\n",
       "      <td>0</td>\n",
       "      <td>0</td>\n",
       "      <td>0</td>\n",
       "      <td>0</td>\n",
       "      <td>0</td>\n",
       "    </tr>\n",
       "    <tr>\n",
       "      <th>8</th>\n",
       "      <td>2</td>\n",
       "      <td>1</td>\n",
       "      <td>1</td>\n",
       "      <td>2</td>\n",
       "      <td>1</td>\n",
       "      <td>4</td>\n",
       "      <td>1005.00</td>\n",
       "      <td>0</td>\n",
       "      <td>0</td>\n",
       "      <td>1</td>\n",
       "      <td>0</td>\n",
       "      <td>1</td>\n",
       "    </tr>\n",
       "    <tr>\n",
       "      <th>...</th>\n",
       "      <td>...</td>\n",
       "      <td>...</td>\n",
       "      <td>...</td>\n",
       "      <td>...</td>\n",
       "      <td>...</td>\n",
       "      <td>...</td>\n",
       "      <td>...</td>\n",
       "      <td>...</td>\n",
       "      <td>...</td>\n",
       "      <td>...</td>\n",
       "      <td>...</td>\n",
       "      <td>...</td>\n",
       "    </tr>\n",
       "    <tr>\n",
       "      <th>17970</th>\n",
       "      <td>2</td>\n",
       "      <td>1</td>\n",
       "      <td>1</td>\n",
       "      <td>2</td>\n",
       "      <td>1</td>\n",
       "      <td>2</td>\n",
       "      <td>985.25</td>\n",
       "      <td>0</td>\n",
       "      <td>0</td>\n",
       "      <td>1</td>\n",
       "      <td>0</td>\n",
       "      <td>1</td>\n",
       "    </tr>\n",
       "    <tr>\n",
       "      <th>17972</th>\n",
       "      <td>3</td>\n",
       "      <td>1</td>\n",
       "      <td>1</td>\n",
       "      <td>3</td>\n",
       "      <td>1</td>\n",
       "      <td>3</td>\n",
       "      <td>850.50</td>\n",
       "      <td>1</td>\n",
       "      <td>0</td>\n",
       "      <td>0</td>\n",
       "      <td>0</td>\n",
       "      <td>1</td>\n",
       "    </tr>\n",
       "    <tr>\n",
       "      <th>17973</th>\n",
       "      <td>3</td>\n",
       "      <td>1</td>\n",
       "      <td>1</td>\n",
       "      <td>2</td>\n",
       "      <td>1</td>\n",
       "      <td>4</td>\n",
       "      <td>1087.25</td>\n",
       "      <td>1</td>\n",
       "      <td>0</td>\n",
       "      <td>0</td>\n",
       "      <td>0</td>\n",
       "      <td>0</td>\n",
       "    </tr>\n",
       "    <tr>\n",
       "      <th>17974</th>\n",
       "      <td>2</td>\n",
       "      <td>1</td>\n",
       "      <td>2</td>\n",
       "      <td>4</td>\n",
       "      <td>2</td>\n",
       "      <td>2</td>\n",
       "      <td>1022.25</td>\n",
       "      <td>1</td>\n",
       "      <td>0</td>\n",
       "      <td>0</td>\n",
       "      <td>0</td>\n",
       "      <td>1</td>\n",
       "    </tr>\n",
       "    <tr>\n",
       "      <th>17975</th>\n",
       "      <td>1</td>\n",
       "      <td>2</td>\n",
       "      <td>2</td>\n",
       "      <td>2</td>\n",
       "      <td>1</td>\n",
       "      <td>3</td>\n",
       "      <td>1056.00</td>\n",
       "      <td>1</td>\n",
       "      <td>0</td>\n",
       "      <td>0</td>\n",
       "      <td>0</td>\n",
       "      <td>0</td>\n",
       "    </tr>\n",
       "  </tbody>\n",
       "</table>\n",
       "<p>15105 rows × 12 columns</p>\n",
       "</div>"
      ],
      "text/plain": [
       "       income_level  #_bank_accounts_open  credit_rating  #_credit_cards_held  \\\n",
       "0                 3                     1              3                    2   \n",
       "3                 2                     2              3                    1   \n",
       "4                 2                     1              2                    2   \n",
       "5                 2                     1              3                    3   \n",
       "8                 2                     1              1                    2   \n",
       "...             ...                   ...            ...                  ...   \n",
       "17970             2                     1              1                    2   \n",
       "17972             3                     1              1                    3   \n",
       "17973             3                     1              1                    2   \n",
       "17974             2                     1              2                    4   \n",
       "17975             1                     2              2                    2   \n",
       "\n",
       "       #_homes_owned  household_size  average_balance  reward_Cash Back  \\\n",
       "0                  1               4          1160.75                 0   \n",
       "3                  1               4          1219.00                 0   \n",
       "4                  1               6          1211.00                 0   \n",
       "5                  1               4          1114.75                 0   \n",
       "8                  1               4          1005.00                 0   \n",
       "...              ...             ...              ...               ...   \n",
       "17970              1               2           985.25                 0   \n",
       "17972              1               3           850.50                 1   \n",
       "17973              1               4          1087.25                 1   \n",
       "17974              2               2          1022.25                 1   \n",
       "17975              1               3          1056.00                 1   \n",
       "\n",
       "       reward_Points  mailer_type_Postcard  overdraft_protection_Yes  \\\n",
       "0                  0                     0                         0   \n",
       "3                  0                     0                         0   \n",
       "4                  0                     0                         0   \n",
       "5                  0                     0                         0   \n",
       "8                  0                     1                         0   \n",
       "...              ...                   ...                       ...   \n",
       "17970              0                     1                         0   \n",
       "17972              0                     0                         0   \n",
       "17973              0                     0                         0   \n",
       "17974              0                     0                         0   \n",
       "17975              0                     0                         0   \n",
       "\n",
       "       own_your_home_Yes  \n",
       "0                      0  \n",
       "3                      0  \n",
       "4                      1  \n",
       "5                      0  \n",
       "8                      1  \n",
       "...                  ...  \n",
       "17970                  1  \n",
       "17972                  1  \n",
       "17973                  0  \n",
       "17974                  1  \n",
       "17975                  0  \n",
       "\n",
       "[15105 rows x 12 columns]"
      ]
     },
     "execution_count": 270,
     "metadata": {},
     "output_type": "execute_result"
    }
   ],
   "source": [
    "data_num"
   ]
  },
  {
   "cell_type": "code",
   "execution_count": 861,
   "id": "53dd27df",
   "metadata": {},
   "outputs": [],
   "source": [
    "y = data_avg_m2['offer_accepted_Yes']\n",
    "X = data_num"
   ]
  },
  {
   "cell_type": "code",
   "execution_count": 862,
   "id": "7affac6d",
   "metadata": {},
   "outputs": [],
   "source": [
    "X_train, X_test, y_train, y_test = train_test_split(X, y, test_size=0.4, random_state=100)"
   ]
  },
  {
   "cell_type": "code",
   "execution_count": 863,
   "id": "9dcdd1a7",
   "metadata": {},
   "outputs": [],
   "source": [
    "from sklearn.preprocessing import StandardScaler\n",
    "transformer = StandardScaler().fit(X_train)\n",
    "X_train_standard = transformer.transform(X_train)"
   ]
  },
  {
   "cell_type": "code",
   "execution_count": 864,
   "id": "3c42e239",
   "metadata": {},
   "outputs": [
    {
     "data": {
      "text/plain": [
       "array([[-1.41638929, -0.54470262, -1.22990739, ..., -1.01725129,\n",
       "        -0.42833196, -1.34999452],\n",
       "       [ 1.39775871, -0.54470262, -0.00755289, ...,  0.98304127,\n",
       "        -0.42833196,  0.74074375],\n",
       "       [ 1.39775871, -0.54470262,  1.2148016 , ...,  0.98304127,\n",
       "        -0.42833196, -1.34999452],\n",
       "       ...,\n",
       "       [-0.00931529, -0.54470262, -1.22990739, ..., -1.01725129,\n",
       "        -0.42833196, -1.34999452],\n",
       "       [-0.00931529, -0.54470262,  1.2148016 , ..., -1.01725129,\n",
       "        -0.42833196,  0.74074375],\n",
       "       [-0.00931529, -0.54470262, -1.22990739, ...,  0.98304127,\n",
       "        -0.42833196, -1.34999452]])"
      ]
     },
     "execution_count": 864,
     "metadata": {},
     "output_type": "execute_result"
    }
   ],
   "source": [
    "X_train_standard "
   ]
  },
  {
   "cell_type": "code",
   "execution_count": 865,
   "id": "13c33c13",
   "metadata": {},
   "outputs": [],
   "source": [
    "##Classification model: \n",
    "m2 = LogisticRegression(random_state=0, solver='lbfgs',\n",
    "                  multi_class='multinomial').fit(X_train_standard, y_train)"
   ]
  },
  {
   "cell_type": "code",
   "execution_count": 866,
   "id": "9c878874",
   "metadata": {},
   "outputs": [
    {
     "name": "stderr",
     "output_type": "stream",
     "text": [
      "/usr/local/anaconda3/lib/python3.9/site-packages/sklearn/base.py:443: UserWarning: X has feature names, but LogisticRegression was fitted without feature names\n",
      "  warnings.warn(\n"
     ]
    },
    {
     "data": {
      "text/plain": [
       "0.943230718305197"
      ]
     },
     "execution_count": 866,
     "metadata": {},
     "output_type": "execute_result"
    }
   ],
   "source": [
    "m2.score(X_test, y_test)"
   ]
  },
  {
   "cell_type": "code",
   "execution_count": 867,
   "id": "a12dcc72",
   "metadata": {},
   "outputs": [
    {
     "name": "stderr",
     "output_type": "stream",
     "text": [
      "/usr/local/anaconda3/lib/python3.9/site-packages/sklearn/base.py:443: UserWarning: X has feature names, but LogisticRegression was fitted without feature names\n",
      "  warnings.warn(\n",
      "/usr/local/anaconda3/lib/python3.9/site-packages/sklearn/base.py:443: UserWarning: X has feature names, but LogisticRegression was fitted without feature names\n",
      "  warnings.warn(\n"
     ]
    }
   ],
   "source": [
    "##check the predict data\n",
    "Y_train_perditct = m2.predict(X_train)\n",
    "Y_test_perditct = m2.predict(X_test)"
   ]
  },
  {
   "cell_type": "code",
   "execution_count": 868,
   "id": "ccb0303d",
   "metadata": {},
   "outputs": [
    {
     "name": "stderr",
     "output_type": "stream",
     "text": [
      "/usr/local/anaconda3/lib/python3.9/site-packages/sklearn/utils/deprecation.py:87: FutureWarning: Function plot_confusion_matrix is deprecated; Function `plot_confusion_matrix` is deprecated in 1.0 and will be removed in 1.2. Use one of the class methods: ConfusionMatrixDisplay.from_predictions or ConfusionMatrixDisplay.from_estimator.\n",
      "  warnings.warn(msg, category=FutureWarning)\n",
      "/usr/local/anaconda3/lib/python3.9/site-packages/sklearn/base.py:443: UserWarning: X has feature names, but LogisticRegression was fitted without feature names\n",
      "  warnings.warn(\n",
      "/usr/local/anaconda3/lib/python3.9/site-packages/sklearn/utils/deprecation.py:87: FutureWarning: Function plot_confusion_matrix is deprecated; Function `plot_confusion_matrix` is deprecated in 1.0 and will be removed in 1.2. Use one of the class methods: ConfusionMatrixDisplay.from_predictions or ConfusionMatrixDisplay.from_estimator.\n",
      "  warnings.warn(msg, category=FutureWarning)\n",
      "/usr/local/anaconda3/lib/python3.9/site-packages/sklearn/base.py:443: UserWarning: X has feature names, but LogisticRegression was fitted without feature names\n",
      "  warnings.warn(\n"
     ]
    },
    {
     "data": {
      "text/plain": [
       "<sklearn.metrics._plot.confusion_matrix.ConfusionMatrixDisplay at 0x7fbfccefe0d0>"
      ]
     },
     "execution_count": 868,
     "metadata": {},
     "output_type": "execute_result"
    },
    {
     "data": {
      "image/png": "[encoded data removed]",
      "text/plain": [
       "<Figure size 432x288 with 2 Axes>"
      ]
     },
     "metadata": {
      "needs_background": "light"
     },
     "output_type": "display_data"
    },
    {
     "data": {
      "image/png": "[encoded data removed]",
      "text/plain": [
       "<Figure size 432x288 with 2 Axes>"
      ]
     },
     "metadata": {
      "needs_background": "light"
     },
     "output_type": "display_data"
    }
   ],
   "source": [
    "##to see the accurracy\n",
    "plot_confusion_matrix(m2,X_train, y_train)\n",
    "plot_confusion_matrix(m2,X_test, y_test)\n",
    "\n",
    "##the performance is slightly better, however the model still only predicts \"NO\"."
   ]
  },
  {
   "cell_type": "code",
   "execution_count": 869,
   "id": "b033594c",
   "metadata": {},
   "outputs": [
    {
     "name": "stdout",
     "output_type": "stream",
     "text": [
      "              precision    recall  f1-score   support\n",
      "\n",
      "           0       0.94      1.00      0.97      8551\n",
      "           1       0.00      0.00      0.00       512\n",
      "\n",
      "    accuracy                           0.94      9063\n",
      "   macro avg       0.47      0.50      0.49      9063\n",
      "weighted avg       0.89      0.94      0.92      9063\n",
      "               precision    recall  f1-score   support\n",
      "\n",
      "           0       0.94      1.00      0.97      5699\n",
      "           1       0.00      0.00      0.00       343\n",
      "\n",
      "    accuracy                           0.94      6042\n",
      "   macro avg       0.47      0.50      0.49      6042\n",
      "weighted avg       0.89      0.94      0.92      6042\n",
      "\n"
     ]
    },
    {
     "name": "stderr",
     "output_type": "stream",
     "text": [
      "/usr/local/anaconda3/lib/python3.9/site-packages/sklearn/metrics/_classification.py:1318: UndefinedMetricWarning: Precision and F-score are ill-defined and being set to 0.0 in labels with no predicted samples. Use `zero_division` parameter to control this behavior.\n",
      "  _warn_prf(average, modifier, msg_start, len(result))\n",
      "/usr/local/anaconda3/lib/python3.9/site-packages/sklearn/metrics/_classification.py:1318: UndefinedMetricWarning: Precision and F-score are ill-defined and being set to 0.0 in labels with no predicted samples. Use `zero_division` parameter to control this behavior.\n",
      "  _warn_prf(average, modifier, msg_start, len(result))\n",
      "/usr/local/anaconda3/lib/python3.9/site-packages/sklearn/metrics/_classification.py:1318: UndefinedMetricWarning: Precision and F-score are ill-defined and being set to 0.0 in labels with no predicted samples. Use `zero_division` parameter to control this behavior.\n",
      "  _warn_prf(average, modifier, msg_start, len(result))\n",
      "/usr/local/anaconda3/lib/python3.9/site-packages/sklearn/metrics/_classification.py:1318: UndefinedMetricWarning: Precision and F-score are ill-defined and being set to 0.0 in labels with no predicted samples. Use `zero_division` parameter to control this behavior.\n",
      "  _warn_prf(average, modifier, msg_start, len(result))\n",
      "/usr/local/anaconda3/lib/python3.9/site-packages/sklearn/metrics/_classification.py:1318: UndefinedMetricWarning: Precision and F-score are ill-defined and being set to 0.0 in labels with no predicted samples. Use `zero_division` parameter to control this behavior.\n",
      "  _warn_prf(average, modifier, msg_start, len(result))\n",
      "/usr/local/anaconda3/lib/python3.9/site-packages/sklearn/metrics/_classification.py:1318: UndefinedMetricWarning: Precision and F-score are ill-defined and being set to 0.0 in labels with no predicted samples. Use `zero_division` parameter to control this behavior.\n",
      "  _warn_prf(average, modifier, msg_start, len(result))\n"
     ]
    }
   ],
   "source": [
    "print(classification_report(y_train, Y_train_perditct),classification_report(y_test, Y_test_perditct))"
   ]
  },
  {
   "cell_type": "markdown",
   "id": "3244b646",
   "metadata": {},
   "source": [
    "In this model, we are just going to explode a bit numerial featuring. As you can see, after cleaning the outliars and scaling the feature, the performance of the model has increase, although m2 still only perdict zero. \n"
   ]
  },
  {
   "cell_type": "markdown",
   "id": "4c67618f",
   "metadata": {},
   "source": [
    "### Modeling: Model M3 \n",
    "#deal with the inbalance data.\n",
    "[<a href=\"#Credit-Card-Marketing-Project\">Back to Top</a>]\n"
   ]
  },
  {
   "cell_type": "code",
   "execution_count": 109,
   "id": "4c543bc3",
   "metadata": {},
   "outputs": [],
   "source": [
    "from imblearn.under_sampling import RandomUnderSampler\n",
    "from imblearn.under_sampling import TomekLinks\n",
    "from imblearn.over_sampling import RandomOverSampler\n",
    "from imblearn.over_sampling import SMOTE"
   ]
  },
  {
   "cell_type": "code",
   "execution_count": 879,
   "id": "2154afae",
   "metadata": {},
   "outputs": [],
   "source": [
    "data_avg_m3=pd.read_csv('data_avg_m1.csv')"
   ]
  },
  {
   "cell_type": "code",
   "execution_count": 880,
   "id": "0891c848",
   "metadata": {},
   "outputs": [
    {
     "data": {
      "text/html": [
       "<div>\n",
       "<style scoped>\n",
       "    .dataframe tbody tr th:only-of-type {\n",
       "        vertical-align: middle;\n",
       "    }\n",
       "\n",
       "    .dataframe tbody tr th {\n",
       "        vertical-align: top;\n",
       "    }\n",
       "\n",
       "    .dataframe thead th {\n",
       "        text-align: right;\n",
       "    }\n",
       "</style>\n",
       "<table border=\"1\" class=\"dataframe\">\n",
       "  <thead>\n",
       "    <tr style=\"text-align: right;\">\n",
       "      <th></th>\n",
       "      <th>income_level</th>\n",
       "      <th>#_bank_accounts_open</th>\n",
       "      <th>credit_rating</th>\n",
       "      <th>#_credit_cards_held</th>\n",
       "      <th>#_homes_owned</th>\n",
       "      <th>household_size</th>\n",
       "      <th>average_balance</th>\n",
       "      <th>offer_accepted_Yes</th>\n",
       "      <th>reward_Cash Back</th>\n",
       "      <th>reward_Points</th>\n",
       "      <th>mailer_type_Postcard</th>\n",
       "      <th>overdraft_protection_Yes</th>\n",
       "      <th>own_your_home_Yes</th>\n",
       "    </tr>\n",
       "  </thead>\n",
       "  <tbody>\n",
       "    <tr>\n",
       "      <th>0</th>\n",
       "      <td>3</td>\n",
       "      <td>1</td>\n",
       "      <td>3</td>\n",
       "      <td>2</td>\n",
       "      <td>1</td>\n",
       "      <td>4</td>\n",
       "      <td>1160.75</td>\n",
       "      <td>0</td>\n",
       "      <td>0</td>\n",
       "      <td>0</td>\n",
       "      <td>0</td>\n",
       "      <td>0</td>\n",
       "      <td>0</td>\n",
       "    </tr>\n",
       "    <tr>\n",
       "      <th>1</th>\n",
       "      <td>2</td>\n",
       "      <td>1</td>\n",
       "      <td>2</td>\n",
       "      <td>2</td>\n",
       "      <td>2</td>\n",
       "      <td>5</td>\n",
       "      <td>147.25</td>\n",
       "      <td>0</td>\n",
       "      <td>0</td>\n",
       "      <td>0</td>\n",
       "      <td>0</td>\n",
       "      <td>0</td>\n",
       "      <td>1</td>\n",
       "    </tr>\n",
       "    <tr>\n",
       "      <th>2</th>\n",
       "      <td>3</td>\n",
       "      <td>2</td>\n",
       "      <td>2</td>\n",
       "      <td>2</td>\n",
       "      <td>1</td>\n",
       "      <td>2</td>\n",
       "      <td>276.50</td>\n",
       "      <td>0</td>\n",
       "      <td>0</td>\n",
       "      <td>0</td>\n",
       "      <td>1</td>\n",
       "      <td>0</td>\n",
       "      <td>1</td>\n",
       "    </tr>\n",
       "    <tr>\n",
       "      <th>3</th>\n",
       "      <td>2</td>\n",
       "      <td>2</td>\n",
       "      <td>3</td>\n",
       "      <td>1</td>\n",
       "      <td>1</td>\n",
       "      <td>4</td>\n",
       "      <td>1219.00</td>\n",
       "      <td>0</td>\n",
       "      <td>0</td>\n",
       "      <td>0</td>\n",
       "      <td>0</td>\n",
       "      <td>0</td>\n",
       "      <td>0</td>\n",
       "    </tr>\n",
       "    <tr>\n",
       "      <th>4</th>\n",
       "      <td>2</td>\n",
       "      <td>1</td>\n",
       "      <td>2</td>\n",
       "      <td>2</td>\n",
       "      <td>1</td>\n",
       "      <td>6</td>\n",
       "      <td>1211.00</td>\n",
       "      <td>0</td>\n",
       "      <td>0</td>\n",
       "      <td>0</td>\n",
       "      <td>0</td>\n",
       "      <td>0</td>\n",
       "      <td>1</td>\n",
       "    </tr>\n",
       "    <tr>\n",
       "      <th>...</th>\n",
       "      <td>...</td>\n",
       "      <td>...</td>\n",
       "      <td>...</td>\n",
       "      <td>...</td>\n",
       "      <td>...</td>\n",
       "      <td>...</td>\n",
       "      <td>...</td>\n",
       "      <td>...</td>\n",
       "      <td>...</td>\n",
       "      <td>...</td>\n",
       "      <td>...</td>\n",
       "      <td>...</td>\n",
       "      <td>...</td>\n",
       "    </tr>\n",
       "    <tr>\n",
       "      <th>17971</th>\n",
       "      <td>3</td>\n",
       "      <td>1</td>\n",
       "      <td>1</td>\n",
       "      <td>1</td>\n",
       "      <td>1</td>\n",
       "      <td>5</td>\n",
       "      <td>167.50</td>\n",
       "      <td>0</td>\n",
       "      <td>1</td>\n",
       "      <td>0</td>\n",
       "      <td>0</td>\n",
       "      <td>0</td>\n",
       "      <td>1</td>\n",
       "    </tr>\n",
       "    <tr>\n",
       "      <th>17972</th>\n",
       "      <td>3</td>\n",
       "      <td>1</td>\n",
       "      <td>1</td>\n",
       "      <td>3</td>\n",
       "      <td>1</td>\n",
       "      <td>3</td>\n",
       "      <td>850.50</td>\n",
       "      <td>0</td>\n",
       "      <td>1</td>\n",
       "      <td>0</td>\n",
       "      <td>0</td>\n",
       "      <td>0</td>\n",
       "      <td>1</td>\n",
       "    </tr>\n",
       "    <tr>\n",
       "      <th>17973</th>\n",
       "      <td>3</td>\n",
       "      <td>1</td>\n",
       "      <td>1</td>\n",
       "      <td>2</td>\n",
       "      <td>1</td>\n",
       "      <td>4</td>\n",
       "      <td>1087.25</td>\n",
       "      <td>0</td>\n",
       "      <td>1</td>\n",
       "      <td>0</td>\n",
       "      <td>0</td>\n",
       "      <td>0</td>\n",
       "      <td>0</td>\n",
       "    </tr>\n",
       "    <tr>\n",
       "      <th>17974</th>\n",
       "      <td>2</td>\n",
       "      <td>1</td>\n",
       "      <td>2</td>\n",
       "      <td>4</td>\n",
       "      <td>2</td>\n",
       "      <td>2</td>\n",
       "      <td>1022.25</td>\n",
       "      <td>0</td>\n",
       "      <td>1</td>\n",
       "      <td>0</td>\n",
       "      <td>0</td>\n",
       "      <td>0</td>\n",
       "      <td>1</td>\n",
       "    </tr>\n",
       "    <tr>\n",
       "      <th>17975</th>\n",
       "      <td>1</td>\n",
       "      <td>2</td>\n",
       "      <td>2</td>\n",
       "      <td>2</td>\n",
       "      <td>1</td>\n",
       "      <td>3</td>\n",
       "      <td>1056.00</td>\n",
       "      <td>0</td>\n",
       "      <td>1</td>\n",
       "      <td>0</td>\n",
       "      <td>0</td>\n",
       "      <td>0</td>\n",
       "      <td>0</td>\n",
       "    </tr>\n",
       "  </tbody>\n",
       "</table>\n",
       "<p>17976 rows × 13 columns</p>\n",
       "</div>"
      ],
      "text/plain": [
       "       income_level  #_bank_accounts_open  credit_rating  #_credit_cards_held  \\\n",
       "0                 3                     1              3                    2   \n",
       "1                 2                     1              2                    2   \n",
       "2                 3                     2              2                    2   \n",
       "3                 2                     2              3                    1   \n",
       "4                 2                     1              2                    2   \n",
       "...             ...                   ...            ...                  ...   \n",
       "17971             3                     1              1                    1   \n",
       "17972             3                     1              1                    3   \n",
       "17973             3                     1              1                    2   \n",
       "17974             2                     1              2                    4   \n",
       "17975             1                     2              2                    2   \n",
       "\n",
       "       #_homes_owned  household_size  average_balance  offer_accepted_Yes  \\\n",
       "0                  1               4          1160.75                   0   \n",
       "1                  2               5           147.25                   0   \n",
       "2                  1               2           276.50                   0   \n",
       "3                  1               4          1219.00                   0   \n",
       "4                  1               6          1211.00                   0   \n",
       "...              ...             ...              ...                 ...   \n",
       "17971              1               5           167.50                   0   \n",
       "17972              1               3           850.50                   0   \n",
       "17973              1               4          1087.25                   0   \n",
       "17974              2               2          1022.25                   0   \n",
       "17975              1               3          1056.00                   0   \n",
       "\n",
       "       reward_Cash Back  reward_Points  mailer_type_Postcard  \\\n",
       "0                     0              0                     0   \n",
       "1                     0              0                     0   \n",
       "2                     0              0                     1   \n",
       "3                     0              0                     0   \n",
       "4                     0              0                     0   \n",
       "...                 ...            ...                   ...   \n",
       "17971                 1              0                     0   \n",
       "17972                 1              0                     0   \n",
       "17973                 1              0                     0   \n",
       "17974                 1              0                     0   \n",
       "17975                 1              0                     0   \n",
       "\n",
       "       overdraft_protection_Yes  own_your_home_Yes  \n",
       "0                             0                  0  \n",
       "1                             0                  1  \n",
       "2                             0                  1  \n",
       "3                             0                  0  \n",
       "4                             0                  1  \n",
       "...                         ...                ...  \n",
       "17971                         0                  1  \n",
       "17972                         0                  1  \n",
       "17973                         0                  0  \n",
       "17974                         0                  1  \n",
       "17975                         0                  0  \n",
       "\n",
       "[17976 rows x 13 columns]"
      ]
     },
     "execution_count": 880,
     "metadata": {},
     "output_type": "execute_result"
    }
   ],
   "source": [
    "data_avg_m3"
   ]
  },
  {
   "cell_type": "code",
   "execution_count": 881,
   "id": "7a67caff",
   "metadata": {},
   "outputs": [],
   "source": [
    "X = data_avg_m3.drop(['offer_accepted_Yes'], axis =1)\n",
    "y = data_avg_m3['offer_accepted_Yes']\n"
   ]
  },
  {
   "cell_type": "code",
   "execution_count": 882,
   "id": "6062e5cb",
   "metadata": {},
   "outputs": [],
   "source": [
    "##Split the train and test data before dealing with the inbalabce data\n",
    "X_train, X_test, y_train, y_test = train_test_split(X, y, test_size=0.4, random_state=100)"
   ]
  },
  {
   "cell_type": "code",
   "execution_count": 883,
   "id": "45e18535",
   "metadata": {},
   "outputs": [
    {
     "data": {
      "text/plain": [
       "0    616\n",
       "1    616\n",
       "Name: offer_accepted_Yes, dtype: int64"
      ]
     },
     "execution_count": 883,
     "metadata": {},
     "output_type": "execute_result"
    }
   ],
   "source": [
    "#under sampling using RandomUnderSampler\n",
    "rus = RandomUnderSampler(random_state=10)\n",
    "X_rus, Y_rus = rus.fit_resample(X_train,y_train)\n",
    "Y_rus.value_counts()"
   ]
  },
  {
   "cell_type": "code",
   "execution_count": 884,
   "id": "710813d3",
   "metadata": {},
   "outputs": [
    {
     "name": "stderr",
     "output_type": "stream",
     "text": [
      "/usr/local/anaconda3/lib/python3.9/site-packages/sklearn/linear_model/_logistic.py:814: ConvergenceWarning: lbfgs failed to converge (status=1):\n",
      "STOP: TOTAL NO. of ITERATIONS REACHED LIMIT.\n",
      "\n",
      "Increase the number of iterations (max_iter) or scale the data as shown in:\n",
      "    https://scikit-learn.org/stable/modules/preprocessing.html\n",
      "Please also refer to the documentation for alternative solver options:\n",
      "    https://scikit-learn.org/stable/modules/linear_model.html#logistic-regression\n",
      "  n_iter_i = _check_optimize_result(\n"
     ]
    }
   ],
   "source": [
    "classification_random_under = LogisticRegression(random_state=0, solver='lbfgs').fit(X_rus, Y_rus)\n"
   ]
  },
  {
   "cell_type": "code",
   "execution_count": 885,
   "id": "de556980",
   "metadata": {},
   "outputs": [
    {
     "name": "stderr",
     "output_type": "stream",
     "text": [
      "/usr/local/anaconda3/lib/python3.9/site-packages/sklearn/utils/deprecation.py:87: FutureWarning: Function plot_confusion_matrix is deprecated; Function `plot_confusion_matrix` is deprecated in 1.0 and will be removed in 1.2. Use one of the class methods: ConfusionMatrixDisplay.from_predictions or ConfusionMatrixDisplay.from_estimator.\n",
      "  warnings.warn(msg, category=FutureWarning)\n",
      "/usr/local/anaconda3/lib/python3.9/site-packages/sklearn/base.py:443: UserWarning: X has feature names, but LogisticRegression was fitted without feature names\n",
      "  warnings.warn(\n",
      "/usr/local/anaconda3/lib/python3.9/site-packages/sklearn/utils/deprecation.py:87: FutureWarning: Function plot_confusion_matrix is deprecated; Function `plot_confusion_matrix` is deprecated in 1.0 and will be removed in 1.2. Use one of the class methods: ConfusionMatrixDisplay.from_predictions or ConfusionMatrixDisplay.from_estimator.\n",
      "  warnings.warn(msg, category=FutureWarning)\n",
      "/usr/local/anaconda3/lib/python3.9/site-packages/sklearn/base.py:443: UserWarning: X has feature names, but LogisticRegression was fitted without feature names\n",
      "  warnings.warn(\n"
     ]
    },
    {
     "data": {
      "text/plain": [
       "<sklearn.metrics._plot.confusion_matrix.ConfusionMatrixDisplay at 0x7fbfd28a8610>"
      ]
     },
     "execution_count": 885,
     "metadata": {},
     "output_type": "execute_result"
    },
    {
     "data": {
      "image/png": "[encoded data removed]",
      "text/plain": [
       "<Figure size 432x288 with 2 Axes>"
      ]
     },
     "metadata": {
      "needs_background": "light"
     },
     "output_type": "display_data"
    },
    {
     "data": {
      "image/png": "[encoded data removed]",
      "text/plain": [
       "<Figure size 432x288 with 2 Axes>"
      ]
     },
     "metadata": {
      "needs_background": "light"
     },
     "output_type": "display_data"
    }
   ],
   "source": [
    "##to see the accurracy\n",
    "plot_confusion_matrix(classification,X_rus, Y_rus)\n",
    "plot_confusion_matrix(classification,X_test, y_test)"
   ]
  },
  {
   "cell_type": "code",
   "execution_count": 889,
   "id": "29e5b5d3",
   "metadata": {},
   "outputs": [],
   "source": [
    "Y_train_perditct = classification_random_under.predict(X_rus)\n",
    "Y_test_perditct = classification_random_under.predict(X_test)"
   ]
  },
  {
   "cell_type": "code",
   "execution_count": 890,
   "id": "73ae52d2",
   "metadata": {},
   "outputs": [
    {
     "data": {
      "text/plain": [
       "0.6663885412320957"
      ]
     },
     "execution_count": 890,
     "metadata": {},
     "output_type": "execute_result"
    }
   ],
   "source": [
    "classification_random_under.score(X_test, y_test)"
   ]
  },
  {
   "cell_type": "code",
   "execution_count": 891,
   "id": "9cb152a4",
   "metadata": {},
   "outputs": [
    {
     "name": "stdout",
     "output_type": "stream",
     "text": [
      "              precision    recall  f1-score   support\n",
      "\n",
      "           0       0.71      0.70      0.70       616\n",
      "           1       0.70      0.71      0.71       616\n",
      "\n",
      "    accuracy                           0.70      1232\n",
      "   macro avg       0.70      0.70      0.70      1232\n",
      "weighted avg       0.70      0.70      0.70      1232\n",
      "               precision    recall  f1-score   support\n",
      "\n",
      "           0       0.97      0.66      0.79      6786\n",
      "           1       0.11      0.70      0.19       405\n",
      "\n",
      "    accuracy                           0.67      7191\n",
      "   macro avg       0.54      0.68      0.49      7191\n",
      "weighted avg       0.93      0.67      0.76      7191\n",
      "\n"
     ]
    }
   ],
   "source": [
    "print(classification_report(Y_rus, Y_train_perditct),classification_report(y_test, Y_test_perditct))"
   ]
  },
  {
   "cell_type": "code",
   "execution_count": 366,
   "id": "a2b6663a",
   "metadata": {},
   "outputs": [
    {
     "data": {
      "text/plain": [
       "0    9904\n",
       "1     616\n",
       "Name: offer_accepted_Yes, dtype: int64"
      ]
     },
     "execution_count": 366,
     "metadata": {},
     "output_type": "execute_result"
    }
   ],
   "source": [
    "#under sampling using TomekLinks\n",
    "t1 = TomekLinks()\n",
    "X_under,Y_under = t1.fit_resample(X_train,y_train)\n",
    "Y_under.value_counts()"
   ]
  },
  {
   "cell_type": "code",
   "execution_count": 367,
   "id": "1f88a8e2",
   "metadata": {},
   "outputs": [
    {
     "name": "stderr",
     "output_type": "stream",
     "text": [
      "/usr/local/anaconda3/lib/python3.9/site-packages/sklearn/linear_model/_logistic.py:814: ConvergenceWarning: lbfgs failed to converge (status=1):\n",
      "STOP: TOTAL NO. of ITERATIONS REACHED LIMIT.\n",
      "\n",
      "Increase the number of iterations (max_iter) or scale the data as shown in:\n",
      "    https://scikit-learn.org/stable/modules/preprocessing.html\n",
      "Please also refer to the documentation for alternative solver options:\n",
      "    https://scikit-learn.org/stable/modules/linear_model.html#logistic-regression\n",
      "  n_iter_i = _check_optimize_result(\n"
     ]
    }
   ],
   "source": [
    "classification_tomeklinks = LogisticRegression(random_state=0, solver='lbfgs').fit(X_under,Y_under)"
   ]
  },
  {
   "cell_type": "code",
   "execution_count": 368,
   "id": "c1e41b93",
   "metadata": {},
   "outputs": [
    {
     "data": {
      "text/plain": [
       "0.9436795994993742"
      ]
     },
     "execution_count": 368,
     "metadata": {},
     "output_type": "execute_result"
    }
   ],
   "source": [
    "classification_tomeklinks.score(X_test, y_test)"
   ]
  },
  {
   "cell_type": "code",
   "execution_count": null,
   "id": "4edd23fc",
   "metadata": {},
   "outputs": [],
   "source": [
    "print(classification_report(Y_res, Y_train_perditct),classification_report(y_test, Y_test_perditct))"
   ]
  },
  {
   "cell_type": "code",
   "execution_count": 370,
   "id": "10c4779e",
   "metadata": {},
   "outputs": [
    {
     "name": "stderr",
     "output_type": "stream",
     "text": [
      "/usr/local/anaconda3/lib/python3.9/site-packages/sklearn/utils/deprecation.py:87: FutureWarning: Function plot_confusion_matrix is deprecated; Function `plot_confusion_matrix` is deprecated in 1.0 and will be removed in 1.2. Use one of the class methods: ConfusionMatrixDisplay.from_predictions or ConfusionMatrixDisplay.from_estimator.\n",
      "  warnings.warn(msg, category=FutureWarning)\n",
      "/usr/local/anaconda3/lib/python3.9/site-packages/sklearn/base.py:443: UserWarning: X has feature names, but LogisticRegression was fitted without feature names\n",
      "  warnings.warn(\n",
      "/usr/local/anaconda3/lib/python3.9/site-packages/sklearn/utils/deprecation.py:87: FutureWarning: Function plot_confusion_matrix is deprecated; Function `plot_confusion_matrix` is deprecated in 1.0 and will be removed in 1.2. Use one of the class methods: ConfusionMatrixDisplay.from_predictions or ConfusionMatrixDisplay.from_estimator.\n",
      "  warnings.warn(msg, category=FutureWarning)\n",
      "/usr/local/anaconda3/lib/python3.9/site-packages/sklearn/base.py:443: UserWarning: X has feature names, but LogisticRegression was fitted without feature names\n",
      "  warnings.warn(\n"
     ]
    },
    {
     "data": {
      "text/plain": [
       "<sklearn.metrics._plot.confusion_matrix.ConfusionMatrixDisplay at 0x7fbfe05fdbe0>"
      ]
     },
     "execution_count": 370,
     "metadata": {},
     "output_type": "execute_result"
    },
    {
     "data": {
      "image/png": "[encoded data removed]",
      "text/plain": [
       "<Figure size 432x288 with 2 Axes>"
      ]
     },
     "metadata": {
      "needs_background": "light"
     },
     "output_type": "display_data"
    },
    {
     "data": {
      "image/png": "[encoded data removed]",
      "text/plain": [
       "<Figure size 432x288 with 2 Axes>"
      ]
     },
     "metadata": {
      "needs_background": "light"
     },
     "output_type": "display_data"
    }
   ],
   "source": [
    "##to see the accurracy\n",
    "plot_confusion_matrix(classification,X_under, Y_under)\n",
    "plot_confusion_matrix(classification,X_test, y_test)"
   ]
  },
  {
   "cell_type": "markdown",
   "id": "e55925b4",
   "metadata": {},
   "source": [
    "After applying under sampling, performance is slightly better, however the model still only predicts \"NO\"."
   ]
  },
  {
   "cell_type": "code",
   "execution_count": 371,
   "id": "8c1908a0",
   "metadata": {},
   "outputs": [
    {
     "data": {
      "text/plain": [
       "0    10169\n",
       "1    10169\n",
       "Name: offer_accepted_Yes, dtype: int64"
      ]
     },
     "execution_count": 371,
     "metadata": {},
     "output_type": "execute_result"
    }
   ],
   "source": [
    "##Over Sampling\n",
    "#over sampling using RandomoverSampler\n",
    "ros = RandomOverSampler(random_state=10)\n",
    "X_rus, Y_rus = ros.fit_resample(X_train,y_train)\n",
    "Y_rus.value_counts()"
   ]
  },
  {
   "cell_type": "code",
   "execution_count": 374,
   "id": "4a550402",
   "metadata": {},
   "outputs": [
    {
     "name": "stderr",
     "output_type": "stream",
     "text": [
      "/usr/local/anaconda3/lib/python3.9/site-packages/sklearn/linear_model/_logistic.py:814: ConvergenceWarning: lbfgs failed to converge (status=1):\n",
      "STOP: TOTAL NO. of ITERATIONS REACHED LIMIT.\n",
      "\n",
      "Increase the number of iterations (max_iter) or scale the data as shown in:\n",
      "    https://scikit-learn.org/stable/modules/preprocessing.html\n",
      "Please also refer to the documentation for alternative solver options:\n",
      "    https://scikit-learn.org/stable/modules/linear_model.html#logistic-regression\n",
      "  n_iter_i = _check_optimize_result(\n"
     ]
    }
   ],
   "source": [
    "classification_random_over = LogisticRegression(random_state=0, solver='lbfgs').fit(X_rus, Y_rus)"
   ]
  },
  {
   "cell_type": "code",
   "execution_count": 375,
   "id": "767d81c9",
   "metadata": {},
   "outputs": [
    {
     "name": "stderr",
     "output_type": "stream",
     "text": [
      "/usr/local/anaconda3/lib/python3.9/site-packages/sklearn/utils/deprecation.py:87: FutureWarning: Function plot_confusion_matrix is deprecated; Function `plot_confusion_matrix` is deprecated in 1.0 and will be removed in 1.2. Use one of the class methods: ConfusionMatrixDisplay.from_predictions or ConfusionMatrixDisplay.from_estimator.\n",
      "  warnings.warn(msg, category=FutureWarning)\n",
      "/usr/local/anaconda3/lib/python3.9/site-packages/sklearn/utils/deprecation.py:87: FutureWarning: Function plot_confusion_matrix is deprecated; Function `plot_confusion_matrix` is deprecated in 1.0 and will be removed in 1.2. Use one of the class methods: ConfusionMatrixDisplay.from_predictions or ConfusionMatrixDisplay.from_estimator.\n",
      "  warnings.warn(msg, category=FutureWarning)\n"
     ]
    },
    {
     "data": {
      "text/plain": [
       "<sklearn.metrics._plot.confusion_matrix.ConfusionMatrixDisplay at 0x7fbfe28cdbe0>"
      ]
     },
     "execution_count": 375,
     "metadata": {},
     "output_type": "execute_result"
    },
    {
     "data": {
      "image/png": "[encoded data removed]",
      "text/plain": [
       "<Figure size 432x288 with 2 Axes>"
      ]
     },
     "metadata": {
      "needs_background": "light"
     },
     "output_type": "display_data"
    },
    {
     "data": {
      "image/png": "[encoded data removed]",
      "text/plain": [
       "<Figure size 432x288 with 2 Axes>"
      ]
     },
     "metadata": {
      "needs_background": "light"
     },
     "output_type": "display_data"
    }
   ],
   "source": [
    "##to see the accurracy\n",
    "plot_confusion_matrix(classification_random_over ,X_train, y_train)\n",
    "plot_confusion_matrix(classification_random_over ,X_test, y_test)\n",
    "\n",
    "##the performance is slightly better, however the model still only predicts \"NO\"."
   ]
  },
  {
   "cell_type": "code",
   "execution_count": 376,
   "id": "8df4e6fa",
   "metadata": {},
   "outputs": [
    {
     "data": {
      "text/plain": [
       "0.6841885690446391"
      ]
     },
     "execution_count": 376,
     "metadata": {},
     "output_type": "execute_result"
    }
   ],
   "source": [
    "classification_random_over.score(X_test, y_test)"
   ]
  },
  {
   "cell_type": "code",
   "execution_count": 377,
   "id": "0420fc38",
   "metadata": {},
   "outputs": [
    {
     "data": {
      "text/plain": [
       "0    10169\n",
       "1    10169\n",
       "Name: offer_accepted_Yes, dtype: int64"
      ]
     },
     "execution_count": 377,
     "metadata": {},
     "output_type": "execute_result"
    }
   ],
   "source": [
    "##Over Sampling\n",
    "#over sampling using SMOTE\n",
    "sm = SMOTE(random_state = 42)\n",
    "X_res, Y_res = sm.fit_resample(X_train,y_train)\n",
    "Y_res.value_counts()"
   ]
  },
  {
   "cell_type": "code",
   "execution_count": 378,
   "id": "c55eecc7",
   "metadata": {},
   "outputs": [
    {
     "name": "stderr",
     "output_type": "stream",
     "text": [
      "/usr/local/anaconda3/lib/python3.9/site-packages/sklearn/linear_model/_logistic.py:814: ConvergenceWarning: lbfgs failed to converge (status=1):\n",
      "STOP: TOTAL NO. of ITERATIONS REACHED LIMIT.\n",
      "\n",
      "Increase the number of iterations (max_iter) or scale the data as shown in:\n",
      "    https://scikit-learn.org/stable/modules/preprocessing.html\n",
      "Please also refer to the documentation for alternative solver options:\n",
      "    https://scikit-learn.org/stable/modules/linear_model.html#logistic-regression\n",
      "  n_iter_i = _check_optimize_result(\n"
     ]
    }
   ],
   "source": [
    "classification_smote = LogisticRegression(random_state=0, solver='lbfgs').fit(X_res, Y_res)"
   ]
  },
  {
   "cell_type": "code",
   "execution_count": 379,
   "id": "efd94a2c",
   "metadata": {},
   "outputs": [
    {
     "data": {
      "text/plain": [
       "0.7936309275483243"
      ]
     },
     "execution_count": 379,
     "metadata": {},
     "output_type": "execute_result"
    }
   ],
   "source": [
    "classification_smote.score(X_test, y_test)"
   ]
  },
  {
   "cell_type": "code",
   "execution_count": 380,
   "id": "20614164",
   "metadata": {},
   "outputs": [
    {
     "name": "stderr",
     "output_type": "stream",
     "text": [
      "/usr/local/anaconda3/lib/python3.9/site-packages/sklearn/utils/deprecation.py:87: FutureWarning: Function plot_confusion_matrix is deprecated; Function `plot_confusion_matrix` is deprecated in 1.0 and will be removed in 1.2. Use one of the class methods: ConfusionMatrixDisplay.from_predictions or ConfusionMatrixDisplay.from_estimator.\n",
      "  warnings.warn(msg, category=FutureWarning)\n",
      "/usr/local/anaconda3/lib/python3.9/site-packages/sklearn/utils/deprecation.py:87: FutureWarning: Function plot_confusion_matrix is deprecated; Function `plot_confusion_matrix` is deprecated in 1.0 and will be removed in 1.2. Use one of the class methods: ConfusionMatrixDisplay.from_predictions or ConfusionMatrixDisplay.from_estimator.\n",
      "  warnings.warn(msg, category=FutureWarning)\n"
     ]
    },
    {
     "data": {
      "text/plain": [
       "<sklearn.metrics._plot.confusion_matrix.ConfusionMatrixDisplay at 0x7fbfe46047c0>"
      ]
     },
     "execution_count": 380,
     "metadata": {},
     "output_type": "execute_result"
    },
    {
     "data": {
      "image/png": "[encoded data removed]",
      "text/plain": [
       "<Figure size 432x288 with 2 Axes>"
      ]
     },
     "metadata": {
      "needs_background": "light"
     },
     "output_type": "display_data"
    },
    {
     "data": {
      "image/png": "[encoded data removed]",
      "text/plain": [
       "<Figure size 432x288 with 2 Axes>"
      ]
     },
     "metadata": {
      "needs_background": "light"
     },
     "output_type": "display_data"
    }
   ],
   "source": [
    "##to see the accurracy\n",
    "plot_confusion_matrix(classification_smote,X_res, Y_res)\n",
    "plot_confusion_matrix(classification_smote,X_test, y_test)"
   ]
  },
  {
   "cell_type": "code",
   "execution_count": null,
   "id": "565f9189",
   "metadata": {},
   "outputs": [],
   "source": [
    "Y_train_perditct = classification_smote.predict(X_rus)\n",
    "Y_test_perditct = classification_smote.predict(X_test)"
   ]
  },
  {
   "cell_type": "code",
   "execution_count": 381,
   "id": "4c086e5a",
   "metadata": {},
   "outputs": [
    {
     "data": {
      "text/html": [
       "<div>\n",
       "<style scoped>\n",
       "    .dataframe tbody tr th:only-of-type {\n",
       "        vertical-align: middle;\n",
       "    }\n",
       "\n",
       "    .dataframe tbody tr th {\n",
       "        vertical-align: top;\n",
       "    }\n",
       "\n",
       "    .dataframe thead th {\n",
       "        text-align: right;\n",
       "    }\n",
       "</style>\n",
       "<table border=\"1\" class=\"dataframe\">\n",
       "  <thead>\n",
       "    <tr style=\"text-align: right;\">\n",
       "      <th></th>\n",
       "      <th>features</th>\n",
       "      <th>coef</th>\n",
       "    </tr>\n",
       "  </thead>\n",
       "  <tbody>\n",
       "    <tr>\n",
       "      <th>0</th>\n",
       "      <td>income_level</td>\n",
       "      <td>-0.806725</td>\n",
       "    </tr>\n",
       "    <tr>\n",
       "      <th>1</th>\n",
       "      <td>#_bank_accounts_open</td>\n",
       "      <td>-0.397877</td>\n",
       "    </tr>\n",
       "    <tr>\n",
       "      <th>2</th>\n",
       "      <td>credit_rating</td>\n",
       "      <td>-1.382343</td>\n",
       "    </tr>\n",
       "    <tr>\n",
       "      <th>3</th>\n",
       "      <td>#_credit_cards_held</td>\n",
       "      <td>-0.139592</td>\n",
       "    </tr>\n",
       "    <tr>\n",
       "      <th>4</th>\n",
       "      <td>#_homes_owned</td>\n",
       "      <td>-0.151236</td>\n",
       "    </tr>\n",
       "    <tr>\n",
       "      <th>5</th>\n",
       "      <td>household_size</td>\n",
       "      <td>-0.037276</td>\n",
       "    </tr>\n",
       "    <tr>\n",
       "      <th>6</th>\n",
       "      <td>average_balance</td>\n",
       "      <td>0.000647</td>\n",
       "    </tr>\n",
       "    <tr>\n",
       "      <th>7</th>\n",
       "      <td>reward_Cash Back</td>\n",
       "      <td>-3.781316</td>\n",
       "    </tr>\n",
       "    <tr>\n",
       "      <th>8</th>\n",
       "      <td>reward_Points</td>\n",
       "      <td>-1.832542</td>\n",
       "    </tr>\n",
       "    <tr>\n",
       "      <th>9</th>\n",
       "      <td>mailer_type_Postcard</td>\n",
       "      <td>-0.150016</td>\n",
       "    </tr>\n",
       "    <tr>\n",
       "      <th>10</th>\n",
       "      <td>overdraft_protection_Yes</td>\n",
       "      <td>-1.514271</td>\n",
       "    </tr>\n",
       "    <tr>\n",
       "      <th>11</th>\n",
       "      <td>own_your_home_Yes</td>\n",
       "      <td>-0.381570</td>\n",
       "    </tr>\n",
       "  </tbody>\n",
       "</table>\n",
       "</div>"
      ],
      "text/plain": [
       "                    features      coef\n",
       "0               income_level -0.806725\n",
       "1       #_bank_accounts_open -0.397877\n",
       "2              credit_rating -1.382343\n",
       "3        #_credit_cards_held -0.139592\n",
       "4              #_homes_owned -0.151236\n",
       "5             household_size -0.037276\n",
       "6            average_balance  0.000647\n",
       "7           reward_Cash Back -3.781316\n",
       "8              reward_Points -1.832542\n",
       "9       mailer_type_Postcard -0.150016\n",
       "10  overdraft_protection_Yes -1.514271\n",
       "11         own_your_home_Yes -0.381570"
      ]
     },
     "execution_count": 381,
     "metadata": {},
     "output_type": "execute_result"
    }
   ],
   "source": [
    "pd.DataFrame(zip(X_res.columns, np.transpose(classification_smote.coef_.tolist()[0])), columns=['features', 'coef'])"
   ]
  },
  {
   "cell_type": "markdown",
   "id": "d257e432",
   "metadata": {},
   "source": [
    "As you can see, the dataset reacts much better than over sampling than under sampling, as the proportion of \"No\" is much higher. In this case, I decided to go with over sampling using SMOTE to deal with inblance data. "
   ]
  },
  {
   "cell_type": "markdown",
   "id": "f99673d8",
   "metadata": {},
   "source": [
    "### Modeling: Model M3_1 \n",
    "#deal with the inbalance data.\n",
    "[<a href=\"#Credit-Card-Marketing-Project\">Back to Top</a>]"
   ]
  },
  {
   "cell_type": "code",
   "execution_count": 945,
   "id": "78f22338",
   "metadata": {},
   "outputs": [],
   "source": [
    "data_avg_m3_1=pd.read_csv('data_avg_m1.csv')"
   ]
  },
  {
   "cell_type": "code",
   "execution_count": 946,
   "id": "cd7be419",
   "metadata": {},
   "outputs": [
    {
     "data": {
      "text/plain": [
       "<seaborn.axisgrid.FacetGrid at 0x7fbfd1498d30>"
      ]
     },
     "execution_count": 946,
     "metadata": {},
     "output_type": "execute_result"
    },
    {
     "data": {
      "image/png": "[encoded data removed]",
      "text/plain": [
       "<Figure size 360x360 with 1 Axes>"
      ]
     },
     "metadata": {
      "needs_background": "light"
     },
     "output_type": "display_data"
    }
   ],
   "source": [
    "sns.displot(data_avg_m3_1['average_balance'])"
   ]
  },
  {
   "cell_type": "code",
   "execution_count": 947,
   "id": "0ef66777",
   "metadata": {},
   "outputs": [],
   "source": [
    "##However, I will try to use the percentile method to clean out the outliars first. \n",
    "data_avg_m3_1['average_balance'] = data_avg_m3_1[(data_avg_m3_1['average_balance']>500) & (data_avg_m3_1['average_balance']<1600)]['average_balance']"
   ]
  },
  {
   "cell_type": "code",
   "execution_count": 948,
   "id": "c5bb61a9",
   "metadata": {},
   "outputs": [
    {
     "data": {
      "text/plain": [
       "<seaborn.axisgrid.FacetGrid at 0x7fbfcb2140a0>"
      ]
     },
     "execution_count": 948,
     "metadata": {},
     "output_type": "execute_result"
    },
    {
     "data": {
      "image/png": "[encoded data removed]",
      "text/plain": [
       "<Figure size 360x360 with 1 Axes>"
      ]
     },
     "metadata": {
      "needs_background": "light"
     },
     "output_type": "display_data"
    }
   ],
   "source": [
    "sns.displot(data_avg_m3_1['average_balance'])"
   ]
  },
  {
   "cell_type": "code",
   "execution_count": 949,
   "id": "635dbc04",
   "metadata": {},
   "outputs": [
    {
     "data": {
      "text/plain": [
       "income_level                   0\n",
       "#_bank_accounts_open           0\n",
       "credit_rating                  0\n",
       "#_credit_cards_held            0\n",
       "#_homes_owned                  0\n",
       "household_size                 0\n",
       "average_balance             2927\n",
       "offer_accepted_Yes             0\n",
       "reward_Cash Back               0\n",
       "reward_Points                  0\n",
       "mailer_type_Postcard           0\n",
       "overdraft_protection_Yes       0\n",
       "own_your_home_Yes              0\n",
       "dtype: int64"
      ]
     },
     "execution_count": 949,
     "metadata": {},
     "output_type": "execute_result"
    }
   ],
   "source": [
    "data_avg_m3_1.isna().sum()\n"
   ]
  },
  {
   "cell_type": "code",
   "execution_count": 950,
   "id": "5245ccc0",
   "metadata": {},
   "outputs": [],
   "source": [
    "data_avg_m3_1 = data_avg_m3_1[~(data_avg_m3_1['average_balance'].isna())]\n"
   ]
  },
  {
   "cell_type": "code",
   "execution_count": 951,
   "id": "a4bf5499",
   "metadata": {},
   "outputs": [],
   "source": [
    "X = data_avg_m3_1.drop(['offer_accepted_Yes'], axis = 1)\n",
    "y = data_avg_m3_1['offer_accepted_Yes']"
   ]
  },
  {
   "cell_type": "code",
   "execution_count": 952,
   "id": "b492cbfe",
   "metadata": {},
   "outputs": [],
   "source": [
    "X_train, X_test, y_train, y_test = train_test_split(X, y, test_size=0.4, random_state=100)"
   ]
  },
  {
   "cell_type": "code",
   "execution_count": 953,
   "id": "189aece3",
   "metadata": {},
   "outputs": [],
   "source": [
    "numericals_train= X_train[['income_level','#_bank_accounts_open','credit_rating','#_credit_cards_held','#_homes_owned','household_size','average_balance']]\n",
    "numericals_test= X_test[['income_level','#_bank_accounts_open','credit_rating','#_credit_cards_held','#_homes_owned','household_size','average_balance']]\n",
    "cat_train = X_train[['reward_Cash Back','reward_Points','mailer_type_Postcard','overdraft_protection_Yes','own_your_home_Yes']]\n",
    "cat_test = X_test[['reward_Cash Back','reward_Points','mailer_type_Postcard','overdraft_protection_Yes','own_your_home_Yes']]"
   ]
  },
  {
   "cell_type": "code",
   "execution_count": 954,
   "id": "dd458298",
   "metadata": {},
   "outputs": [],
   "source": [
    "transformer = StandardScaler().fit(numericals_train)\n",
    "numericals_train_standardized = pd.DataFrame(transformer.transform(numericals_train))\n",
    "numericals_test_standardized = pd.DataFrame(transformer.transform(numericals_test))"
   ]
  },
  {
   "cell_type": "code",
   "execution_count": 955,
   "id": "be574081",
   "metadata": {},
   "outputs": [],
   "source": [
    "X_train_standard = np.concatenate([cat_train, numericals_train_standardized], axis=1)\n",
    "X_test_standard = np.concatenate([cat_test, numericals_test_standardized], axis=1)"
   ]
  },
  {
   "cell_type": "code",
   "execution_count": 956,
   "id": "4e1599db",
   "metadata": {},
   "outputs": [
    {
     "data": {
      "text/plain": [
       "0    8521\n",
       "1    8521\n",
       "Name: offer_accepted_Yes, dtype: int64"
      ]
     },
     "execution_count": 956,
     "metadata": {},
     "output_type": "execute_result"
    }
   ],
   "source": [
    "sm = SMOTE(random_state = 42)\n",
    "X_res, Y_res = sm.fit_resample(X_train_standard, y_train)\n",
    "Y_res.value_counts()"
   ]
  },
  {
   "cell_type": "code",
   "execution_count": 957,
   "id": "24c6beb6",
   "metadata": {},
   "outputs": [],
   "source": [
    "m3 = LogisticRegression(random_state=0, solver='lbfgs',\n",
    "                  multi_class='multinomial').fit(X_res, Y_res)"
   ]
  },
  {
   "cell_type": "code",
   "execution_count": 958,
   "id": "e7ef2be6",
   "metadata": {},
   "outputs": [
    {
     "data": {
      "text/plain": [
       "0.6960132890365448"
      ]
     },
     "execution_count": 958,
     "metadata": {},
     "output_type": "execute_result"
    }
   ],
   "source": [
    "m3.score(X_test_standard, y_test)"
   ]
  },
  {
   "cell_type": "code",
   "execution_count": 959,
   "id": "961c85b3",
   "metadata": {},
   "outputs": [],
   "source": [
    "Y_train_perditct = m3.predict(X_res)\n",
    "Y_test_perditct = m3.predict(X_test_standard)"
   ]
  },
  {
   "cell_type": "code",
   "execution_count": 960,
   "id": "d73a3ad5",
   "metadata": {},
   "outputs": [
    {
     "name": "stdout",
     "output_type": "stream",
     "text": [
      "              precision    recall  f1-score   support\n",
      "\n",
      "           0       0.75      0.71      0.73      8521\n",
      "           1       0.72      0.76      0.74      8521\n",
      "\n",
      "    accuracy                           0.74     17042\n",
      "   macro avg       0.74      0.74      0.74     17042\n",
      "weighted avg       0.74      0.74      0.74     17042\n",
      "               precision    recall  f1-score   support\n",
      "\n",
      "           0       0.97      0.70      0.81      5674\n",
      "           1       0.11      0.64      0.19       346\n",
      "\n",
      "    accuracy                           0.70      6020\n",
      "   macro avg       0.54      0.67      0.50      6020\n",
      "weighted avg       0.92      0.70      0.78      6020\n",
      "\n"
     ]
    }
   ],
   "source": [
    "print(classification_report(Y_res, Y_train_perditct),classification_report(y_test, Y_test_perditct))"
   ]
  },
  {
   "cell_type": "code",
   "execution_count": 906,
   "id": "e2567b53",
   "metadata": {},
   "outputs": [
    {
     "name": "stderr",
     "output_type": "stream",
     "text": [
      "/usr/local/anaconda3/lib/python3.9/site-packages/sklearn/utils/deprecation.py:87: FutureWarning: Function plot_confusion_matrix is deprecated; Function `plot_confusion_matrix` is deprecated in 1.0 and will be removed in 1.2. Use one of the class methods: ConfusionMatrixDisplay.from_predictions or ConfusionMatrixDisplay.from_estimator.\n",
      "  warnings.warn(msg, category=FutureWarning)\n",
      "/usr/local/anaconda3/lib/python3.9/site-packages/sklearn/utils/deprecation.py:87: FutureWarning: Function plot_confusion_matrix is deprecated; Function `plot_confusion_matrix` is deprecated in 1.0 and will be removed in 1.2. Use one of the class methods: ConfusionMatrixDisplay.from_predictions or ConfusionMatrixDisplay.from_estimator.\n",
      "  warnings.warn(msg, category=FutureWarning)\n"
     ]
    },
    {
     "data": {
      "text/plain": [
       "<sklearn.metrics._plot.confusion_matrix.ConfusionMatrixDisplay at 0x7fbfd1498400>"
      ]
     },
     "execution_count": 906,
     "metadata": {},
     "output_type": "execute_result"
    },
    {
     "data": {
      "image/png": "[encoded data removed]",
      "text/plain": [
       "<Figure size 432x288 with 2 Axes>"
      ]
     },
     "metadata": {
      "needs_background": "light"
     },
     "output_type": "display_data"
    },
    {
     "data": {
      "image/png": "[encoded data removed]",
      "text/plain": [
       "<Figure size 432x288 with 2 Axes>"
      ]
     },
     "metadata": {
      "needs_background": "light"
     },
     "output_type": "display_data"
    }
   ],
   "source": [
    "plot_confusion_matrix(m3,X_res, Y_res)\n",
    "plot_confusion_matrix(m3,X_test_standard, y_test)"
   ]
  },
  {
   "cell_type": "code",
   "execution_count": 709,
   "id": "d082acc6",
   "metadata": {},
   "outputs": [
    {
     "data": {
      "text/html": [
       "<div>\n",
       "<style scoped>\n",
       "    .dataframe tbody tr th:only-of-type {\n",
       "        vertical-align: middle;\n",
       "    }\n",
       "\n",
       "    .dataframe tbody tr th {\n",
       "        vertical-align: top;\n",
       "    }\n",
       "\n",
       "    .dataframe thead th {\n",
       "        text-align: right;\n",
       "    }\n",
       "</style>\n",
       "<table border=\"1\" class=\"dataframe\">\n",
       "  <thead>\n",
       "    <tr style=\"text-align: right;\">\n",
       "      <th></th>\n",
       "      <th>features</th>\n",
       "      <th>coef</th>\n",
       "    </tr>\n",
       "  </thead>\n",
       "  <tbody>\n",
       "    <tr>\n",
       "      <th>0</th>\n",
       "      <td>income_level</td>\n",
       "      <td>-0.635868</td>\n",
       "    </tr>\n",
       "    <tr>\n",
       "      <th>1</th>\n",
       "      <td>#_bank_accounts_open</td>\n",
       "      <td>-0.286355</td>\n",
       "    </tr>\n",
       "    <tr>\n",
       "      <th>2</th>\n",
       "      <td>credit_rating</td>\n",
       "      <td>0.724695</td>\n",
       "    </tr>\n",
       "    <tr>\n",
       "      <th>3</th>\n",
       "      <td>#_credit_cards_held</td>\n",
       "      <td>-0.058078</td>\n",
       "    </tr>\n",
       "    <tr>\n",
       "      <th>4</th>\n",
       "      <td>#_homes_owned</td>\n",
       "      <td>0.053293</td>\n",
       "    </tr>\n",
       "    <tr>\n",
       "      <th>5</th>\n",
       "      <td>household_size</td>\n",
       "      <td>-0.198624</td>\n",
       "    </tr>\n",
       "    <tr>\n",
       "      <th>6</th>\n",
       "      <td>average_balance</td>\n",
       "      <td>-0.037979</td>\n",
       "    </tr>\n",
       "    <tr>\n",
       "      <th>7</th>\n",
       "      <td>reward_Cash Back</td>\n",
       "      <td>-0.488377</td>\n",
       "    </tr>\n",
       "    <tr>\n",
       "      <th>8</th>\n",
       "      <td>reward_Points</td>\n",
       "      <td>-0.029235</td>\n",
       "    </tr>\n",
       "    <tr>\n",
       "      <th>9</th>\n",
       "      <td>mailer_type_Postcard</td>\n",
       "      <td>0.007080</td>\n",
       "    </tr>\n",
       "    <tr>\n",
       "      <th>10</th>\n",
       "      <td>overdraft_protection_Yes</td>\n",
       "      <td>-0.016451</td>\n",
       "    </tr>\n",
       "    <tr>\n",
       "      <th>11</th>\n",
       "      <td>own_your_home_Yes</td>\n",
       "      <td>0.024470</td>\n",
       "    </tr>\n",
       "  </tbody>\n",
       "</table>\n",
       "</div>"
      ],
      "text/plain": [
       "                    features      coef\n",
       "0               income_level -0.635868\n",
       "1       #_bank_accounts_open -0.286355\n",
       "2              credit_rating  0.724695\n",
       "3        #_credit_cards_held -0.058078\n",
       "4              #_homes_owned  0.053293\n",
       "5             household_size -0.198624\n",
       "6            average_balance -0.037979\n",
       "7           reward_Cash Back -0.488377\n",
       "8              reward_Points -0.029235\n",
       "9       mailer_type_Postcard  0.007080\n",
       "10  overdraft_protection_Yes -0.016451\n",
       "11         own_your_home_Yes  0.024470"
      ]
     },
     "execution_count": 709,
     "metadata": {},
     "output_type": "execute_result"
    }
   ],
   "source": [
    "pd.DataFrame(zip(X_train.columns, np.transpose(m3.coef_.tolist()[0])), columns=['features', 'coef'])"
   ]
  },
  {
   "cell_type": "code",
   "execution_count": null,
   "id": "cae59fef",
   "metadata": {},
   "outputs": [],
   "source": [
    "Y_train_perditct = m3_2.predict(X_rus)\n",
    "Y_test_perditct = m3_2.predict(X_test_standard)"
   ]
  },
  {
   "cell_type": "code",
   "execution_count": 907,
   "id": "07f2a020",
   "metadata": {},
   "outputs": [
    {
     "data": {
      "text/plain": [
       "0    8521\n",
       "1    8521\n",
       "Name: offer_accepted_Yes, dtype: int64"
      ]
     },
     "execution_count": 907,
     "metadata": {},
     "output_type": "execute_result"
    }
   ],
   "source": [
    "##usiing randomoversampler:\n",
    "ros = RandomOverSampler(random_state=10)\n",
    "X_rus, Y_rus = ros.fit_resample(X_train_standard,y_train)\n",
    "Y_rus.value_counts()"
   ]
  },
  {
   "cell_type": "code",
   "execution_count": 908,
   "id": "517c64ba",
   "metadata": {},
   "outputs": [],
   "source": [
    "m3_2 = LogisticRegression(random_state=0, solver='lbfgs',\n",
    "                  multi_class='multinomial').fit(X_rus, Y_rus)"
   ]
  },
  {
   "cell_type": "code",
   "execution_count": 909,
   "id": "dbb9efc7",
   "metadata": {},
   "outputs": [
    {
     "data": {
      "text/plain": [
       "0.6710963455149501"
      ]
     },
     "execution_count": 909,
     "metadata": {},
     "output_type": "execute_result"
    }
   ],
   "source": [
    "m3_2.score(X_test_standard, y_test)"
   ]
  },
  {
   "cell_type": "code",
   "execution_count": 911,
   "id": "c48b390c",
   "metadata": {},
   "outputs": [],
   "source": [
    "Y_train_perditct = m3_2.predict(X_rus)\n",
    "Y_test_perditct = m3_2.predict(X_test_standard)"
   ]
  },
  {
   "cell_type": "code",
   "execution_count": 912,
   "id": "0bf33b53",
   "metadata": {},
   "outputs": [
    {
     "name": "stdout",
     "output_type": "stream",
     "text": [
      "              precision    recall  f1-score   support\n",
      "\n",
      "           0       0.72      0.68      0.70      8521\n",
      "           1       0.70      0.73      0.71      8521\n",
      "\n",
      "    accuracy                           0.71     17042\n",
      "   macro avg       0.71      0.71      0.71     17042\n",
      "weighted avg       0.71      0.71      0.71     17042\n",
      "               precision    recall  f1-score   support\n",
      "\n",
      "           0       0.97      0.67      0.79      5674\n",
      "           1       0.11      0.66      0.19       346\n",
      "\n",
      "    accuracy                           0.67      6020\n",
      "   macro avg       0.54      0.67      0.49      6020\n",
      "weighted avg       0.92      0.67      0.76      6020\n",
      "\n"
     ]
    }
   ],
   "source": [
    "print(classification_report(Y_rus, Y_train_perditct),classification_report(y_test, Y_test_perditct))"
   ]
  },
  {
   "cell_type": "code",
   "execution_count": 910,
   "id": "c19c8b6b",
   "metadata": {},
   "outputs": [
    {
     "name": "stderr",
     "output_type": "stream",
     "text": [
      "/usr/local/anaconda3/lib/python3.9/site-packages/sklearn/utils/deprecation.py:87: FutureWarning: Function plot_confusion_matrix is deprecated; Function `plot_confusion_matrix` is deprecated in 1.0 and will be removed in 1.2. Use one of the class methods: ConfusionMatrixDisplay.from_predictions or ConfusionMatrixDisplay.from_estimator.\n",
      "  warnings.warn(msg, category=FutureWarning)\n",
      "/usr/local/anaconda3/lib/python3.9/site-packages/sklearn/utils/deprecation.py:87: FutureWarning: Function plot_confusion_matrix is deprecated; Function `plot_confusion_matrix` is deprecated in 1.0 and will be removed in 1.2. Use one of the class methods: ConfusionMatrixDisplay.from_predictions or ConfusionMatrixDisplay.from_estimator.\n",
      "  warnings.warn(msg, category=FutureWarning)\n"
     ]
    },
    {
     "data": {
      "text/plain": [
       "<sklearn.metrics._plot.confusion_matrix.ConfusionMatrixDisplay at 0x7fbfd1fcf7f0>"
      ]
     },
     "execution_count": 910,
     "metadata": {},
     "output_type": "execute_result"
    },
    {
     "data": {
      "image/png": "[encoded data removed]",
      "text/plain": [
       "<Figure size 432x288 with 2 Axes>"
      ]
     },
     "metadata": {
      "needs_background": "light"
     },
     "output_type": "display_data"
    },
    {
     "data": {
      "image/png": "[encoded data removed]",
      "text/plain": [
       "<Figure size 432x288 with 2 Axes>"
      ]
     },
     "metadata": {
      "needs_background": "light"
     },
     "output_type": "display_data"
    }
   ],
   "source": [
    "plot_confusion_matrix(m3_2,X_rus, Y_rus)\n",
    "plot_confusion_matrix(m3_2,X_test_standard, y_test)"
   ]
  },
  {
   "cell_type": "markdown",
   "id": "3d2444f0",
   "metadata": {},
   "source": [
    "### Modeling: Model M4 \n",
    "#only take those features which are significant\n",
    "[<a href=\"#Credit-Card-Marketing-Project\">Back to Top</a>]\n"
   ]
  },
  {
   "cell_type": "code",
   "execution_count": 1093,
   "id": "6881bd12",
   "metadata": {},
   "outputs": [],
   "source": [
    "data_avg_m4=pd.read_csv('data_avg_m1.csv')"
   ]
  },
  {
   "cell_type": "code",
   "execution_count": 1094,
   "id": "715398e9",
   "metadata": {},
   "outputs": [],
   "source": [
    "data_avg_m4['average_balance'] = data_avg_m4[(data_avg_m4['average_balance']>500) & (data_avg_m4['average_balance']<1600)]['average_balance']"
   ]
  },
  {
   "cell_type": "code",
   "execution_count": 1095,
   "id": "701526b7",
   "metadata": {},
   "outputs": [
    {
     "data": {
      "text/plain": [
       "income_level                   0\n",
       "#_bank_accounts_open           0\n",
       "credit_rating                  0\n",
       "#_credit_cards_held            0\n",
       "#_homes_owned                  0\n",
       "household_size                 0\n",
       "average_balance             2927\n",
       "offer_accepted_Yes             0\n",
       "reward_Cash Back               0\n",
       "reward_Points                  0\n",
       "mailer_type_Postcard           0\n",
       "overdraft_protection_Yes       0\n",
       "own_your_home_Yes              0\n",
       "dtype: int64"
      ]
     },
     "execution_count": 1095,
     "metadata": {},
     "output_type": "execute_result"
    }
   ],
   "source": [
    "data_avg_m4.isna().sum()"
   ]
  },
  {
   "cell_type": "code",
   "execution_count": 1096,
   "id": "908070ae",
   "metadata": {},
   "outputs": [],
   "source": [
    "data_avg_m4 = data_avg_m4[~(data_avg_m4['average_balance'].isna())]\n"
   ]
  },
  {
   "cell_type": "code",
   "execution_count": 1098,
   "id": "1ab68229",
   "metadata": {},
   "outputs": [],
   "source": [
    "##only take those features which are significant\n",
    "X = data_avg_m4[['income_level','#_bank_accounts_open','credit_rating','household_size','reward_Cash Back','mailer_type_Postcard']]\n",
    "y = data_avg_m4['offer_accepted_Yes']"
   ]
  },
  {
   "cell_type": "code",
   "execution_count": 1099,
   "id": "34f87e71",
   "metadata": {},
   "outputs": [],
   "source": [
    "X_train, X_test, y_train, y_test = train_test_split(X, y, test_size=0.4, random_state=100)"
   ]
  },
  {
   "cell_type": "code",
   "execution_count": 1100,
   "id": "4579476c",
   "metadata": {},
   "outputs": [],
   "source": [
    "numericals_train= X_train[['income_level','#_bank_accounts_open','credit_rating','household_size']]\n",
    "numericals_test= X_test[['income_level','#_bank_accounts_open','credit_rating','household_size']]\n",
    "cat_train = X_train[['reward_Cash Back','mailer_type_Postcard']]\n",
    "cat_test = X_test[['reward_Cash Back','mailer_type_Postcard']]"
   ]
  },
  {
   "cell_type": "code",
   "execution_count": 1101,
   "id": "9785eefd",
   "metadata": {},
   "outputs": [],
   "source": [
    "transformer = StandardScaler().fit(numericals_train)\n",
    "numericals_train_standardized = pd.DataFrame(transformer.transform(numericals_train))\n",
    "numericals_test_standardized = pd.DataFrame(transformer.transform(numericals_test))"
   ]
  },
  {
   "cell_type": "code",
   "execution_count": 1102,
   "id": "d190ff61",
   "metadata": {},
   "outputs": [],
   "source": [
    "X_train_standard = np.concatenate([cat_train, numericals_train_standardized], axis=1)\n",
    "X_test_standard = np.concatenate([cat_test, numericals_test_standardized], axis=1)"
   ]
  },
  {
   "cell_type": "code",
   "execution_count": 1103,
   "id": "3a668753",
   "metadata": {},
   "outputs": [
    {
     "data": {
      "text/plain": [
       "0    8521\n",
       "1    8521\n",
       "Name: offer_accepted_Yes, dtype: int64"
      ]
     },
     "execution_count": 1103,
     "metadata": {},
     "output_type": "execute_result"
    }
   ],
   "source": [
    "sm = SMOTE(random_state = 42)\n",
    "X_res, Y_res = sm.fit_resample(X_train_standard, y_train)\n",
    "Y_res.value_counts()"
   ]
  },
  {
   "cell_type": "code",
   "execution_count": 1104,
   "id": "2d4508cc",
   "metadata": {},
   "outputs": [],
   "source": [
    "m4 = LogisticRegression(random_state=0, solver='lbfgs').fit(X_res, Y_res)"
   ]
  },
  {
   "cell_type": "code",
   "execution_count": 1105,
   "id": "6ff9a5ff",
   "metadata": {},
   "outputs": [],
   "source": [
    "Y_train_perditct = m4.predict(X_res)\n",
    "Y_test_perditct = m4.predict(X_test_standard)"
   ]
  },
  {
   "cell_type": "code",
   "execution_count": 1106,
   "id": "1b7762e4",
   "metadata": {},
   "outputs": [
    {
     "name": "stdout",
     "output_type": "stream",
     "text": [
      "              precision    recall  f1-score   support\n",
      "\n",
      "           0       0.72      0.69      0.71      8521\n",
      "           1       0.70      0.73      0.72      8521\n",
      "\n",
      "    accuracy                           0.71     17042\n",
      "   macro avg       0.71      0.71      0.71     17042\n",
      "weighted avg       0.71      0.71      0.71     17042\n",
      "               precision    recall  f1-score   support\n",
      "\n",
      "           0       0.97      0.68      0.80      5674\n",
      "           1       0.11      0.65      0.19       346\n",
      "\n",
      "    accuracy                           0.68      6020\n",
      "   macro avg       0.54      0.67      0.50      6020\n",
      "weighted avg       0.92      0.68      0.77      6020\n",
      "\n"
     ]
    }
   ],
   "source": [
    "print(classification_report(Y_res, Y_train_perditct),classification_report(y_test, Y_test_perditct))"
   ]
  },
  {
   "cell_type": "code",
   "execution_count": 1107,
   "id": "66e1787a",
   "metadata": {},
   "outputs": [
    {
     "data": {
      "text/plain": [
       "0.6817275747508306"
      ]
     },
     "execution_count": 1107,
     "metadata": {},
     "output_type": "execute_result"
    }
   ],
   "source": [
    "m4.score(X_test_standard , y_test)"
   ]
  },
  {
   "cell_type": "code",
   "execution_count": 1108,
   "id": "50440cb9",
   "metadata": {},
   "outputs": [
    {
     "name": "stderr",
     "output_type": "stream",
     "text": [
      "/usr/local/anaconda3/lib/python3.9/site-packages/sklearn/utils/deprecation.py:87: FutureWarning: Function plot_confusion_matrix is deprecated; Function `plot_confusion_matrix` is deprecated in 1.0 and will be removed in 1.2. Use one of the class methods: ConfusionMatrixDisplay.from_predictions or ConfusionMatrixDisplay.from_estimator.\n",
      "  warnings.warn(msg, category=FutureWarning)\n",
      "/usr/local/anaconda3/lib/python3.9/site-packages/sklearn/utils/deprecation.py:87: FutureWarning: Function plot_confusion_matrix is deprecated; Function `plot_confusion_matrix` is deprecated in 1.0 and will be removed in 1.2. Use one of the class methods: ConfusionMatrixDisplay.from_predictions or ConfusionMatrixDisplay.from_estimator.\n",
      "  warnings.warn(msg, category=FutureWarning)\n"
     ]
    },
    {
     "data": {
      "text/plain": [
       "<sklearn.metrics._plot.confusion_matrix.ConfusionMatrixDisplay at 0x7fbfd42ebfd0>"
      ]
     },
     "execution_count": 1108,
     "metadata": {},
     "output_type": "execute_result"
    },
    {
     "data": {
      "image/png": "[encoded data removed]",
      "text/plain": [
       "<Figure size 432x288 with 2 Axes>"
      ]
     },
     "metadata": {
      "needs_background": "light"
     },
     "output_type": "display_data"
    },
    {
     "data": {
      "image/png": "[encoded data removed]",
      "text/plain": [
       "<Figure size 432x288 with 2 Axes>"
      ]
     },
     "metadata": {
      "needs_background": "light"
     },
     "output_type": "display_data"
    }
   ],
   "source": [
    "\n",
    "plot_confusion_matrix(m4 ,X_res, Y_res)\n",
    "plot_confusion_matrix(m4 ,X_test_standard, y_test)\n",
    "\n",
    "##the performance is slightly better, however the model still only predicts \"NO\"."
   ]
  },
  {
   "cell_type": "code",
   "execution_count": 728,
   "id": "2883aa21",
   "metadata": {},
   "outputs": [
    {
     "data": {
      "text/html": [
       "<div>\n",
       "<style scoped>\n",
       "    .dataframe tbody tr th:only-of-type {\n",
       "        vertical-align: middle;\n",
       "    }\n",
       "\n",
       "    .dataframe tbody tr th {\n",
       "        vertical-align: top;\n",
       "    }\n",
       "\n",
       "    .dataframe thead th {\n",
       "        text-align: right;\n",
       "    }\n",
       "</style>\n",
       "<table border=\"1\" class=\"dataframe\">\n",
       "  <thead>\n",
       "    <tr style=\"text-align: right;\">\n",
       "      <th></th>\n",
       "      <th>features</th>\n",
       "      <th>coef</th>\n",
       "    </tr>\n",
       "  </thead>\n",
       "  <tbody>\n",
       "    <tr>\n",
       "      <th>0</th>\n",
       "      <td>income_level</td>\n",
       "      <td>-0.635868</td>\n",
       "    </tr>\n",
       "    <tr>\n",
       "      <th>1</th>\n",
       "      <td>#_bank_accounts_open</td>\n",
       "      <td>-0.286355</td>\n",
       "    </tr>\n",
       "    <tr>\n",
       "      <th>2</th>\n",
       "      <td>credit_rating</td>\n",
       "      <td>0.724695</td>\n",
       "    </tr>\n",
       "    <tr>\n",
       "      <th>3</th>\n",
       "      <td>household_size</td>\n",
       "      <td>-0.058078</td>\n",
       "    </tr>\n",
       "    <tr>\n",
       "      <th>4</th>\n",
       "      <td>reward_Cash Back</td>\n",
       "      <td>0.053293</td>\n",
       "    </tr>\n",
       "  </tbody>\n",
       "</table>\n",
       "</div>"
      ],
      "text/plain": [
       "               features      coef\n",
       "0          income_level -0.635868\n",
       "1  #_bank_accounts_open -0.286355\n",
       "2         credit_rating  0.724695\n",
       "3        household_size -0.058078\n",
       "4      reward_Cash Back  0.053293"
      ]
     },
     "execution_count": 728,
     "metadata": {},
     "output_type": "execute_result"
    }
   ],
   "source": [
    "pd.DataFrame(zip(X_train.columns, np.transpose(m3.coef_.tolist()[0])), columns=['features', 'coef'])"
   ]
  },
  {
   "cell_type": "markdown",
   "id": "7f58186c",
   "metadata": {},
   "source": [
    "### Modeling: Model M5\n",
    "#only take those features which are significant for my understanding\n",
    "[<a href=\"#Credit-Card-Marketing-Project\">Back to Top</a>]"
   ]
  },
  {
   "cell_type": "code",
   "execution_count": 1001,
   "id": "bb0915ad",
   "metadata": {},
   "outputs": [],
   "source": [
    "data_avg_m5=pd.read_csv('data_avg_m1.csv')"
   ]
  },
  {
   "cell_type": "code",
   "execution_count": 1002,
   "id": "e46bb02a",
   "metadata": {},
   "outputs": [],
   "source": [
    "data_avg_m5['average_balance'] = data_avg_m5[(data_avg_m5['average_balance']>500) & (data_avg_m5['average_balance']<1600)]['average_balance']"
   ]
  },
  {
   "cell_type": "code",
   "execution_count": 1003,
   "id": "e5b4fcfa",
   "metadata": {},
   "outputs": [],
   "source": [
    "data_avg_m5 = data_avg_m5[~(data_avg_m5['average_balance'].isna())]\n"
   ]
  },
  {
   "cell_type": "code",
   "execution_count": 1004,
   "id": "c2fe8e5b",
   "metadata": {},
   "outputs": [
    {
     "data": {
      "text/plain": [
       "Index(['income_level', '#_bank_accounts_open', 'credit_rating',\n",
       "       '#_credit_cards_held', '#_homes_owned', 'household_size',\n",
       "       'average_balance', 'offer_accepted_Yes', 'reward_Cash Back',\n",
       "       'reward_Points', 'mailer_type_Postcard', 'overdraft_protection_Yes',\n",
       "       'own_your_home_Yes'],\n",
       "      dtype='object')"
      ]
     },
     "execution_count": 1004,
     "metadata": {},
     "output_type": "execute_result"
    }
   ],
   "source": [
    "data_avg_m5.columns"
   ]
  },
  {
   "cell_type": "code",
   "execution_count": 1005,
   "id": "107bcd2c",
   "metadata": {},
   "outputs": [],
   "source": [
    "##only take those features which are significant\n",
    "X = data_avg_m5[['income_level','#_bank_accounts_open','credit_rating','#_homes_owned','household_size','reward_Cash Back','reward_Points','mailer_type_Postcard']]\n",
    "y = data_avg_m5['offer_accepted_Yes']"
   ]
  },
  {
   "cell_type": "code",
   "execution_count": 1006,
   "id": "832253c0",
   "metadata": {},
   "outputs": [],
   "source": [
    "X_train, X_test, y_train, y_test = train_test_split(X, y, test_size=0.4, random_state=100)"
   ]
  },
  {
   "cell_type": "code",
   "execution_count": 1007,
   "id": "ab70c658",
   "metadata": {},
   "outputs": [],
   "source": [
    "numericals_train= X_train[['income_level','#_bank_accounts_open','credit_rating','#_homes_owned','household_size']]\n",
    "numericals_test= X_test[['income_level','#_bank_accounts_open','credit_rating','#_homes_owned','household_size']]\n",
    "cat_train = X_train[['reward_Cash Back','reward_Points','mailer_type_Postcard']]\n",
    "cat_test = X_test[['reward_Cash Back','reward_Points','mailer_type_Postcard']]"
   ]
  },
  {
   "cell_type": "code",
   "execution_count": 1008,
   "id": "b5dc3649",
   "metadata": {},
   "outputs": [],
   "source": [
    "transformer = StandardScaler().fit(numericals_train)\n",
    "numericals_train_standardized = pd.DataFrame(transformer.transform(numericals_train))\n",
    "numericals_test_standardized = pd.DataFrame(transformer.transform(numericals_test))"
   ]
  },
  {
   "cell_type": "code",
   "execution_count": 1009,
   "id": "173202ea",
   "metadata": {},
   "outputs": [],
   "source": [
    "X_train_standard = np.concatenate([cat_train, numericals_train_standardized], axis=1)\n",
    "X_test_standard = np.concatenate([cat_test, numericals_test_standardized], axis=1)"
   ]
  },
  {
   "cell_type": "code",
   "execution_count": 1010,
   "id": "77095c3e",
   "metadata": {},
   "outputs": [
    {
     "data": {
      "text/plain": [
       "0    8521\n",
       "1    8521\n",
       "Name: offer_accepted_Yes, dtype: int64"
      ]
     },
     "execution_count": 1010,
     "metadata": {},
     "output_type": "execute_result"
    }
   ],
   "source": [
    "sm = SMOTE(random_state = 42)\n",
    "X_res, Y_res = sm.fit_resample(X_train_standard, y_train)\n",
    "Y_res.value_counts()"
   ]
  },
  {
   "cell_type": "code",
   "execution_count": 1011,
   "id": "c01a89c9",
   "metadata": {},
   "outputs": [],
   "source": [
    "m5 = LogisticRegression(random_state=0, solver='lbfgs').fit(X_res, Y_res)"
   ]
  },
  {
   "cell_type": "code",
   "execution_count": 1012,
   "id": "6d7bcdee",
   "metadata": {},
   "outputs": [
    {
     "data": {
      "text/plain": [
       "0.6908637873754153"
      ]
     },
     "execution_count": 1012,
     "metadata": {},
     "output_type": "execute_result"
    }
   ],
   "source": [
    "m5.score(X_test_standard, y_test)\n",
    "#if I don't scale the test sample, it's more accurate than scaling it. "
   ]
  },
  {
   "cell_type": "code",
   "execution_count": 1014,
   "id": "784bfb32",
   "metadata": {},
   "outputs": [],
   "source": [
    "Y_train_perditct = m5.predict(X_res)\n",
    "Y_test_perditct = m5.predict(X_test_standard)"
   ]
  },
  {
   "cell_type": "code",
   "execution_count": 1015,
   "id": "25c30a2f",
   "metadata": {},
   "outputs": [
    {
     "name": "stdout",
     "output_type": "stream",
     "text": [
      "              precision    recall  f1-score   support\n",
      "\n",
      "           0       0.74      0.70      0.72      8521\n",
      "           1       0.72      0.76      0.74      8521\n",
      "\n",
      "    accuracy                           0.73     17042\n",
      "   macro avg       0.73      0.73      0.73     17042\n",
      "weighted avg       0.73      0.73      0.73     17042\n",
      "               precision    recall  f1-score   support\n",
      "\n",
      "           0       0.97      0.69      0.81      5674\n",
      "           1       0.11      0.64      0.19       346\n",
      "\n",
      "    accuracy                           0.69      6020\n",
      "   macro avg       0.54      0.67      0.50      6020\n",
      "weighted avg       0.92      0.69      0.77      6020\n",
      "\n"
     ]
    }
   ],
   "source": [
    "\n",
    "print(classification_report(Y_res, Y_train_perditct),classification_report(y_test, Y_test_perditct))"
   ]
  },
  {
   "cell_type": "code",
   "execution_count": 1013,
   "id": "2ac75abd",
   "metadata": {},
   "outputs": [
    {
     "name": "stderr",
     "output_type": "stream",
     "text": [
      "/usr/local/anaconda3/lib/python3.9/site-packages/sklearn/utils/deprecation.py:87: FutureWarning: Function plot_confusion_matrix is deprecated; Function `plot_confusion_matrix` is deprecated in 1.0 and will be removed in 1.2. Use one of the class methods: ConfusionMatrixDisplay.from_predictions or ConfusionMatrixDisplay.from_estimator.\n",
      "  warnings.warn(msg, category=FutureWarning)\n",
      "/usr/local/anaconda3/lib/python3.9/site-packages/sklearn/utils/deprecation.py:87: FutureWarning: Function plot_confusion_matrix is deprecated; Function `plot_confusion_matrix` is deprecated in 1.0 and will be removed in 1.2. Use one of the class methods: ConfusionMatrixDisplay.from_predictions or ConfusionMatrixDisplay.from_estimator.\n",
      "  warnings.warn(msg, category=FutureWarning)\n"
     ]
    },
    {
     "data": {
      "text/plain": [
       "<sklearn.metrics._plot.confusion_matrix.ConfusionMatrixDisplay at 0x7fbfe366cbb0>"
      ]
     },
     "execution_count": 1013,
     "metadata": {},
     "output_type": "execute_result"
    },
    {
     "data": {
      "image/png": "[encoded data removed]",
      "text/plain": [
       "<Figure size 432x288 with 2 Axes>"
      ]
     },
     "metadata": {
      "needs_background": "light"
     },
     "output_type": "display_data"
    },
    {
     "data": {
      "image/png": "[encoded data removed]",
      "text/plain": [
       "<Figure size 432x288 with 2 Axes>"
      ]
     },
     "metadata": {
      "needs_background": "light"
     },
     "output_type": "display_data"
    }
   ],
   "source": [
    "plot_confusion_matrix(m5 ,X_res, Y_res)\n",
    "plot_confusion_matrix(m5 ,X_test_standard, y_test)"
   ]
  },
  {
   "cell_type": "code",
   "execution_count": 925,
   "id": "91732a73",
   "metadata": {},
   "outputs": [
    {
     "data": {
      "text/html": [
       "<div>\n",
       "<style scoped>\n",
       "    .dataframe tbody tr th:only-of-type {\n",
       "        vertical-align: middle;\n",
       "    }\n",
       "\n",
       "    .dataframe tbody tr th {\n",
       "        vertical-align: top;\n",
       "    }\n",
       "\n",
       "    .dataframe thead th {\n",
       "        text-align: right;\n",
       "    }\n",
       "</style>\n",
       "<table border=\"1\" class=\"dataframe\">\n",
       "  <thead>\n",
       "    <tr style=\"text-align: right;\">\n",
       "      <th></th>\n",
       "      <th>features</th>\n",
       "      <th>coef</th>\n",
       "    </tr>\n",
       "  </thead>\n",
       "  <tbody>\n",
       "    <tr>\n",
       "      <th>0</th>\n",
       "      <td>income_level</td>\n",
       "      <td>-1.218828</td>\n",
       "    </tr>\n",
       "    <tr>\n",
       "      <th>1</th>\n",
       "      <td>#_bank_accounts_open</td>\n",
       "      <td>-0.545751</td>\n",
       "    </tr>\n",
       "    <tr>\n",
       "      <th>2</th>\n",
       "      <td>credit_rating</td>\n",
       "      <td>1.382404</td>\n",
       "    </tr>\n",
       "    <tr>\n",
       "      <th>3</th>\n",
       "      <td>#_homes_owned</td>\n",
       "      <td>-0.401533</td>\n",
       "    </tr>\n",
       "    <tr>\n",
       "      <th>4</th>\n",
       "      <td>household_size</td>\n",
       "      <td>-0.072609</td>\n",
       "    </tr>\n",
       "    <tr>\n",
       "      <th>5</th>\n",
       "      <td>reward_Cash Back</td>\n",
       "      <td>-0.963573</td>\n",
       "    </tr>\n",
       "    <tr>\n",
       "      <th>6</th>\n",
       "      <td>reward_Points</td>\n",
       "      <td>0.013584</td>\n",
       "    </tr>\n",
       "    <tr>\n",
       "      <th>7</th>\n",
       "      <td>mailer_type_Postcard</td>\n",
       "      <td>-0.036347</td>\n",
       "    </tr>\n",
       "  </tbody>\n",
       "</table>\n",
       "</div>"
      ],
      "text/plain": [
       "               features      coef\n",
       "0          income_level -1.218828\n",
       "1  #_bank_accounts_open -0.545751\n",
       "2         credit_rating  1.382404\n",
       "3         #_homes_owned -0.401533\n",
       "4        household_size -0.072609\n",
       "5      reward_Cash Back -0.963573\n",
       "6         reward_Points  0.013584\n",
       "7  mailer_type_Postcard -0.036347"
      ]
     },
     "execution_count": 925,
     "metadata": {},
     "output_type": "execute_result"
    }
   ],
   "source": [
    "pd.DataFrame(zip(X_train.columns, np.transpose(m5.coef_.tolist()[0])), columns=['features', 'coef'])"
   ]
  },
  {
   "cell_type": "markdown",
   "id": "1d64a516",
   "metadata": {},
   "source": [
    "### Modeling: Model M6\n",
    "#only take those features which are significant for my understanding\n",
    "[<a href=\"#Credit-Card-Marketing-Project\">Back to Top</a>]"
   ]
  },
  {
   "cell_type": "code",
   "execution_count": 1049,
   "id": "b607e843",
   "metadata": {},
   "outputs": [],
   "source": [
    "data_avg_m6=pd.read_csv('data_avg_m1.csv')"
   ]
  },
  {
   "cell_type": "code",
   "execution_count": 1050,
   "id": "aa80313b",
   "metadata": {},
   "outputs": [],
   "source": [
    "##only take those features which are significant\n",
    "X = data_avg_m6[['income_level','#_bank_accounts_open','credit_rating','#_homes_owned','household_size','reward_Cash Back','reward_Points','mailer_type_Postcard']]\n",
    "y = data_avg_m6['offer_accepted_Yes']"
   ]
  },
  {
   "cell_type": "code",
   "execution_count": 1051,
   "id": "34976691",
   "metadata": {},
   "outputs": [],
   "source": [
    "X_train, X_test, y_train, y_test = train_test_split(X, y, test_size=0.4, random_state=100)"
   ]
  },
  {
   "cell_type": "code",
   "execution_count": 1052,
   "id": "87eb0fff",
   "metadata": {},
   "outputs": [],
   "source": [
    "numericals_train= X_train[['income_level','#_bank_accounts_open','credit_rating','#_homes_owned','household_size']]\n",
    "numericals_test= X_test[['income_level','#_bank_accounts_open','credit_rating','#_homes_owned','household_size']]\n",
    "cat_train = X_train[['reward_Cash Back','reward_Points','mailer_type_Postcard']]\n",
    "cat_test = X_test[['reward_Cash Back','reward_Points','mailer_type_Postcard']]"
   ]
  },
  {
   "cell_type": "code",
   "execution_count": 1053,
   "id": "7540b387",
   "metadata": {},
   "outputs": [],
   "source": [
    "transformer = StandardScaler().fit(numericals_train)\n",
    "numericals_train_standardized = pd.DataFrame(transformer.transform(numericals_train))\n",
    "numericals_test_standardized = pd.DataFrame(transformer.transform(numericals_test))"
   ]
  },
  {
   "cell_type": "code",
   "execution_count": 1054,
   "id": "555c7490",
   "metadata": {},
   "outputs": [],
   "source": [
    "\n",
    "X_train_standard = np.concatenate([cat_train, numericals_train_standardized], axis=1)\n",
    "X_test_standard = np.concatenate([cat_test, numericals_test_standardized], axis=1)"
   ]
  },
  {
   "cell_type": "code",
   "execution_count": 1055,
   "id": "dddef093",
   "metadata": {},
   "outputs": [
    {
     "data": {
      "text/plain": [
       "0    10169\n",
       "1    10169\n",
       "Name: offer_accepted_Yes, dtype: int64"
      ]
     },
     "execution_count": 1055,
     "metadata": {},
     "output_type": "execute_result"
    }
   ],
   "source": [
    "sm = SMOTE(random_state = 42)\n",
    "X_res, Y_res = sm.fit_resample(X_train, y_train)\n",
    "Y_res.value_counts()"
   ]
  },
  {
   "cell_type": "code",
   "execution_count": 1056,
   "id": "9df2effd",
   "metadata": {},
   "outputs": [],
   "source": [
    "m6 = LogisticRegression(random_state=0, solver='lbfgs').fit(X_res, Y_res)"
   ]
  },
  {
   "cell_type": "code",
   "execution_count": 1057,
   "id": "1578e5d4",
   "metadata": {},
   "outputs": [
    {
     "name": "stderr",
     "output_type": "stream",
     "text": [
      "/usr/local/anaconda3/lib/python3.9/site-packages/sklearn/utils/deprecation.py:87: FutureWarning: Function plot_confusion_matrix is deprecated; Function `plot_confusion_matrix` is deprecated in 1.0 and will be removed in 1.2. Use one of the class methods: ConfusionMatrixDisplay.from_predictions or ConfusionMatrixDisplay.from_estimator.\n",
      "  warnings.warn(msg, category=FutureWarning)\n",
      "/usr/local/anaconda3/lib/python3.9/site-packages/sklearn/utils/deprecation.py:87: FutureWarning: Function plot_confusion_matrix is deprecated; Function `plot_confusion_matrix` is deprecated in 1.0 and will be removed in 1.2. Use one of the class methods: ConfusionMatrixDisplay.from_predictions or ConfusionMatrixDisplay.from_estimator.\n",
      "  warnings.warn(msg, category=FutureWarning)\n",
      "/usr/local/anaconda3/lib/python3.9/site-packages/sklearn/base.py:450: UserWarning: X does not have valid feature names, but LogisticRegression was fitted with feature names\n",
      "  warnings.warn(\n"
     ]
    },
    {
     "data": {
      "text/plain": [
       "<sklearn.metrics._plot.confusion_matrix.ConfusionMatrixDisplay at 0x7fbfcd1a86a0>"
      ]
     },
     "execution_count": 1057,
     "metadata": {},
     "output_type": "execute_result"
    },
    {
     "data": {
      "image/png": "[encoded data removed]",
      "text/plain": [
       "<Figure size 432x288 with 2 Axes>"
      ]
     },
     "metadata": {
      "needs_background": "light"
     },
     "output_type": "display_data"
    },
    {
     "data": {
      "image/png": "[encoded data removed]",
      "text/plain": [
       "<Figure size 432x288 with 2 Axes>"
      ]
     },
     "metadata": {
      "needs_background": "light"
     },
     "output_type": "display_data"
    }
   ],
   "source": [
    "plot_confusion_matrix(m6 ,X_res, Y_res)\n",
    "plot_confusion_matrix(m6 ,X_test_standard, y_test)"
   ]
  },
  {
   "cell_type": "code",
   "execution_count": 1058,
   "id": "d5e6a235",
   "metadata": {},
   "outputs": [
    {
     "name": "stderr",
     "output_type": "stream",
     "text": [
      "/usr/local/anaconda3/lib/python3.9/site-packages/sklearn/base.py:450: UserWarning: X does not have valid feature names, but LogisticRegression was fitted with feature names\n",
      "  warnings.warn(\n"
     ]
    },
    {
     "data": {
      "text/plain": [
       "0.08329856765401196"
      ]
     },
     "execution_count": 1058,
     "metadata": {},
     "output_type": "execute_result"
    }
   ],
   "source": [
    "m6.score(X_test_standard, y_test)\n",
    "#if I don't scale the test sample, it's more accurate than scaling it. "
   ]
  },
  {
   "cell_type": "markdown",
   "id": "6228d436",
   "metadata": {},
   "source": [
    "### Modeling: Model M7\n",
    "#encoding the categorical features \"income_level\", \"credit_rating\" \n",
    "[<a href=\"#Credit-Card-Marketing-Project\">Back to Top</a>]"
   ]
  },
  {
   "cell_type": "code",
   "execution_count": 1039,
   "id": "7e43e101",
   "metadata": {},
   "outputs": [],
   "source": [
    "data_avg2 = data.drop(['q1_balance', 'q2_balance', 'q3_balance', 'q4_balance', 'customer_number'], axis =1)"
   ]
  },
  {
   "cell_type": "code",
   "execution_count": 1040,
   "id": "609ec42a",
   "metadata": {},
   "outputs": [
    {
     "data": {
      "text/html": [
       "<div>\n",
       "<style scoped>\n",
       "    .dataframe tbody tr th:only-of-type {\n",
       "        vertical-align: middle;\n",
       "    }\n",
       "\n",
       "    .dataframe tbody tr th {\n",
       "        vertical-align: top;\n",
       "    }\n",
       "\n",
       "    .dataframe thead th {\n",
       "        text-align: right;\n",
       "    }\n",
       "</style>\n",
       "<table border=\"1\" class=\"dataframe\">\n",
       "  <thead>\n",
       "    <tr style=\"text-align: right;\">\n",
       "      <th></th>\n",
       "      <th>offer_accepted</th>\n",
       "      <th>reward</th>\n",
       "      <th>mailer_type</th>\n",
       "      <th>income_level</th>\n",
       "      <th>#_bank_accounts_open</th>\n",
       "      <th>overdraft_protection</th>\n",
       "      <th>credit_rating</th>\n",
       "      <th>#_credit_cards_held</th>\n",
       "      <th>#_homes_owned</th>\n",
       "      <th>household_size</th>\n",
       "      <th>own_your_home</th>\n",
       "      <th>average_balance</th>\n",
       "    </tr>\n",
       "  </thead>\n",
       "  <tbody>\n",
       "    <tr>\n",
       "      <th>0</th>\n",
       "      <td>No</td>\n",
       "      <td>Air Miles</td>\n",
       "      <td>Letter</td>\n",
       "      <td>High</td>\n",
       "      <td>1</td>\n",
       "      <td>No</td>\n",
       "      <td>High</td>\n",
       "      <td>2</td>\n",
       "      <td>1</td>\n",
       "      <td>4</td>\n",
       "      <td>No</td>\n",
       "      <td>1160.75</td>\n",
       "    </tr>\n",
       "    <tr>\n",
       "      <th>1</th>\n",
       "      <td>No</td>\n",
       "      <td>Air Miles</td>\n",
       "      <td>Letter</td>\n",
       "      <td>Medium</td>\n",
       "      <td>1</td>\n",
       "      <td>No</td>\n",
       "      <td>Medium</td>\n",
       "      <td>2</td>\n",
       "      <td>2</td>\n",
       "      <td>5</td>\n",
       "      <td>Yes</td>\n",
       "      <td>147.25</td>\n",
       "    </tr>\n",
       "    <tr>\n",
       "      <th>2</th>\n",
       "      <td>No</td>\n",
       "      <td>Air Miles</td>\n",
       "      <td>Postcard</td>\n",
       "      <td>High</td>\n",
       "      <td>2</td>\n",
       "      <td>No</td>\n",
       "      <td>Medium</td>\n",
       "      <td>2</td>\n",
       "      <td>1</td>\n",
       "      <td>2</td>\n",
       "      <td>Yes</td>\n",
       "      <td>276.50</td>\n",
       "    </tr>\n",
       "    <tr>\n",
       "      <th>3</th>\n",
       "      <td>No</td>\n",
       "      <td>Air Miles</td>\n",
       "      <td>Letter</td>\n",
       "      <td>Medium</td>\n",
       "      <td>2</td>\n",
       "      <td>No</td>\n",
       "      <td>High</td>\n",
       "      <td>1</td>\n",
       "      <td>1</td>\n",
       "      <td>4</td>\n",
       "      <td>No</td>\n",
       "      <td>1219.00</td>\n",
       "    </tr>\n",
       "    <tr>\n",
       "      <th>4</th>\n",
       "      <td>No</td>\n",
       "      <td>Air Miles</td>\n",
       "      <td>Letter</td>\n",
       "      <td>Medium</td>\n",
       "      <td>1</td>\n",
       "      <td>No</td>\n",
       "      <td>Medium</td>\n",
       "      <td>2</td>\n",
       "      <td>1</td>\n",
       "      <td>6</td>\n",
       "      <td>Yes</td>\n",
       "      <td>1211.00</td>\n",
       "    </tr>\n",
       "    <tr>\n",
       "      <th>...</th>\n",
       "      <td>...</td>\n",
       "      <td>...</td>\n",
       "      <td>...</td>\n",
       "      <td>...</td>\n",
       "      <td>...</td>\n",
       "      <td>...</td>\n",
       "      <td>...</td>\n",
       "      <td>...</td>\n",
       "      <td>...</td>\n",
       "      <td>...</td>\n",
       "      <td>...</td>\n",
       "      <td>...</td>\n",
       "    </tr>\n",
       "    <tr>\n",
       "      <th>17995</th>\n",
       "      <td>No</td>\n",
       "      <td>Cash Back</td>\n",
       "      <td>Letter</td>\n",
       "      <td>High</td>\n",
       "      <td>1</td>\n",
       "      <td>No</td>\n",
       "      <td>Low</td>\n",
       "      <td>1</td>\n",
       "      <td>1</td>\n",
       "      <td>5</td>\n",
       "      <td>Yes</td>\n",
       "      <td>167.50</td>\n",
       "    </tr>\n",
       "    <tr>\n",
       "      <th>17996</th>\n",
       "      <td>No</td>\n",
       "      <td>Cash Back</td>\n",
       "      <td>Letter</td>\n",
       "      <td>High</td>\n",
       "      <td>1</td>\n",
       "      <td>No</td>\n",
       "      <td>Low</td>\n",
       "      <td>3</td>\n",
       "      <td>1</td>\n",
       "      <td>3</td>\n",
       "      <td>Yes</td>\n",
       "      <td>850.50</td>\n",
       "    </tr>\n",
       "    <tr>\n",
       "      <th>17997</th>\n",
       "      <td>No</td>\n",
       "      <td>Cash Back</td>\n",
       "      <td>Letter</td>\n",
       "      <td>High</td>\n",
       "      <td>1</td>\n",
       "      <td>No</td>\n",
       "      <td>Low</td>\n",
       "      <td>2</td>\n",
       "      <td>1</td>\n",
       "      <td>4</td>\n",
       "      <td>No</td>\n",
       "      <td>1087.25</td>\n",
       "    </tr>\n",
       "    <tr>\n",
       "      <th>17998</th>\n",
       "      <td>No</td>\n",
       "      <td>Cash Back</td>\n",
       "      <td>Letter</td>\n",
       "      <td>Medium</td>\n",
       "      <td>1</td>\n",
       "      <td>No</td>\n",
       "      <td>Medium</td>\n",
       "      <td>4</td>\n",
       "      <td>2</td>\n",
       "      <td>2</td>\n",
       "      <td>Yes</td>\n",
       "      <td>1022.25</td>\n",
       "    </tr>\n",
       "    <tr>\n",
       "      <th>17999</th>\n",
       "      <td>No</td>\n",
       "      <td>Cash Back</td>\n",
       "      <td>Letter</td>\n",
       "      <td>Low</td>\n",
       "      <td>2</td>\n",
       "      <td>No</td>\n",
       "      <td>Medium</td>\n",
       "      <td>2</td>\n",
       "      <td>1</td>\n",
       "      <td>3</td>\n",
       "      <td>No</td>\n",
       "      <td>1056.00</td>\n",
       "    </tr>\n",
       "  </tbody>\n",
       "</table>\n",
       "<p>17976 rows × 12 columns</p>\n",
       "</div>"
      ],
      "text/plain": [
       "      offer_accepted     reward mailer_type income_level  \\\n",
       "0                 No  Air Miles      Letter         High   \n",
       "1                 No  Air Miles      Letter       Medium   \n",
       "2                 No  Air Miles    Postcard         High   \n",
       "3                 No  Air Miles      Letter       Medium   \n",
       "4                 No  Air Miles      Letter       Medium   \n",
       "...              ...        ...         ...          ...   \n",
       "17995             No  Cash Back      Letter         High   \n",
       "17996             No  Cash Back      Letter         High   \n",
       "17997             No  Cash Back      Letter         High   \n",
       "17998             No  Cash Back      Letter       Medium   \n",
       "17999             No  Cash Back      Letter          Low   \n",
       "\n",
       "       #_bank_accounts_open overdraft_protection credit_rating  \\\n",
       "0                         1                   No          High   \n",
       "1                         1                   No        Medium   \n",
       "2                         2                   No        Medium   \n",
       "3                         2                   No          High   \n",
       "4                         1                   No        Medium   \n",
       "...                     ...                  ...           ...   \n",
       "17995                     1                   No           Low   \n",
       "17996                     1                   No           Low   \n",
       "17997                     1                   No           Low   \n",
       "17998                     1                   No        Medium   \n",
       "17999                     2                   No        Medium   \n",
       "\n",
       "       #_credit_cards_held  #_homes_owned  household_size own_your_home  \\\n",
       "0                        2              1               4            No   \n",
       "1                        2              2               5           Yes   \n",
       "2                        2              1               2           Yes   \n",
       "3                        1              1               4            No   \n",
       "4                        2              1               6           Yes   \n",
       "...                    ...            ...             ...           ...   \n",
       "17995                    1              1               5           Yes   \n",
       "17996                    3              1               3           Yes   \n",
       "17997                    2              1               4            No   \n",
       "17998                    4              2               2           Yes   \n",
       "17999                    2              1               3            No   \n",
       "\n",
       "       average_balance  \n",
       "0              1160.75  \n",
       "1               147.25  \n",
       "2               276.50  \n",
       "3              1219.00  \n",
       "4              1211.00  \n",
       "...                ...  \n",
       "17995           167.50  \n",
       "17996           850.50  \n",
       "17997          1087.25  \n",
       "17998          1022.25  \n",
       "17999          1056.00  \n",
       "\n",
       "[17976 rows x 12 columns]"
      ]
     },
     "execution_count": 1040,
     "metadata": {},
     "output_type": "execute_result"
    }
   ],
   "source": [
    "data_avg2"
   ]
  },
  {
   "cell_type": "code",
   "execution_count": 1041,
   "id": "288aca91",
   "metadata": {},
   "outputs": [],
   "source": [
    "##Encoding categorical data\n",
    "data_avg2 = pd.get_dummies(data_avg2, columns = ['offer_accepted','reward', 'mailer_type', 'overdraft_protection', 'own_your_home','income_level','credit_rating'], drop_first = True)\n"
   ]
  },
  {
   "cell_type": "code",
   "execution_count": 1042,
   "id": "beda3e76",
   "metadata": {},
   "outputs": [],
   "source": [
    "X = data_avg2.drop(['offer_accepted_Yes'], axis =1)\n",
    "y = data_avg2['offer_accepted_Yes']\n"
   ]
  },
  {
   "cell_type": "code",
   "execution_count": 1043,
   "id": "7af860f6",
   "metadata": {},
   "outputs": [],
   "source": [
    "X_train, X_test, y_train, y_test = train_test_split(X, y, test_size=0.4, random_state=100)"
   ]
  },
  {
   "cell_type": "code",
   "execution_count": 1044,
   "id": "d51302bc",
   "metadata": {},
   "outputs": [
    {
     "data": {
      "text/plain": [
       "0    10169\n",
       "1    10169\n",
       "Name: offer_accepted_Yes, dtype: int64"
      ]
     },
     "execution_count": 1044,
     "metadata": {},
     "output_type": "execute_result"
    }
   ],
   "source": [
    "sm = SMOTE(random_state = 42)\n",
    "X_res, Y_res = sm.fit_resample(X_train, y_train)\n",
    "Y_res.value_counts()"
   ]
  },
  {
   "cell_type": "code",
   "execution_count": 1045,
   "id": "95126b1d",
   "metadata": {},
   "outputs": [
    {
     "name": "stderr",
     "output_type": "stream",
     "text": [
      "/usr/local/anaconda3/lib/python3.9/site-packages/sklearn/linear_model/_logistic.py:814: ConvergenceWarning: lbfgs failed to converge (status=1):\n",
      "STOP: TOTAL NO. of ITERATIONS REACHED LIMIT.\n",
      "\n",
      "Increase the number of iterations (max_iter) or scale the data as shown in:\n",
      "    https://scikit-learn.org/stable/modules/preprocessing.html\n",
      "Please also refer to the documentation for alternative solver options:\n",
      "    https://scikit-learn.org/stable/modules/linear_model.html#logistic-regression\n",
      "  n_iter_i = _check_optimize_result(\n"
     ]
    }
   ],
   "source": [
    "m7 = LogisticRegression(random_state=0, solver='lbfgs').fit(X_res, Y_res)"
   ]
  },
  {
   "cell_type": "code",
   "execution_count": 1046,
   "id": "a4cde7ed",
   "metadata": {},
   "outputs": [
    {
     "name": "stderr",
     "output_type": "stream",
     "text": [
      "/usr/local/anaconda3/lib/python3.9/site-packages/sklearn/utils/deprecation.py:87: FutureWarning: Function plot_confusion_matrix is deprecated; Function `plot_confusion_matrix` is deprecated in 1.0 and will be removed in 1.2. Use one of the class methods: ConfusionMatrixDisplay.from_predictions or ConfusionMatrixDisplay.from_estimator.\n",
      "  warnings.warn(msg, category=FutureWarning)\n",
      "/usr/local/anaconda3/lib/python3.9/site-packages/sklearn/utils/deprecation.py:87: FutureWarning: Function plot_confusion_matrix is deprecated; Function `plot_confusion_matrix` is deprecated in 1.0 and will be removed in 1.2. Use one of the class methods: ConfusionMatrixDisplay.from_predictions or ConfusionMatrixDisplay.from_estimator.\n",
      "  warnings.warn(msg, category=FutureWarning)\n"
     ]
    },
    {
     "data": {
      "text/plain": [
       "<sklearn.metrics._plot.confusion_matrix.ConfusionMatrixDisplay at 0x7fbfccedfd30>"
      ]
     },
     "execution_count": 1046,
     "metadata": {},
     "output_type": "execute_result"
    },
    {
     "data": {
      "image/png": "[encoded data removed]",
      "text/plain": [
       "<Figure size 432x288 with 2 Axes>"
      ]
     },
     "metadata": {
      "needs_background": "light"
     },
     "output_type": "display_data"
    },
    {
     "data": {
      "image/png": "[encoded data removed]",
      "text/plain": [
       "<Figure size 432x288 with 2 Axes>"
      ]
     },
     "metadata": {
      "needs_background": "light"
     },
     "output_type": "display_data"
    }
   ],
   "source": [
    "plot_confusion_matrix(m7 ,X_res, Y_res)\n",
    "plot_confusion_matrix(m7 ,X_test, y_test)"
   ]
  },
  {
   "cell_type": "code",
   "execution_count": 1048,
   "id": "d303df8e",
   "metadata": {},
   "outputs": [
    {
     "name": "stdout",
     "output_type": "stream",
     "text": [
      "              precision    recall  f1-score   support\n",
      "\n",
      "           0       0.83      0.80      0.81     10169\n",
      "           1       0.81      0.83      0.82     10169\n",
      "\n",
      "    accuracy                           0.82     20338\n",
      "   macro avg       0.82      0.82      0.82     20338\n",
      "weighted avg       0.82      0.82      0.82     20338\n",
      "               precision    recall  f1-score   support\n",
      "\n",
      "           0       0.95      0.80      0.87      6786\n",
      "           1       0.07      0.25      0.11       405\n",
      "\n",
      "    accuracy                           0.77      7191\n",
      "   macro avg       0.51      0.53      0.49      7191\n",
      "weighted avg       0.90      0.77      0.82      7191\n",
      "\n"
     ]
    }
   ],
   "source": [
    "Y_train_perditct = m7.predict(X_res)\n",
    "Y_test_perditct = m7.predict(X_test)\n",
    "print(classification_report(Y_res, Y_train_perditct),classification_report(y_test, Y_test_perditct))"
   ]
  },
  {
   "cell_type": "code",
   "execution_count": null,
   "id": "ea3cf780",
   "metadata": {},
   "outputs": [],
   "source": [
    "Model 8"
   ]
  },
  {
   "cell_type": "code",
   "execution_count": 1081,
   "id": "dfe42f58",
   "metadata": {},
   "outputs": [],
   "source": [
    "data_avg2_m8 = data.drop(['q1_balance', 'q2_balance', 'q3_balance', 'q4_balance', 'customer_number'], axis =1)"
   ]
  },
  {
   "cell_type": "code",
   "execution_count": 1082,
   "id": "f0a51dcb",
   "metadata": {},
   "outputs": [],
   "source": [
    "data_avg2_m8['average_balance'] = data_avg2_m8[(data_avg2_m8['average_balance']>500) & (data_avg2_m8['average_balance']<1600)]['average_balance']"
   ]
  },
  {
   "cell_type": "code",
   "execution_count": 1083,
   "id": "5394c38a",
   "metadata": {},
   "outputs": [],
   "source": [
    "data_avg2_m8 = data_avg2_m8[~(data_avg2_m8['average_balance'].isna())]\n"
   ]
  },
  {
   "cell_type": "code",
   "execution_count": 1084,
   "id": "b2f33061",
   "metadata": {},
   "outputs": [],
   "source": [
    "##Encoding categorical data\n",
    "data_avg2_m8 = pd.get_dummies(data_avg2_m8, columns = ['offer_accepted','reward', 'mailer_type', 'overdraft_protection', 'own_your_home','income_level','credit_rating'], drop_first = True)\n"
   ]
  },
  {
   "cell_type": "code",
   "execution_count": 1085,
   "id": "44ea1634",
   "metadata": {},
   "outputs": [],
   "source": [
    "X = data_avg2_m8.drop(['offer_accepted_Yes'], axis =1)\n",
    "y = data_avg2_m8['offer_accepted_Yes']\n"
   ]
  },
  {
   "cell_type": "code",
   "execution_count": null,
   "id": "89b4f82b",
   "metadata": {},
   "outputs": [],
   "source": []
  },
  {
   "cell_type": "code",
   "execution_count": 1086,
   "id": "f39b81f6",
   "metadata": {},
   "outputs": [],
   "source": [
    "X_train, X_test, y_train, y_test = train_test_split(X, y, test_size=0.4, random_state=100)"
   ]
  },
  {
   "cell_type": "code",
   "execution_count": 1087,
   "id": "73a866c9",
   "metadata": {},
   "outputs": [],
   "source": [
    "numericals_train= X_train[['#_bank_accounts_open','#_homes_owned','household_size','average_balance']]\n",
    "numericals_test= X_test[['#_bank_accounts_open','#_homes_owned','household_size','average_balance']]\n",
    "cat_train = X_train.drop(['#_bank_accounts_open','#_homes_owned','household_size','average_balance'], axis =1)\n",
    "cat_test = X_test.drop(['#_bank_accounts_open','#_homes_owned','household_size','average_balance'], axis =1)"
   ]
  },
  {
   "cell_type": "code",
   "execution_count": 1088,
   "id": "e8cd8531",
   "metadata": {},
   "outputs": [],
   "source": [
    "transformer = StandardScaler().fit(numericals_train)\n",
    "numericals_train_standardized = pd.DataFrame(transformer.transform(numericals_train))\n",
    "numericals_test_standardized = pd.DataFrame(transformer.transform(numericals_test))\n",
    "X_train_standard = np.concatenate([cat_train, numericals_train_standardized], axis=1)\n",
    "X_test_standard = np.concatenate([cat_test, numericals_test_standardized], axis=1)"
   ]
  },
  {
   "cell_type": "code",
   "execution_count": 1089,
   "id": "58f849f0",
   "metadata": {},
   "outputs": [
    {
     "data": {
      "text/plain": [
       "0    8521\n",
       "1    8521\n",
       "Name: offer_accepted_Yes, dtype: int64"
      ]
     },
     "execution_count": 1089,
     "metadata": {},
     "output_type": "execute_result"
    }
   ],
   "source": [
    "sm = SMOTE(random_state = 42)\n",
    "X_res, Y_res = sm.fit_resample(X_train, y_train)\n",
    "Y_res.value_counts()"
   ]
  },
  {
   "cell_type": "code",
   "execution_count": 1090,
   "id": "f94ea212",
   "metadata": {},
   "outputs": [
    {
     "name": "stderr",
     "output_type": "stream",
     "text": [
      "/usr/local/anaconda3/lib/python3.9/site-packages/sklearn/linear_model/_logistic.py:814: ConvergenceWarning: lbfgs failed to converge (status=1):\n",
      "STOP: TOTAL NO. of ITERATIONS REACHED LIMIT.\n",
      "\n",
      "Increase the number of iterations (max_iter) or scale the data as shown in:\n",
      "    https://scikit-learn.org/stable/modules/preprocessing.html\n",
      "Please also refer to the documentation for alternative solver options:\n",
      "    https://scikit-learn.org/stable/modules/linear_model.html#logistic-regression\n",
      "  n_iter_i = _check_optimize_result(\n"
     ]
    }
   ],
   "source": [
    "m8 = LogisticRegression(random_state=0, solver='lbfgs').fit(X_res, Y_res)"
   ]
  },
  {
   "cell_type": "code",
   "execution_count": 1091,
   "id": "f943125a",
   "metadata": {},
   "outputs": [
    {
     "name": "stderr",
     "output_type": "stream",
     "text": [
      "/usr/local/anaconda3/lib/python3.9/site-packages/sklearn/utils/deprecation.py:87: FutureWarning: Function plot_confusion_matrix is deprecated; Function `plot_confusion_matrix` is deprecated in 1.0 and will be removed in 1.2. Use one of the class methods: ConfusionMatrixDisplay.from_predictions or ConfusionMatrixDisplay.from_estimator.\n",
      "  warnings.warn(msg, category=FutureWarning)\n",
      "/usr/local/anaconda3/lib/python3.9/site-packages/sklearn/utils/deprecation.py:87: FutureWarning: Function plot_confusion_matrix is deprecated; Function `plot_confusion_matrix` is deprecated in 1.0 and will be removed in 1.2. Use one of the class methods: ConfusionMatrixDisplay.from_predictions or ConfusionMatrixDisplay.from_estimator.\n",
      "  warnings.warn(msg, category=FutureWarning)\n"
     ]
    },
    {
     "data": {
      "text/plain": [
       "<sklearn.metrics._plot.confusion_matrix.ConfusionMatrixDisplay at 0x7fbfcacc4370>"
      ]
     },
     "execution_count": 1091,
     "metadata": {},
     "output_type": "execute_result"
    },
    {
     "data": {
      "image/png": "[encoded data removed]",
      "text/plain": [
       "<Figure size 432x288 with 2 Axes>"
      ]
     },
     "metadata": {
      "needs_background": "light"
     },
     "output_type": "display_data"
    },
    {
     "data": {
      "image/png": "[encoded data removed]",
      "text/plain": [
       "<Figure size 432x288 with 2 Axes>"
      ]
     },
     "metadata": {
      "needs_background": "light"
     },
     "output_type": "display_data"
    }
   ],
   "source": [
    "plot_confusion_matrix(m8 ,X_res, Y_res)\n",
    "plot_confusion_matrix(m8 ,X_test, y_test)"
   ]
  },
  {
   "cell_type": "code",
   "execution_count": 1092,
   "id": "47d8a8bd",
   "metadata": {},
   "outputs": [
    {
     "name": "stdout",
     "output_type": "stream",
     "text": [
      "              precision    recall  f1-score   support\n",
      "\n",
      "           0       0.81      0.79      0.80      8521\n",
      "           1       0.80      0.81      0.80      8521\n",
      "\n",
      "    accuracy                           0.80     17042\n",
      "   macro avg       0.80      0.80      0.80     17042\n",
      "weighted avg       0.80      0.80      0.80     17042\n",
      "               precision    recall  f1-score   support\n",
      "\n",
      "           0       0.95      0.79      0.86      5674\n",
      "           1       0.08      0.28      0.12       346\n",
      "\n",
      "    accuracy                           0.76      6020\n",
      "   macro avg       0.51      0.54      0.49      6020\n",
      "weighted avg       0.90      0.76      0.82      6020\n",
      "\n"
     ]
    }
   ],
   "source": [
    "Y_train_perditct = m8.predict(X_res)\n",
    "Y_test_perditct = m8.predict(X_test)\n",
    "print(classification_report(Y_res, Y_train_perditct),classification_report(y_test, Y_test_perditct))"
   ]
  },
  {
   "cell_type": "code",
   "execution_count": null,
   "id": "dc8d528c",
   "metadata": {},
   "outputs": [],
   "source": []
  },
  {
   "cell_type": "code",
   "execution_count": null,
   "id": "808ec977",
   "metadata": {},
   "outputs": [],
   "source": []
  },
  {
   "cell_type": "code",
   "execution_count": 1034,
   "id": "8a3f9cd4",
   "metadata": {},
   "outputs": [
    {
     "data": {
      "text/plain": [
       "0    10169\n",
       "1    10169\n",
       "Name: offer_accepted_Yes, dtype: int64"
      ]
     },
     "execution_count": 1034,
     "metadata": {},
     "output_type": "execute_result"
    }
   ],
   "source": [
    "rus = RandomOverSampler(random_state=10)\n",
    "X_rus, Y_rus = rus.fit_resample(X_train,y_train)\n",
    "Y_rus.value_counts()"
   ]
  },
  {
   "cell_type": "code",
   "execution_count": 1035,
   "id": "9072b0b4",
   "metadata": {},
   "outputs": [
    {
     "name": "stderr",
     "output_type": "stream",
     "text": [
      "/usr/local/anaconda3/lib/python3.9/site-packages/sklearn/linear_model/_logistic.py:814: ConvergenceWarning: lbfgs failed to converge (status=1):\n",
      "STOP: TOTAL NO. of ITERATIONS REACHED LIMIT.\n",
      "\n",
      "Increase the number of iterations (max_iter) or scale the data as shown in:\n",
      "    https://scikit-learn.org/stable/modules/preprocessing.html\n",
      "Please also refer to the documentation for alternative solver options:\n",
      "    https://scikit-learn.org/stable/modules/linear_model.html#logistic-regression\n",
      "  n_iter_i = _check_optimize_result(\n"
     ]
    }
   ],
   "source": [
    "m7_1 = LogisticRegression(random_state=0, solver='lbfgs').fit(X_rus, Y_rus)"
   ]
  },
  {
   "cell_type": "code",
   "execution_count": 1036,
   "id": "340dfad2",
   "metadata": {},
   "outputs": [
    {
     "name": "stderr",
     "output_type": "stream",
     "text": [
      "/usr/local/anaconda3/lib/python3.9/site-packages/sklearn/utils/deprecation.py:87: FutureWarning: Function plot_confusion_matrix is deprecated; Function `plot_confusion_matrix` is deprecated in 1.0 and will be removed in 1.2. Use one of the class methods: ConfusionMatrixDisplay.from_predictions or ConfusionMatrixDisplay.from_estimator.\n",
      "  warnings.warn(msg, category=FutureWarning)\n",
      "/usr/local/anaconda3/lib/python3.9/site-packages/sklearn/utils/deprecation.py:87: FutureWarning: Function plot_confusion_matrix is deprecated; Function `plot_confusion_matrix` is deprecated in 1.0 and will be removed in 1.2. Use one of the class methods: ConfusionMatrixDisplay.from_predictions or ConfusionMatrixDisplay.from_estimator.\n",
      "  warnings.warn(msg, category=FutureWarning)\n"
     ]
    },
    {
     "data": {
      "text/plain": [
       "<sklearn.metrics._plot.confusion_matrix.ConfusionMatrixDisplay at 0x7fbfceff7640>"
      ]
     },
     "execution_count": 1036,
     "metadata": {},
     "output_type": "execute_result"
    },
    {
     "data": {
      "image/png": "[encoded data removed]",
      "text/plain": [
       "<Figure size 432x288 with 2 Axes>"
      ]
     },
     "metadata": {
      "needs_background": "light"
     },
     "output_type": "display_data"
    },
    {
     "data": {
      "image/png": "[encoded data removed]",
      "text/plain": [
       "<Figure size 432x288 with 2 Axes>"
      ]
     },
     "metadata": {
      "needs_background": "light"
     },
     "output_type": "display_data"
    }
   ],
   "source": [
    "plot_confusion_matrix(m7_1 ,X_rus, Y_rus)\n",
    "plot_confusion_matrix(m7_1 ,X_test, y_test)"
   ]
  },
  {
   "cell_type": "code",
   "execution_count": 1037,
   "id": "1230e5df",
   "metadata": {},
   "outputs": [
    {
     "data": {
      "text/plain": [
       "0.7695730774579336"
      ]
     },
     "execution_count": 1037,
     "metadata": {},
     "output_type": "execute_result"
    }
   ],
   "source": [
    "m7.score(X_test, y_test)"
   ]
  },
  {
   "cell_type": "code",
   "execution_count": 816,
   "id": "c87f26b7",
   "metadata": {},
   "outputs": [
    {
     "data": {
      "text/html": [
       "<div>\n",
       "<style scoped>\n",
       "    .dataframe tbody tr th:only-of-type {\n",
       "        vertical-align: middle;\n",
       "    }\n",
       "\n",
       "    .dataframe tbody tr th {\n",
       "        vertical-align: top;\n",
       "    }\n",
       "\n",
       "    .dataframe thead th {\n",
       "        text-align: right;\n",
       "    }\n",
       "</style>\n",
       "<table border=\"1\" class=\"dataframe\">\n",
       "  <thead>\n",
       "    <tr style=\"text-align: right;\">\n",
       "      <th></th>\n",
       "      <th>features</th>\n",
       "      <th>coef</th>\n",
       "    </tr>\n",
       "  </thead>\n",
       "  <tbody>\n",
       "    <tr>\n",
       "      <th>0</th>\n",
       "      <td>#_bank_accounts_open</td>\n",
       "      <td>-0.721469</td>\n",
       "    </tr>\n",
       "    <tr>\n",
       "      <th>1</th>\n",
       "      <td>#_credit_cards_held</td>\n",
       "      <td>-0.453416</td>\n",
       "    </tr>\n",
       "    <tr>\n",
       "      <th>2</th>\n",
       "      <td>#_homes_owned</td>\n",
       "      <td>-0.736177</td>\n",
       "    </tr>\n",
       "    <tr>\n",
       "      <th>3</th>\n",
       "      <td>household_size</td>\n",
       "      <td>-0.196203</td>\n",
       "    </tr>\n",
       "    <tr>\n",
       "      <th>4</th>\n",
       "      <td>average_balance</td>\n",
       "      <td>0.000333</td>\n",
       "    </tr>\n",
       "    <tr>\n",
       "      <th>5</th>\n",
       "      <td>reward_Cash Back</td>\n",
       "      <td>-3.353333</td>\n",
       "    </tr>\n",
       "    <tr>\n",
       "      <th>6</th>\n",
       "      <td>reward_Points</td>\n",
       "      <td>-1.516726</td>\n",
       "    </tr>\n",
       "    <tr>\n",
       "      <th>7</th>\n",
       "      <td>mailer_type_Postcard</td>\n",
       "      <td>-0.191023</td>\n",
       "    </tr>\n",
       "    <tr>\n",
       "      <th>8</th>\n",
       "      <td>overdraft_protection_Yes</td>\n",
       "      <td>-1.688686</td>\n",
       "    </tr>\n",
       "    <tr>\n",
       "      <th>9</th>\n",
       "      <td>own_your_home_Yes</td>\n",
       "      <td>-0.837629</td>\n",
       "    </tr>\n",
       "    <tr>\n",
       "      <th>10</th>\n",
       "      <td>income_level_Low</td>\n",
       "      <td>-1.036916</td>\n",
       "    </tr>\n",
       "    <tr>\n",
       "      <th>11</th>\n",
       "      <td>income_level_Medium</td>\n",
       "      <td>-1.602264</td>\n",
       "    </tr>\n",
       "    <tr>\n",
       "      <th>12</th>\n",
       "      <td>credit_rating_Low</td>\n",
       "      <td>0.041240</td>\n",
       "    </tr>\n",
       "    <tr>\n",
       "      <th>13</th>\n",
       "      <td>credit_rating_Medium</td>\n",
       "      <td>-1.370841</td>\n",
       "    </tr>\n",
       "  </tbody>\n",
       "</table>\n",
       "</div>"
      ],
      "text/plain": [
       "                    features      coef\n",
       "0       #_bank_accounts_open -0.721469\n",
       "1        #_credit_cards_held -0.453416\n",
       "2              #_homes_owned -0.736177\n",
       "3             household_size -0.196203\n",
       "4            average_balance  0.000333\n",
       "5           reward_Cash Back -3.353333\n",
       "6              reward_Points -1.516726\n",
       "7       mailer_type_Postcard -0.191023\n",
       "8   overdraft_protection_Yes -1.688686\n",
       "9          own_your_home_Yes -0.837629\n",
       "10          income_level_Low -1.036916\n",
       "11       income_level_Medium -1.602264\n",
       "12         credit_rating_Low  0.041240\n",
       "13      credit_rating_Medium -1.370841"
      ]
     },
     "execution_count": 816,
     "metadata": {},
     "output_type": "execute_result"
    }
   ],
   "source": [
    "pd.DataFrame(zip(X_train.columns, np.transpose(m7.coef_.tolist()[0])), columns=['features', 'coef'])"
   ]
  },
  {
   "cell_type": "markdown",
   "id": "33ad065a",
   "metadata": {},
   "source": [
    "### Modeling: Other models\n",
    "#try other types of models here\n",
    "[<a href=\"#Credit-Card-Marketing-Project\">Back to Top</a>]"
   ]
  },
  {
   "cell_type": "code",
   "execution_count": 750,
   "id": "d49d85fc",
   "metadata": {},
   "outputs": [
    {
     "name": "stderr",
     "output_type": "stream",
     "text": [
      "/usr/local/anaconda3/lib/python3.9/site-packages/sklearn/base.py:443: UserWarning: X has feature names, but KNeighborsRegressor was fitted without feature names\n",
      "  warnings.warn(\n",
      "/usr/local/anaconda3/lib/python3.9/site-packages/sklearn/base.py:443: UserWarning: X has feature names, but KNeighborsRegressor was fitted without feature names\n",
      "  warnings.warn(\n",
      "/usr/local/anaconda3/lib/python3.9/site-packages/sklearn/base.py:443: UserWarning: X has feature names, but KNeighborsRegressor was fitted without feature names\n",
      "  warnings.warn(\n",
      "/usr/local/anaconda3/lib/python3.9/site-packages/sklearn/base.py:443: UserWarning: X has feature names, but KNeighborsRegressor was fitted without feature names\n",
      "  warnings.warn(\n",
      "/usr/local/anaconda3/lib/python3.9/site-packages/sklearn/base.py:443: UserWarning: X has feature names, but KNeighborsRegressor was fitted without feature names\n",
      "  warnings.warn(\n",
      "/usr/local/anaconda3/lib/python3.9/site-packages/sklearn/base.py:443: UserWarning: X has feature names, but KNeighborsRegressor was fitted without feature names\n",
      "  warnings.warn(\n",
      "/usr/local/anaconda3/lib/python3.9/site-packages/sklearn/base.py:443: UserWarning: X has feature names, but KNeighborsRegressor was fitted without feature names\n",
      "  warnings.warn(\n",
      "/usr/local/anaconda3/lib/python3.9/site-packages/sklearn/base.py:443: UserWarning: X has feature names, but KNeighborsRegressor was fitted without feature names\n",
      "  warnings.warn(\n",
      "/usr/local/anaconda3/lib/python3.9/site-packages/sklearn/base.py:443: UserWarning: X has feature names, but KNeighborsRegressor was fitted without feature names\n",
      "  warnings.warn(\n",
      "/usr/local/anaconda3/lib/python3.9/site-packages/sklearn/base.py:443: UserWarning: X has feature names, but KNeighborsRegressor was fitted without feature names\n",
      "  warnings.warn(\n",
      "/usr/local/anaconda3/lib/python3.9/site-packages/sklearn/base.py:443: UserWarning: X has feature names, but KNeighborsRegressor was fitted without feature names\n",
      "  warnings.warn(\n",
      "/usr/local/anaconda3/lib/python3.9/site-packages/sklearn/base.py:443: UserWarning: X has feature names, but KNeighborsRegressor was fitted without feature names\n",
      "  warnings.warn(\n",
      "/usr/local/anaconda3/lib/python3.9/site-packages/sklearn/base.py:443: UserWarning: X has feature names, but KNeighborsRegressor was fitted without feature names\n",
      "  warnings.warn(\n",
      "/usr/local/anaconda3/lib/python3.9/site-packages/sklearn/base.py:443: UserWarning: X has feature names, but KNeighborsRegressor was fitted without feature names\n",
      "  warnings.warn(\n",
      "/usr/local/anaconda3/lib/python3.9/site-packages/sklearn/base.py:443: UserWarning: X has feature names, but KNeighborsRegressor was fitted without feature names\n",
      "  warnings.warn(\n",
      "/usr/local/anaconda3/lib/python3.9/site-packages/sklearn/base.py:443: UserWarning: X has feature names, but KNeighborsRegressor was fitted without feature names\n",
      "  warnings.warn(\n",
      "/usr/local/anaconda3/lib/python3.9/site-packages/sklearn/base.py:443: UserWarning: X has feature names, but KNeighborsRegressor was fitted without feature names\n",
      "  warnings.warn(\n",
      "/usr/local/anaconda3/lib/python3.9/site-packages/sklearn/base.py:443: UserWarning: X has feature names, but KNeighborsRegressor was fitted without feature names\n",
      "  warnings.warn(\n",
      "/usr/local/anaconda3/lib/python3.9/site-packages/sklearn/base.py:443: UserWarning: X has feature names, but KNeighborsRegressor was fitted without feature names\n",
      "  warnings.warn(\n",
      "/usr/local/anaconda3/lib/python3.9/site-packages/sklearn/base.py:443: UserWarning: X has feature names, but KNeighborsRegressor was fitted without feature names\n",
      "  warnings.warn(\n",
      "/usr/local/anaconda3/lib/python3.9/site-packages/sklearn/base.py:443: UserWarning: X has feature names, but KNeighborsRegressor was fitted without feature names\n",
      "  warnings.warn(\n",
      "/usr/local/anaconda3/lib/python3.9/site-packages/sklearn/base.py:443: UserWarning: X has feature names, but KNeighborsRegressor was fitted without feature names\n",
      "  warnings.warn(\n",
      "/usr/local/anaconda3/lib/python3.9/site-packages/sklearn/base.py:443: UserWarning: X has feature names, but KNeighborsRegressor was fitted without feature names\n",
      "  warnings.warn(\n",
      "/usr/local/anaconda3/lib/python3.9/site-packages/sklearn/base.py:443: UserWarning: X has feature names, but KNeighborsRegressor was fitted without feature names\n",
      "  warnings.warn(\n",
      "/usr/local/anaconda3/lib/python3.9/site-packages/sklearn/base.py:443: UserWarning: X has feature names, but KNeighborsRegressor was fitted without feature names\n",
      "  warnings.warn(\n",
      "/usr/local/anaconda3/lib/python3.9/site-packages/sklearn/base.py:443: UserWarning: X has feature names, but KNeighborsRegressor was fitted without feature names\n",
      "  warnings.warn(\n",
      "/usr/local/anaconda3/lib/python3.9/site-packages/sklearn/base.py:443: UserWarning: X has feature names, but KNeighborsRegressor was fitted without feature names\n",
      "  warnings.warn(\n",
      "/usr/local/anaconda3/lib/python3.9/site-packages/sklearn/base.py:443: UserWarning: X has feature names, but KNeighborsRegressor was fitted without feature names\n",
      "  warnings.warn(\n"
     ]
    }
   ],
   "source": [
    "\n",
    "from sklearn.neighbors import KNeighborsRegressor, KNeighborsClassifier\n",
    "scores = []\n",
    "for k in range(2,30):\n",
    "    model = KNeighborsRegressor(n_neighbors=k)\n",
    "    model.fit(X_res, Y_res)\n",
    "    scores.append(model.score(X_test, y_test))"
   ]
  },
  {
   "cell_type": "code",
   "execution_count": 752,
   "id": "2729ac75",
   "metadata": {},
   "outputs": [
    {
     "data": {
      "text/plain": [
       "Text(0, 0.5, 'Accuracy')"
      ]
     },
     "execution_count": 752,
     "metadata": {},
     "output_type": "execute_result"
    },
    {
     "data": {
      "image/png": "[encoded data removed]",
      "text/plain": [
       "<Figure size 720x432 with 1 Axes>"
      ]
     },
     "metadata": {
      "needs_background": "light"
     },
     "output_type": "display_data"
    }
   ],
   "source": [
    "plt.figure(figsize=(10,6))\n",
    "plt.plot(range(2,30),scores,color = 'blue', linestyle='dashed',\n",
    "         marker='o', markerfacecolor='red', markersize=10)\n",
    "plt.title('accuracy scores vs. K Value')\n",
    "plt.gca().invert_yaxis()\n",
    "plt.xlabel('K')\n",
    "plt.ylabel('Accuracy')"
   ]
  },
  {
   "cell_type": "code",
   "execution_count": null,
   "id": "e95e1d63",
   "metadata": {},
   "outputs": [],
   "source": []
  },
  {
   "cell_type": "code",
   "execution_count": null,
   "id": "d3c755bd",
   "metadata": {},
   "outputs": [],
   "source": []
  },
  {
   "cell_type": "code",
   "execution_count": null,
   "id": "aeff9a59",
   "metadata": {},
   "outputs": [],
   "source": []
  },
  {
   "cell_type": "code",
   "execution_count": null,
   "id": "064eab17",
   "metadata": {},
   "outputs": [],
   "source": []
  },
  {
   "cell_type": "code",
   "execution_count": null,
   "id": "a9ead353",
   "metadata": {},
   "outputs": [],
   "source": []
  },
  {
   "cell_type": "code",
   "execution_count": null,
   "id": "6df087fd",
   "metadata": {},
   "outputs": [],
   "source": []
  },
  {
   "cell_type": "code",
   "execution_count": null,
   "id": "d2a726f3",
   "metadata": {},
   "outputs": [],
   "source": []
  },
  {
   "cell_type": "code",
   "execution_count": null,
   "id": "e0018078",
   "metadata": {},
   "outputs": [],
   "source": []
  }
 ],
 "metadata": {
  "kernelspec": {
   "display_name": "Python 3 (ipykernel)",
   "language": "python",
   "name": "python3"
  },
  "language_info": {
   "codemirror_mode": {
    "name": "ipython",
    "version": 3
   },
   "file_extension": ".py",
   "mimetype": "text/x-python",
   "name": "python",
   "nbconvert_exporter": "python",
   "pygments_lexer": "ipython3",
   "version": "3.9.7"
  }
 },
 "nbformat": 4,
 "nbformat_minor": 5
}
