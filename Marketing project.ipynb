{
 "cells": [
  {
   "cell_type": "code",
   "execution_count": 1,
   "id": "a2e215db",
   "metadata": {},
   "outputs": [
    {
     "name": "stdout",
     "output_type": "stream",
     "text": [
      "Requirement already satisfied: pyperclip in /usr/local/anaconda3/lib/python3.9/site-packages (1.8.2)\n",
      "Note: you may need to restart the kernel to use updated packages.\n"
     ]
    }
   ],
   "source": [
    "pip install pyperclip"
   ]
  },
  {
   "cell_type": "markdown",
   "id": "ac0decc4",
   "metadata": {},
   "source": [
    "# Credit Card Marketing Project\n",
    "\n",
    "<div class=\"alert alert-block alert-info\">\n",
    "\n",
    "\n",
    "Table Content:\n",
    "\n",
    "* [Introduction](#Introduction)\n",
    "* [Preparation](#Preparation)\n",
    "* [Exploring Data Step 1](#EDA-Step-1)\n",
    "* [Modeling: Model N1](#Modeling:-Model-N1)\n",
    "* [Modeling: Model N2](#Modeling:-Model-N2)\n",
    "* [Modeling: Model N3](#Modeling:-Model-N3)\n",
    "* [Modeling: Model N4](#Modeling:-Model-N4)\n",
    "\n",
    "\n",
    "\n",
    "</div>\n"
   ]
  },
  {
   "cell_type": "markdown",
   "id": "fb56f64e",
   "metadata": {},
   "source": [
    "### Introduction\n",
    "[<a href=\"#Credit-Card-Marketing-Project\">Back to Top</a>]\n"
   ]
  },
  {
   "cell_type": "markdown",
   "id": "6e9f8f11",
   "metadata": {},
   "source": [
    "In this notebook, I will present my project. \n",
    "Here is my Project Management Dashboard: Trello link"
   ]
  },
  {
   "cell_type": "markdown",
   "id": "27e76e27",
   "metadata": {},
   "source": [
    "### Preparation - import data\n",
    "[<a href=\"#Credit-Card-Marketing-Project\">Back to Top</a>]\n"
   ]
  },
  {
   "cell_type": "code",
   "execution_count": 86,
   "id": "3d3d6053",
   "metadata": {},
   "outputs": [],
   "source": [
    "#import library\n",
    "import pandas as pd\n",
    "import numpy as np\n",
    "import seaborn as sns\n",
    "import matplotlib.pyplot as plt\n",
    "import sklearn as sk\n"
   ]
  },
  {
   "cell_type": "code",
   "execution_count": null,
   "id": "b19535e8",
   "metadata": {},
   "outputs": [],
   "source": []
  },
  {
   "cell_type": "code",
   "execution_count": 147,
   "id": "3f7c10b7",
   "metadata": {},
   "outputs": [
    {
     "data": {
      "text/html": [
       "<div>\n",
       "<style scoped>\n",
       "    .dataframe tbody tr th:only-of-type {\n",
       "        vertical-align: middle;\n",
       "    }\n",
       "\n",
       "    .dataframe tbody tr th {\n",
       "        vertical-align: top;\n",
       "    }\n",
       "\n",
       "    .dataframe thead th {\n",
       "        text-align: right;\n",
       "    }\n",
       "</style>\n",
       "<table border=\"1\" class=\"dataframe\">\n",
       "  <thead>\n",
       "    <tr style=\"text-align: right;\">\n",
       "      <th></th>\n",
       "      <th>Customer Number</th>\n",
       "      <th>Offer Accepted</th>\n",
       "      <th>Reward</th>\n",
       "      <th>Mailer Type</th>\n",
       "      <th>Income Level</th>\n",
       "      <th># Bank Accounts Open</th>\n",
       "      <th>Overdraft Protection</th>\n",
       "      <th>Credit Rating</th>\n",
       "      <th># Credit Cards Held</th>\n",
       "      <th># Homes Owned</th>\n",
       "      <th>Household Size</th>\n",
       "      <th>Own Your Home</th>\n",
       "      <th>Average Balance</th>\n",
       "      <th>Q1 Balance</th>\n",
       "      <th>Q2 Balance</th>\n",
       "      <th>Q3 Balance</th>\n",
       "      <th>Q4 Balance</th>\n",
       "    </tr>\n",
       "  </thead>\n",
       "  <tbody>\n",
       "    <tr>\n",
       "      <th>0</th>\n",
       "      <td>1</td>\n",
       "      <td>No</td>\n",
       "      <td>Air Miles</td>\n",
       "      <td>Letter</td>\n",
       "      <td>High</td>\n",
       "      <td>1</td>\n",
       "      <td>No</td>\n",
       "      <td>High</td>\n",
       "      <td>2</td>\n",
       "      <td>1</td>\n",
       "      <td>4</td>\n",
       "      <td>No</td>\n",
       "      <td>1160.75</td>\n",
       "      <td>1669.0</td>\n",
       "      <td>877.0</td>\n",
       "      <td>1095.0</td>\n",
       "      <td>1002.0</td>\n",
       "    </tr>\n",
       "    <tr>\n",
       "      <th>1</th>\n",
       "      <td>2</td>\n",
       "      <td>No</td>\n",
       "      <td>Air Miles</td>\n",
       "      <td>Letter</td>\n",
       "      <td>Medium</td>\n",
       "      <td>1</td>\n",
       "      <td>No</td>\n",
       "      <td>Medium</td>\n",
       "      <td>2</td>\n",
       "      <td>2</td>\n",
       "      <td>5</td>\n",
       "      <td>Yes</td>\n",
       "      <td>147.25</td>\n",
       "      <td>39.0</td>\n",
       "      <td>106.0</td>\n",
       "      <td>78.0</td>\n",
       "      <td>366.0</td>\n",
       "    </tr>\n",
       "    <tr>\n",
       "      <th>2</th>\n",
       "      <td>3</td>\n",
       "      <td>No</td>\n",
       "      <td>Air Miles</td>\n",
       "      <td>Postcard</td>\n",
       "      <td>High</td>\n",
       "      <td>2</td>\n",
       "      <td>No</td>\n",
       "      <td>Medium</td>\n",
       "      <td>2</td>\n",
       "      <td>1</td>\n",
       "      <td>2</td>\n",
       "      <td>Yes</td>\n",
       "      <td>276.50</td>\n",
       "      <td>367.0</td>\n",
       "      <td>352.0</td>\n",
       "      <td>145.0</td>\n",
       "      <td>242.0</td>\n",
       "    </tr>\n",
       "    <tr>\n",
       "      <th>3</th>\n",
       "      <td>4</td>\n",
       "      <td>No</td>\n",
       "      <td>Air Miles</td>\n",
       "      <td>Letter</td>\n",
       "      <td>Medium</td>\n",
       "      <td>2</td>\n",
       "      <td>No</td>\n",
       "      <td>High</td>\n",
       "      <td>1</td>\n",
       "      <td>1</td>\n",
       "      <td>4</td>\n",
       "      <td>No</td>\n",
       "      <td>1219.00</td>\n",
       "      <td>1578.0</td>\n",
       "      <td>1760.0</td>\n",
       "      <td>1119.0</td>\n",
       "      <td>419.0</td>\n",
       "    </tr>\n",
       "    <tr>\n",
       "      <th>4</th>\n",
       "      <td>5</td>\n",
       "      <td>No</td>\n",
       "      <td>Air Miles</td>\n",
       "      <td>Letter</td>\n",
       "      <td>Medium</td>\n",
       "      <td>1</td>\n",
       "      <td>No</td>\n",
       "      <td>Medium</td>\n",
       "      <td>2</td>\n",
       "      <td>1</td>\n",
       "      <td>6</td>\n",
       "      <td>Yes</td>\n",
       "      <td>1211.00</td>\n",
       "      <td>2140.0</td>\n",
       "      <td>1357.0</td>\n",
       "      <td>982.0</td>\n",
       "      <td>365.0</td>\n",
       "    </tr>\n",
       "    <tr>\n",
       "      <th>...</th>\n",
       "      <td>...</td>\n",
       "      <td>...</td>\n",
       "      <td>...</td>\n",
       "      <td>...</td>\n",
       "      <td>...</td>\n",
       "      <td>...</td>\n",
       "      <td>...</td>\n",
       "      <td>...</td>\n",
       "      <td>...</td>\n",
       "      <td>...</td>\n",
       "      <td>...</td>\n",
       "      <td>...</td>\n",
       "      <td>...</td>\n",
       "      <td>...</td>\n",
       "      <td>...</td>\n",
       "      <td>...</td>\n",
       "      <td>...</td>\n",
       "    </tr>\n",
       "    <tr>\n",
       "      <th>17995</th>\n",
       "      <td>17996</td>\n",
       "      <td>No</td>\n",
       "      <td>Cash Back</td>\n",
       "      <td>Letter</td>\n",
       "      <td>High</td>\n",
       "      <td>1</td>\n",
       "      <td>No</td>\n",
       "      <td>Low</td>\n",
       "      <td>1</td>\n",
       "      <td>1</td>\n",
       "      <td>5</td>\n",
       "      <td>Yes</td>\n",
       "      <td>167.50</td>\n",
       "      <td>136.0</td>\n",
       "      <td>65.0</td>\n",
       "      <td>71.0</td>\n",
       "      <td>398.0</td>\n",
       "    </tr>\n",
       "    <tr>\n",
       "      <th>17996</th>\n",
       "      <td>17997</td>\n",
       "      <td>No</td>\n",
       "      <td>Cash Back</td>\n",
       "      <td>Letter</td>\n",
       "      <td>High</td>\n",
       "      <td>1</td>\n",
       "      <td>No</td>\n",
       "      <td>Low</td>\n",
       "      <td>3</td>\n",
       "      <td>1</td>\n",
       "      <td>3</td>\n",
       "      <td>Yes</td>\n",
       "      <td>850.50</td>\n",
       "      <td>984.0</td>\n",
       "      <td>940.0</td>\n",
       "      <td>943.0</td>\n",
       "      <td>535.0</td>\n",
       "    </tr>\n",
       "    <tr>\n",
       "      <th>17997</th>\n",
       "      <td>17998</td>\n",
       "      <td>No</td>\n",
       "      <td>Cash Back</td>\n",
       "      <td>Letter</td>\n",
       "      <td>High</td>\n",
       "      <td>1</td>\n",
       "      <td>No</td>\n",
       "      <td>Low</td>\n",
       "      <td>2</td>\n",
       "      <td>1</td>\n",
       "      <td>4</td>\n",
       "      <td>No</td>\n",
       "      <td>1087.25</td>\n",
       "      <td>918.0</td>\n",
       "      <td>767.0</td>\n",
       "      <td>1170.0</td>\n",
       "      <td>1494.0</td>\n",
       "    </tr>\n",
       "    <tr>\n",
       "      <th>17998</th>\n",
       "      <td>17999</td>\n",
       "      <td>No</td>\n",
       "      <td>Cash Back</td>\n",
       "      <td>Letter</td>\n",
       "      <td>Medium</td>\n",
       "      <td>1</td>\n",
       "      <td>No</td>\n",
       "      <td>Medium</td>\n",
       "      <td>4</td>\n",
       "      <td>2</td>\n",
       "      <td>2</td>\n",
       "      <td>Yes</td>\n",
       "      <td>1022.25</td>\n",
       "      <td>626.0</td>\n",
       "      <td>983.0</td>\n",
       "      <td>865.0</td>\n",
       "      <td>1615.0</td>\n",
       "    </tr>\n",
       "    <tr>\n",
       "      <th>17999</th>\n",
       "      <td>18000</td>\n",
       "      <td>No</td>\n",
       "      <td>Cash Back</td>\n",
       "      <td>Letter</td>\n",
       "      <td>Low</td>\n",
       "      <td>2</td>\n",
       "      <td>No</td>\n",
       "      <td>Medium</td>\n",
       "      <td>2</td>\n",
       "      <td>1</td>\n",
       "      <td>3</td>\n",
       "      <td>No</td>\n",
       "      <td>1056.00</td>\n",
       "      <td>265.0</td>\n",
       "      <td>1378.0</td>\n",
       "      <td>1978.0</td>\n",
       "      <td>603.0</td>\n",
       "    </tr>\n",
       "  </tbody>\n",
       "</table>\n",
       "<p>18000 rows × 17 columns</p>\n",
       "</div>"
      ],
      "text/plain": [
       "       Customer Number Offer Accepted     Reward Mailer Type Income Level  \\\n",
       "0                    1             No  Air Miles      Letter         High   \n",
       "1                    2             No  Air Miles      Letter       Medium   \n",
       "2                    3             No  Air Miles    Postcard         High   \n",
       "3                    4             No  Air Miles      Letter       Medium   \n",
       "4                    5             No  Air Miles      Letter       Medium   \n",
       "...                ...            ...        ...         ...          ...   \n",
       "17995            17996             No  Cash Back      Letter         High   \n",
       "17996            17997             No  Cash Back      Letter         High   \n",
       "17997            17998             No  Cash Back      Letter         High   \n",
       "17998            17999             No  Cash Back      Letter       Medium   \n",
       "17999            18000             No  Cash Back      Letter          Low   \n",
       "\n",
       "       # Bank Accounts Open Overdraft Protection Credit Rating  \\\n",
       "0                         1                   No          High   \n",
       "1                         1                   No        Medium   \n",
       "2                         2                   No        Medium   \n",
       "3                         2                   No          High   \n",
       "4                         1                   No        Medium   \n",
       "...                     ...                  ...           ...   \n",
       "17995                     1                   No           Low   \n",
       "17996                     1                   No           Low   \n",
       "17997                     1                   No           Low   \n",
       "17998                     1                   No        Medium   \n",
       "17999                     2                   No        Medium   \n",
       "\n",
       "       # Credit Cards Held  # Homes Owned  Household Size Own Your Home  \\\n",
       "0                        2              1               4            No   \n",
       "1                        2              2               5           Yes   \n",
       "2                        2              1               2           Yes   \n",
       "3                        1              1               4            No   \n",
       "4                        2              1               6           Yes   \n",
       "...                    ...            ...             ...           ...   \n",
       "17995                    1              1               5           Yes   \n",
       "17996                    3              1               3           Yes   \n",
       "17997                    2              1               4            No   \n",
       "17998                    4              2               2           Yes   \n",
       "17999                    2              1               3            No   \n",
       "\n",
       "       Average Balance  Q1 Balance  Q2 Balance  Q3 Balance  Q4 Balance  \n",
       "0              1160.75      1669.0       877.0      1095.0      1002.0  \n",
       "1               147.25        39.0       106.0        78.0       366.0  \n",
       "2               276.50       367.0       352.0       145.0       242.0  \n",
       "3              1219.00      1578.0      1760.0      1119.0       419.0  \n",
       "4              1211.00      2140.0      1357.0       982.0       365.0  \n",
       "...                ...         ...         ...         ...         ...  \n",
       "17995           167.50       136.0        65.0        71.0       398.0  \n",
       "17996           850.50       984.0       940.0       943.0       535.0  \n",
       "17997          1087.25       918.0       767.0      1170.0      1494.0  \n",
       "17998          1022.25       626.0       983.0       865.0      1615.0  \n",
       "17999          1056.00       265.0      1378.0      1978.0       603.0  \n",
       "\n",
       "[18000 rows x 17 columns]"
      ]
     },
     "execution_count": 147,
     "metadata": {},
     "output_type": "execute_result"
    }
   ],
   "source": [
    "#importing dataset and taking a look\n",
    "data = pd.read_excel('creditcardmarketing.xlsx')\n",
    "data"
   ]
  },
  {
   "cell_type": "markdown",
   "id": "020eeb60",
   "metadata": {},
   "source": [
    "# Exploring Data Step 1\n",
    "In this part, we are exploring the dataset. Here are the questions we should answer:\n",
    "- What information does the dataset have?\n",
    "- What are the data types? \n",
    "- Which column contains the target variable? \n",
    "\n",
    "[<a href=\"#Credit-Card-Marketing-Project\">Back to Top</a>]\n"
   ]
  },
  {
   "cell_type": "code",
   "execution_count": 10,
   "id": "034f98c1",
   "metadata": {},
   "outputs": [
    {
     "name": "stdout",
     "output_type": "stream",
     "text": [
      "<class 'pandas.core.frame.DataFrame'>\n",
      "RangeIndex: 18000 entries, 0 to 17999\n",
      "Data columns (total 17 columns):\n",
      " #   Column                Non-Null Count  Dtype  \n",
      "---  ------                --------------  -----  \n",
      " 0   Customer Number       18000 non-null  int64  \n",
      " 1   Offer Accepted        18000 non-null  object \n",
      " 2   Reward                18000 non-null  object \n",
      " 3   Mailer Type           18000 non-null  object \n",
      " 4   Income Level          18000 non-null  object \n",
      " 5   # Bank Accounts Open  18000 non-null  int64  \n",
      " 6   Overdraft Protection  18000 non-null  object \n",
      " 7   Credit Rating         18000 non-null  object \n",
      " 8   # Credit Cards Held   18000 non-null  int64  \n",
      " 9   # Homes Owned         18000 non-null  int64  \n",
      " 10  Household Size        18000 non-null  int64  \n",
      " 11  Own Your Home         18000 non-null  object \n",
      " 12  Average Balance       17976 non-null  float64\n",
      " 13  Q1 Balance            17976 non-null  float64\n",
      " 14  Q2 Balance            17976 non-null  float64\n",
      " 15  Q3 Balance            17976 non-null  float64\n",
      " 16  Q4 Balance            17976 non-null  float64\n",
      "dtypes: float64(5), int64(5), object(7)\n",
      "memory usage: 2.3+ MB\n"
     ]
    }
   ],
   "source": [
    "data.info()"
   ]
  },
  {
   "cell_type": "markdown",
   "id": "9bad3cb2",
   "metadata": {},
   "source": [
    "### Here are the summary of the features: \n",
    "   ##### Discrete Numerical Data: \n",
    "        - Bank Account Open\n",
    "        - Credit Card Held\n",
    "        - Home Owned\n",
    "   ##### Continous Numercial Data:\n",
    "        - Balance (Average and for each quarter)\n",
    "   ##### Categorical Data:\n",
    "        - Offer Accepted (Target)\n",
    "        - Reward \n",
    "        - Income Level\n",
    "        - Overdraft Protection \n",
    "        - Credit Rating\n",
    "        - Own your Home"
   ]
  },
  {
   "cell_type": "code",
   "execution_count": 17,
   "id": "679186d8",
   "metadata": {},
   "outputs": [
    {
     "data": {
      "text/plain": [
       "Customer Number          0\n",
       "Offer Accepted           0\n",
       "Reward                   0\n",
       "Mailer Type              0\n",
       "Income Level             0\n",
       "# Bank Accounts Open     0\n",
       "Overdraft Protection     0\n",
       "Credit Rating            0\n",
       "# Credit Cards Held      0\n",
       "# Homes Owned            0\n",
       "Household Size           0\n",
       "Own Your Home            0\n",
       "Average Balance         24\n",
       "Q1 Balance              24\n",
       "Q2 Balance              24\n",
       "Q3 Balance              24\n",
       "Q4 Balance              24\n",
       "dtype: int64"
      ]
     },
     "execution_count": 17,
     "metadata": {},
     "output_type": "execute_result"
    }
   ],
   "source": [
    "##checking NaN data\n",
    "data.isna().sum()\n"
   ]
  },
  {
   "cell_type": "code",
   "execution_count": 148,
   "id": "ad0836dd",
   "metadata": {},
   "outputs": [],
   "source": [
    "##there are only 24 missing values, I decide to drop these values\n",
    "data = data[~(data['Q1 Balance'].isna())]"
   ]
  },
  {
   "cell_type": "code",
   "execution_count": 149,
   "id": "d72feb14",
   "metadata": {},
   "outputs": [
    {
     "data": {
      "text/plain": [
       "Index(['customer_number', 'offer_accepted', 'reward', 'mailer_type',\n",
       "       'income_level', '#_bank_accounts_open', 'overdraft_protection',\n",
       "       'credit_rating', '#_credit_cards_held', '#_homes_owned',\n",
       "       'household_size', 'own_your_home', 'average_balance', 'q1_balance',\n",
       "       'q2_balance', 'q3_balance', 'q4_balance'],\n",
       "      dtype='object')"
      ]
     },
     "execution_count": 149,
     "metadata": {},
     "output_type": "execute_result"
    }
   ],
   "source": [
    "data.columns = data.columns.str.lower()\n",
    "data.columns = data.columns.str.replace(' ', '_')\n",
    "data.columns"
   ]
  },
  {
   "cell_type": "code",
   "execution_count": 150,
   "id": "e211165b",
   "metadata": {},
   "outputs": [
    {
     "data": {
      "image/png": "[encoded data removed]",
      "text/plain": [
       "<Figure size 720x576 with 2 Axes>"
      ]
     },
     "metadata": {
      "needs_background": "light"
     },
     "output_type": "display_data"
    }
   ],
   "source": [
    "##checking the correlation of the numerical columns.\n",
    "corr_matrix = data.corr(method = 'pearson')\n",
    "fig, ax = plt.subplots(figsize = (10, 8))\n",
    "ax = sns.heatmap(corr_matrix, annot = True)\n",
    "plt.show()"
   ]
  },
  {
   "cell_type": "code",
   "execution_count": 151,
   "id": "598ed10e",
   "metadata": {},
   "outputs": [],
   "source": [
    "#There is high correlation betwenn q2, q3 balance with average balance. \n",
    "#I decided to only keep the average_balance for the first try out: data_avg1\n",
    "#I am also dropping customer_number, as it doesn't add any value to the model. \n",
    "\n",
    "data_avg1 = data.drop(['q1_balance', 'q2_balance', 'q3_balance', 'q4_balance', 'customer_number'], axis =1)"
   ]
  },
  {
   "cell_type": "code",
   "execution_count": 152,
   "id": "07db6ede",
   "metadata": {},
   "outputs": [
    {
     "data": {
      "text/html": [
       "<div>\n",
       "<style scoped>\n",
       "    .dataframe tbody tr th:only-of-type {\n",
       "        vertical-align: middle;\n",
       "    }\n",
       "\n",
       "    .dataframe tbody tr th {\n",
       "        vertical-align: top;\n",
       "    }\n",
       "\n",
       "    .dataframe thead th {\n",
       "        text-align: right;\n",
       "    }\n",
       "</style>\n",
       "<table border=\"1\" class=\"dataframe\">\n",
       "  <thead>\n",
       "    <tr style=\"text-align: right;\">\n",
       "      <th></th>\n",
       "      <th>offer_accepted</th>\n",
       "      <th>reward</th>\n",
       "      <th>mailer_type</th>\n",
       "      <th>income_level</th>\n",
       "      <th>#_bank_accounts_open</th>\n",
       "      <th>overdraft_protection</th>\n",
       "      <th>credit_rating</th>\n",
       "      <th>#_credit_cards_held</th>\n",
       "      <th>#_homes_owned</th>\n",
       "      <th>household_size</th>\n",
       "      <th>own_your_home</th>\n",
       "      <th>average_balance</th>\n",
       "    </tr>\n",
       "  </thead>\n",
       "  <tbody>\n",
       "    <tr>\n",
       "      <th>0</th>\n",
       "      <td>No</td>\n",
       "      <td>Air Miles</td>\n",
       "      <td>Letter</td>\n",
       "      <td>High</td>\n",
       "      <td>1</td>\n",
       "      <td>No</td>\n",
       "      <td>High</td>\n",
       "      <td>2</td>\n",
       "      <td>1</td>\n",
       "      <td>4</td>\n",
       "      <td>No</td>\n",
       "      <td>1160.75</td>\n",
       "    </tr>\n",
       "    <tr>\n",
       "      <th>1</th>\n",
       "      <td>No</td>\n",
       "      <td>Air Miles</td>\n",
       "      <td>Letter</td>\n",
       "      <td>Medium</td>\n",
       "      <td>1</td>\n",
       "      <td>No</td>\n",
       "      <td>Medium</td>\n",
       "      <td>2</td>\n",
       "      <td>2</td>\n",
       "      <td>5</td>\n",
       "      <td>Yes</td>\n",
       "      <td>147.25</td>\n",
       "    </tr>\n",
       "    <tr>\n",
       "      <th>2</th>\n",
       "      <td>No</td>\n",
       "      <td>Air Miles</td>\n",
       "      <td>Postcard</td>\n",
       "      <td>High</td>\n",
       "      <td>2</td>\n",
       "      <td>No</td>\n",
       "      <td>Medium</td>\n",
       "      <td>2</td>\n",
       "      <td>1</td>\n",
       "      <td>2</td>\n",
       "      <td>Yes</td>\n",
       "      <td>276.50</td>\n",
       "    </tr>\n",
       "    <tr>\n",
       "      <th>3</th>\n",
       "      <td>No</td>\n",
       "      <td>Air Miles</td>\n",
       "      <td>Letter</td>\n",
       "      <td>Medium</td>\n",
       "      <td>2</td>\n",
       "      <td>No</td>\n",
       "      <td>High</td>\n",
       "      <td>1</td>\n",
       "      <td>1</td>\n",
       "      <td>4</td>\n",
       "      <td>No</td>\n",
       "      <td>1219.00</td>\n",
       "    </tr>\n",
       "    <tr>\n",
       "      <th>4</th>\n",
       "      <td>No</td>\n",
       "      <td>Air Miles</td>\n",
       "      <td>Letter</td>\n",
       "      <td>Medium</td>\n",
       "      <td>1</td>\n",
       "      <td>No</td>\n",
       "      <td>Medium</td>\n",
       "      <td>2</td>\n",
       "      <td>1</td>\n",
       "      <td>6</td>\n",
       "      <td>Yes</td>\n",
       "      <td>1211.00</td>\n",
       "    </tr>\n",
       "    <tr>\n",
       "      <th>...</th>\n",
       "      <td>...</td>\n",
       "      <td>...</td>\n",
       "      <td>...</td>\n",
       "      <td>...</td>\n",
       "      <td>...</td>\n",
       "      <td>...</td>\n",
       "      <td>...</td>\n",
       "      <td>...</td>\n",
       "      <td>...</td>\n",
       "      <td>...</td>\n",
       "      <td>...</td>\n",
       "      <td>...</td>\n",
       "    </tr>\n",
       "    <tr>\n",
       "      <th>17995</th>\n",
       "      <td>No</td>\n",
       "      <td>Cash Back</td>\n",
       "      <td>Letter</td>\n",
       "      <td>High</td>\n",
       "      <td>1</td>\n",
       "      <td>No</td>\n",
       "      <td>Low</td>\n",
       "      <td>1</td>\n",
       "      <td>1</td>\n",
       "      <td>5</td>\n",
       "      <td>Yes</td>\n",
       "      <td>167.50</td>\n",
       "    </tr>\n",
       "    <tr>\n",
       "      <th>17996</th>\n",
       "      <td>No</td>\n",
       "      <td>Cash Back</td>\n",
       "      <td>Letter</td>\n",
       "      <td>High</td>\n",
       "      <td>1</td>\n",
       "      <td>No</td>\n",
       "      <td>Low</td>\n",
       "      <td>3</td>\n",
       "      <td>1</td>\n",
       "      <td>3</td>\n",
       "      <td>Yes</td>\n",
       "      <td>850.50</td>\n",
       "    </tr>\n",
       "    <tr>\n",
       "      <th>17997</th>\n",
       "      <td>No</td>\n",
       "      <td>Cash Back</td>\n",
       "      <td>Letter</td>\n",
       "      <td>High</td>\n",
       "      <td>1</td>\n",
       "      <td>No</td>\n",
       "      <td>Low</td>\n",
       "      <td>2</td>\n",
       "      <td>1</td>\n",
       "      <td>4</td>\n",
       "      <td>No</td>\n",
       "      <td>1087.25</td>\n",
       "    </tr>\n",
       "    <tr>\n",
       "      <th>17998</th>\n",
       "      <td>No</td>\n",
       "      <td>Cash Back</td>\n",
       "      <td>Letter</td>\n",
       "      <td>Medium</td>\n",
       "      <td>1</td>\n",
       "      <td>No</td>\n",
       "      <td>Medium</td>\n",
       "      <td>4</td>\n",
       "      <td>2</td>\n",
       "      <td>2</td>\n",
       "      <td>Yes</td>\n",
       "      <td>1022.25</td>\n",
       "    </tr>\n",
       "    <tr>\n",
       "      <th>17999</th>\n",
       "      <td>No</td>\n",
       "      <td>Cash Back</td>\n",
       "      <td>Letter</td>\n",
       "      <td>Low</td>\n",
       "      <td>2</td>\n",
       "      <td>No</td>\n",
       "      <td>Medium</td>\n",
       "      <td>2</td>\n",
       "      <td>1</td>\n",
       "      <td>3</td>\n",
       "      <td>No</td>\n",
       "      <td>1056.00</td>\n",
       "    </tr>\n",
       "  </tbody>\n",
       "</table>\n",
       "<p>17976 rows × 12 columns</p>\n",
       "</div>"
      ],
      "text/plain": [
       "      offer_accepted     reward mailer_type income_level  \\\n",
       "0                 No  Air Miles      Letter         High   \n",
       "1                 No  Air Miles      Letter       Medium   \n",
       "2                 No  Air Miles    Postcard         High   \n",
       "3                 No  Air Miles      Letter       Medium   \n",
       "4                 No  Air Miles      Letter       Medium   \n",
       "...              ...        ...         ...          ...   \n",
       "17995             No  Cash Back      Letter         High   \n",
       "17996             No  Cash Back      Letter         High   \n",
       "17997             No  Cash Back      Letter         High   \n",
       "17998             No  Cash Back      Letter       Medium   \n",
       "17999             No  Cash Back      Letter          Low   \n",
       "\n",
       "       #_bank_accounts_open overdraft_protection credit_rating  \\\n",
       "0                         1                   No          High   \n",
       "1                         1                   No        Medium   \n",
       "2                         2                   No        Medium   \n",
       "3                         2                   No          High   \n",
       "4                         1                   No        Medium   \n",
       "...                     ...                  ...           ...   \n",
       "17995                     1                   No           Low   \n",
       "17996                     1                   No           Low   \n",
       "17997                     1                   No           Low   \n",
       "17998                     1                   No        Medium   \n",
       "17999                     2                   No        Medium   \n",
       "\n",
       "       #_credit_cards_held  #_homes_owned  household_size own_your_home  \\\n",
       "0                        2              1               4            No   \n",
       "1                        2              2               5           Yes   \n",
       "2                        2              1               2           Yes   \n",
       "3                        1              1               4            No   \n",
       "4                        2              1               6           Yes   \n",
       "...                    ...            ...             ...           ...   \n",
       "17995                    1              1               5           Yes   \n",
       "17996                    3              1               3           Yes   \n",
       "17997                    2              1               4            No   \n",
       "17998                    4              2               2           Yes   \n",
       "17999                    2              1               3            No   \n",
       "\n",
       "       average_balance  \n",
       "0              1160.75  \n",
       "1               147.25  \n",
       "2               276.50  \n",
       "3              1219.00  \n",
       "4              1211.00  \n",
       "...                ...  \n",
       "17995           167.50  \n",
       "17996           850.50  \n",
       "17997          1087.25  \n",
       "17998          1022.25  \n",
       "17999          1056.00  \n",
       "\n",
       "[17976 rows x 12 columns]"
      ]
     },
     "execution_count": 152,
     "metadata": {},
     "output_type": "execute_result"
    }
   ],
   "source": [
    "data_avg1"
   ]
  },
  {
   "cell_type": "code",
   "execution_count": 153,
   "id": "232758b1",
   "metadata": {},
   "outputs": [
    {
     "data": {
      "image/png": "[encoded data removed]",
      "text/plain": [
       "<Figure size 360x360 with 1 Axes>"
      ]
     },
     "metadata": {
      "needs_background": "light"
     },
     "output_type": "display_data"
    },
    {
     "data": {
      "image/png": "[encoded data removed]",
      "text/plain": [
       "<Figure size 360x360 with 1 Axes>"
      ]
     },
     "metadata": {
      "needs_background": "light"
     },
     "output_type": "display_data"
    },
    {
     "data": {
      "image/png": "[encoded data removed]",
      "text/plain": [
       "<Figure size 360x360 with 1 Axes>"
      ]
     },
     "metadata": {
      "needs_background": "light"
     },
     "output_type": "display_data"
    },
    {
     "data": {
      "image/png": "[encoded data removed]",
      "text/plain": [
       "<Figure size 360x360 with 1 Axes>"
      ]
     },
     "metadata": {
      "needs_background": "light"
     },
     "output_type": "display_data"
    },
    {
     "data": {
      "image/png": "[encoded data removed]",
      "text/plain": [
       "<Figure size 360x360 with 1 Axes>"
      ]
     },
     "metadata": {
      "needs_background": "light"
     },
     "output_type": "display_data"
    },
    {
     "data": {
      "image/png": "[encoded data removed]",
      "text/plain": [
       "<Figure size 360x360 with 1 Axes>"
      ]
     },
     "metadata": {
      "needs_background": "light"
     },
     "output_type": "display_data"
    },
    {
     "data": {
      "image/png": "[encoded data removed]",
      "text/plain": [
       "<Figure size 360x360 with 1 Axes>"
      ]
     },
     "metadata": {
      "needs_background": "light"
     },
     "output_type": "display_data"
    },
    {
     "data": {
      "image/png": "[encoded data removed]",
      "text/plain": [
       "<Figure size 360x360 with 1 Axes>"
      ]
     },
     "metadata": {
      "needs_background": "light"
     },
     "output_type": "display_data"
    },
    {
     "data": {
      "image/png": "[encoded data removed]",
      "text/plain": [
       "<Figure size 360x360 with 1 Axes>"
      ]
     },
     "metadata": {
      "needs_background": "light"
     },
     "output_type": "display_data"
    },
    {
     "data": {
      "image/png": "[encoded data removed]",
      "text/plain": [
       "<Figure size 360x360 with 1 Axes>"
      ]
     },
     "metadata": {
      "needs_background": "light"
     },
     "output_type": "display_data"
    },
    {
     "data": {
      "image/png": "[encoded data removed]",
      "text/plain": [
       "<Figure size 360x360 with 1 Axes>"
      ]
     },
     "metadata": {
      "needs_background": "light"
     },
     "output_type": "display_data"
    },
    {
     "data": {
      "image/png": "[encoded data removed]",
      "text/plain": [
       "<Figure size 360x360 with 1 Axes>"
      ]
     },
     "metadata": {
      "needs_background": "light"
     },
     "output_type": "display_data"
    }
   ],
   "source": [
    "##Using histogram to see how the data distribute in all features\n",
    "\n",
    "for col in data_avg1.columns:\n",
    "    sns.displot(data = data_avg1[col], bins = 50)\n",
    "plt.show()\n",
    "\n",
    "##google how to normalize discrete numerical features. \n",
    "##own_your_home = under sample and oversample at the same time. "
   ]
  },
  {
   "cell_type": "code",
   "execution_count": 154,
   "id": "a4378883",
   "metadata": {},
   "outputs": [
    {
     "data": {
      "text/plain": [
       "<AxesSubplot:xlabel='average_balance'>"
      ]
     },
     "execution_count": 154,
     "metadata": {},
     "output_type": "execute_result"
    },
    {
     "data": {
      "image/png": "[encoded data removed]",
      "text/plain": [
       "<Figure size 432x288 with 1 Axes>"
      ]
     },
     "metadata": {
      "needs_background": "light"
     },
     "output_type": "display_data"
    }
   ],
   "source": [
    "## Using boxplot to understand the distribution of the column 'average_balance'\n",
    "sns.boxplot(x = data_avg1['average_balance'])    "
   ]
  },
  {
   "cell_type": "code",
   "execution_count": 155,
   "id": "54b57ab2",
   "metadata": {},
   "outputs": [
    {
     "name": "stdout",
     "output_type": "stream",
     "text": [
      "No     16955\n",
      "Yes     1021\n",
      "Name: offer_accepted, dtype: int64\n",
      "Air Miles    6047\n",
      "Cash Back    5995\n",
      "Points       5934\n",
      "Name: reward, dtype: int64\n",
      "Postcard    9134\n",
      "Letter      8842\n",
      "Name: mailer_type, dtype: int64\n",
      "Medium    9002\n",
      "High      4519\n",
      "Low       4455\n",
      "Name: income_level, dtype: int64\n",
      "1    13674\n",
      "2     4007\n",
      "3      295\n",
      "Name: #_bank_accounts_open, dtype: int64\n",
      "No     15300\n",
      "Yes     2676\n",
      "Name: overdraft_protection, dtype: int64\n",
      "High      6064\n",
      "Medium    5964\n",
      "Low       5948\n",
      "Name: credit_rating, dtype: int64\n",
      "2    7933\n",
      "1    6147\n",
      "3    3381\n",
      "4     515\n",
      "Name: #_credit_cards_held, dtype: int64\n",
      "1    14502\n",
      "2     3289\n",
      "3      185\n",
      "Name: #_homes_owned, dtype: int64\n",
      "3    5705\n",
      "4    5532\n",
      "5    2851\n",
      "2    2809\n",
      "1     539\n",
      "6     538\n",
      "8       1\n",
      "9       1\n",
      "Name: household_size, dtype: int64\n",
      "Yes    11636\n",
      "No      6340\n",
      "Name: own_your_home, dtype: int64\n",
      "1127.00    17\n",
      "1070.00    16\n",
      "1036.00    16\n",
      "1078.50    16\n",
      "1053.50    16\n",
      "           ..\n",
      "412.25      1\n",
      "402.00      1\n",
      "394.75      1\n",
      "836.75      1\n",
      "1427.25     1\n",
      "Name: average_balance, Length: 4728, dtype: int64\n"
     ]
    }
   ],
   "source": [
    "##Taking a deep look of the categorical data\n",
    "\n",
    "for col in data_avg1.columns:\n",
    "    a = data_avg1[col].value_counts()\n",
    "    print(a)"
   ]
  },
  {
   "cell_type": "code",
   "execution_count": 156,
   "id": "374604fd",
   "metadata": {},
   "outputs": [],
   "source": [
    "##income_level, credit_rating convert to numerical features, as there is a level increasing in these features\n",
    "\n",
    "data_avg1['income_level'].replace({\"High\":\"3\", \"Medium\" : \"2\", \"Low\" : \"1\"}, inplace=True)\n",
    "data_avg1['credit_rating'].replace({\"High\":\"3\", \"Medium\" : \"2\", \"Low\" : \"1\"}, inplace=True)"
   ]
  },
  {
   "cell_type": "code",
   "execution_count": 157,
   "id": "9be19503",
   "metadata": {},
   "outputs": [
    {
     "data": {
      "text/html": [
       "<div>\n",
       "<style scoped>\n",
       "    .dataframe tbody tr th:only-of-type {\n",
       "        vertical-align: middle;\n",
       "    }\n",
       "\n",
       "    .dataframe tbody tr th {\n",
       "        vertical-align: top;\n",
       "    }\n",
       "\n",
       "    .dataframe thead th {\n",
       "        text-align: right;\n",
       "    }\n",
       "</style>\n",
       "<table border=\"1\" class=\"dataframe\">\n",
       "  <thead>\n",
       "    <tr style=\"text-align: right;\">\n",
       "      <th></th>\n",
       "      <th>offer_accepted</th>\n",
       "      <th>reward</th>\n",
       "      <th>mailer_type</th>\n",
       "      <th>income_level</th>\n",
       "      <th>#_bank_accounts_open</th>\n",
       "      <th>overdraft_protection</th>\n",
       "      <th>credit_rating</th>\n",
       "      <th>#_credit_cards_held</th>\n",
       "      <th>#_homes_owned</th>\n",
       "      <th>household_size</th>\n",
       "      <th>own_your_home</th>\n",
       "      <th>average_balance</th>\n",
       "    </tr>\n",
       "  </thead>\n",
       "  <tbody>\n",
       "    <tr>\n",
       "      <th>0</th>\n",
       "      <td>No</td>\n",
       "      <td>Air Miles</td>\n",
       "      <td>Letter</td>\n",
       "      <td>3</td>\n",
       "      <td>1</td>\n",
       "      <td>No</td>\n",
       "      <td>3</td>\n",
       "      <td>2</td>\n",
       "      <td>1</td>\n",
       "      <td>4</td>\n",
       "      <td>No</td>\n",
       "      <td>1160.75</td>\n",
       "    </tr>\n",
       "    <tr>\n",
       "      <th>1</th>\n",
       "      <td>No</td>\n",
       "      <td>Air Miles</td>\n",
       "      <td>Letter</td>\n",
       "      <td>2</td>\n",
       "      <td>1</td>\n",
       "      <td>No</td>\n",
       "      <td>2</td>\n",
       "      <td>2</td>\n",
       "      <td>2</td>\n",
       "      <td>5</td>\n",
       "      <td>Yes</td>\n",
       "      <td>147.25</td>\n",
       "    </tr>\n",
       "    <tr>\n",
       "      <th>2</th>\n",
       "      <td>No</td>\n",
       "      <td>Air Miles</td>\n",
       "      <td>Postcard</td>\n",
       "      <td>3</td>\n",
       "      <td>2</td>\n",
       "      <td>No</td>\n",
       "      <td>2</td>\n",
       "      <td>2</td>\n",
       "      <td>1</td>\n",
       "      <td>2</td>\n",
       "      <td>Yes</td>\n",
       "      <td>276.50</td>\n",
       "    </tr>\n",
       "    <tr>\n",
       "      <th>3</th>\n",
       "      <td>No</td>\n",
       "      <td>Air Miles</td>\n",
       "      <td>Letter</td>\n",
       "      <td>2</td>\n",
       "      <td>2</td>\n",
       "      <td>No</td>\n",
       "      <td>3</td>\n",
       "      <td>1</td>\n",
       "      <td>1</td>\n",
       "      <td>4</td>\n",
       "      <td>No</td>\n",
       "      <td>1219.00</td>\n",
       "    </tr>\n",
       "    <tr>\n",
       "      <th>4</th>\n",
       "      <td>No</td>\n",
       "      <td>Air Miles</td>\n",
       "      <td>Letter</td>\n",
       "      <td>2</td>\n",
       "      <td>1</td>\n",
       "      <td>No</td>\n",
       "      <td>2</td>\n",
       "      <td>2</td>\n",
       "      <td>1</td>\n",
       "      <td>6</td>\n",
       "      <td>Yes</td>\n",
       "      <td>1211.00</td>\n",
       "    </tr>\n",
       "    <tr>\n",
       "      <th>...</th>\n",
       "      <td>...</td>\n",
       "      <td>...</td>\n",
       "      <td>...</td>\n",
       "      <td>...</td>\n",
       "      <td>...</td>\n",
       "      <td>...</td>\n",
       "      <td>...</td>\n",
       "      <td>...</td>\n",
       "      <td>...</td>\n",
       "      <td>...</td>\n",
       "      <td>...</td>\n",
       "      <td>...</td>\n",
       "    </tr>\n",
       "    <tr>\n",
       "      <th>17995</th>\n",
       "      <td>No</td>\n",
       "      <td>Cash Back</td>\n",
       "      <td>Letter</td>\n",
       "      <td>3</td>\n",
       "      <td>1</td>\n",
       "      <td>No</td>\n",
       "      <td>1</td>\n",
       "      <td>1</td>\n",
       "      <td>1</td>\n",
       "      <td>5</td>\n",
       "      <td>Yes</td>\n",
       "      <td>167.50</td>\n",
       "    </tr>\n",
       "    <tr>\n",
       "      <th>17996</th>\n",
       "      <td>No</td>\n",
       "      <td>Cash Back</td>\n",
       "      <td>Letter</td>\n",
       "      <td>3</td>\n",
       "      <td>1</td>\n",
       "      <td>No</td>\n",
       "      <td>1</td>\n",
       "      <td>3</td>\n",
       "      <td>1</td>\n",
       "      <td>3</td>\n",
       "      <td>Yes</td>\n",
       "      <td>850.50</td>\n",
       "    </tr>\n",
       "    <tr>\n",
       "      <th>17997</th>\n",
       "      <td>No</td>\n",
       "      <td>Cash Back</td>\n",
       "      <td>Letter</td>\n",
       "      <td>3</td>\n",
       "      <td>1</td>\n",
       "      <td>No</td>\n",
       "      <td>1</td>\n",
       "      <td>2</td>\n",
       "      <td>1</td>\n",
       "      <td>4</td>\n",
       "      <td>No</td>\n",
       "      <td>1087.25</td>\n",
       "    </tr>\n",
       "    <tr>\n",
       "      <th>17998</th>\n",
       "      <td>No</td>\n",
       "      <td>Cash Back</td>\n",
       "      <td>Letter</td>\n",
       "      <td>2</td>\n",
       "      <td>1</td>\n",
       "      <td>No</td>\n",
       "      <td>2</td>\n",
       "      <td>4</td>\n",
       "      <td>2</td>\n",
       "      <td>2</td>\n",
       "      <td>Yes</td>\n",
       "      <td>1022.25</td>\n",
       "    </tr>\n",
       "    <tr>\n",
       "      <th>17999</th>\n",
       "      <td>No</td>\n",
       "      <td>Cash Back</td>\n",
       "      <td>Letter</td>\n",
       "      <td>1</td>\n",
       "      <td>2</td>\n",
       "      <td>No</td>\n",
       "      <td>2</td>\n",
       "      <td>2</td>\n",
       "      <td>1</td>\n",
       "      <td>3</td>\n",
       "      <td>No</td>\n",
       "      <td>1056.00</td>\n",
       "    </tr>\n",
       "  </tbody>\n",
       "</table>\n",
       "<p>17976 rows × 12 columns</p>\n",
       "</div>"
      ],
      "text/plain": [
       "      offer_accepted     reward mailer_type income_level  \\\n",
       "0                 No  Air Miles      Letter            3   \n",
       "1                 No  Air Miles      Letter            2   \n",
       "2                 No  Air Miles    Postcard            3   \n",
       "3                 No  Air Miles      Letter            2   \n",
       "4                 No  Air Miles      Letter            2   \n",
       "...              ...        ...         ...          ...   \n",
       "17995             No  Cash Back      Letter            3   \n",
       "17996             No  Cash Back      Letter            3   \n",
       "17997             No  Cash Back      Letter            3   \n",
       "17998             No  Cash Back      Letter            2   \n",
       "17999             No  Cash Back      Letter            1   \n",
       "\n",
       "       #_bank_accounts_open overdraft_protection credit_rating  \\\n",
       "0                         1                   No             3   \n",
       "1                         1                   No             2   \n",
       "2                         2                   No             2   \n",
       "3                         2                   No             3   \n",
       "4                         1                   No             2   \n",
       "...                     ...                  ...           ...   \n",
       "17995                     1                   No             1   \n",
       "17996                     1                   No             1   \n",
       "17997                     1                   No             1   \n",
       "17998                     1                   No             2   \n",
       "17999                     2                   No             2   \n",
       "\n",
       "       #_credit_cards_held  #_homes_owned  household_size own_your_home  \\\n",
       "0                        2              1               4            No   \n",
       "1                        2              2               5           Yes   \n",
       "2                        2              1               2           Yes   \n",
       "3                        1              1               4            No   \n",
       "4                        2              1               6           Yes   \n",
       "...                    ...            ...             ...           ...   \n",
       "17995                    1              1               5           Yes   \n",
       "17996                    3              1               3           Yes   \n",
       "17997                    2              1               4            No   \n",
       "17998                    4              2               2           Yes   \n",
       "17999                    2              1               3            No   \n",
       "\n",
       "       average_balance  \n",
       "0              1160.75  \n",
       "1               147.25  \n",
       "2               276.50  \n",
       "3              1219.00  \n",
       "4              1211.00  \n",
       "...                ...  \n",
       "17995           167.50  \n",
       "17996           850.50  \n",
       "17997          1087.25  \n",
       "17998          1022.25  \n",
       "17999          1056.00  \n",
       "\n",
       "[17976 rows x 12 columns]"
      ]
     },
     "execution_count": 157,
     "metadata": {},
     "output_type": "execute_result"
    }
   ],
   "source": [
    "data_avg1"
   ]
  },
  {
   "cell_type": "markdown",
   "id": "d5d0da1f",
   "metadata": {},
   "source": [
    "### Modeling: Model N1 \n",
    "#without any feature engineering\n",
    "[<a href=\"#Credit-Card-Marketing-Project\">Back to Top</a>]\n"
   ]
  },
  {
   "cell_type": "code",
   "execution_count": 158,
   "id": "b5a2e0fc",
   "metadata": {},
   "outputs": [],
   "source": [
    "##Encoding categorical data\n",
    "data_avg_m1 = pd.get_dummies(data_avg1, columns = ['offer_accepted','reward', 'mailer_type', 'overdraft_protection', 'own_your_home'], drop_first = True)\n"
   ]
  },
  {
   "cell_type": "code",
   "execution_count": 159,
   "id": "90c8f8e9",
   "metadata": {},
   "outputs": [],
   "source": [
    "##Converting data type\n",
    "data_avg_m1['income_level'] = data_avg_m1['income_level'].astype('int')\n",
    "data_avg_m1['credit_rating'] = data_avg_m1['credit_rating'].astype('int')"
   ]
  },
  {
   "cell_type": "code",
   "execution_count": 160,
   "id": "819b7256",
   "metadata": {},
   "outputs": [
    {
     "data": {
      "text/html": [
       "<div>\n",
       "<style scoped>\n",
       "    .dataframe tbody tr th:only-of-type {\n",
       "        vertical-align: middle;\n",
       "    }\n",
       "\n",
       "    .dataframe tbody tr th {\n",
       "        vertical-align: top;\n",
       "    }\n",
       "\n",
       "    .dataframe thead th {\n",
       "        text-align: right;\n",
       "    }\n",
       "</style>\n",
       "<table border=\"1\" class=\"dataframe\">\n",
       "  <thead>\n",
       "    <tr style=\"text-align: right;\">\n",
       "      <th></th>\n",
       "      <th>income_level</th>\n",
       "      <th>#_bank_accounts_open</th>\n",
       "      <th>credit_rating</th>\n",
       "      <th>#_credit_cards_held</th>\n",
       "      <th>#_homes_owned</th>\n",
       "      <th>household_size</th>\n",
       "      <th>average_balance</th>\n",
       "      <th>offer_accepted_Yes</th>\n",
       "      <th>reward_Cash Back</th>\n",
       "      <th>reward_Points</th>\n",
       "      <th>mailer_type_Postcard</th>\n",
       "      <th>overdraft_protection_Yes</th>\n",
       "      <th>own_your_home_Yes</th>\n",
       "    </tr>\n",
       "  </thead>\n",
       "  <tbody>\n",
       "    <tr>\n",
       "      <th>0</th>\n",
       "      <td>3</td>\n",
       "      <td>1</td>\n",
       "      <td>3</td>\n",
       "      <td>2</td>\n",
       "      <td>1</td>\n",
       "      <td>4</td>\n",
       "      <td>1160.75</td>\n",
       "      <td>0</td>\n",
       "      <td>0</td>\n",
       "      <td>0</td>\n",
       "      <td>0</td>\n",
       "      <td>0</td>\n",
       "      <td>0</td>\n",
       "    </tr>\n",
       "    <tr>\n",
       "      <th>1</th>\n",
       "      <td>2</td>\n",
       "      <td>1</td>\n",
       "      <td>2</td>\n",
       "      <td>2</td>\n",
       "      <td>2</td>\n",
       "      <td>5</td>\n",
       "      <td>147.25</td>\n",
       "      <td>0</td>\n",
       "      <td>0</td>\n",
       "      <td>0</td>\n",
       "      <td>0</td>\n",
       "      <td>0</td>\n",
       "      <td>1</td>\n",
       "    </tr>\n",
       "    <tr>\n",
       "      <th>2</th>\n",
       "      <td>3</td>\n",
       "      <td>2</td>\n",
       "      <td>2</td>\n",
       "      <td>2</td>\n",
       "      <td>1</td>\n",
       "      <td>2</td>\n",
       "      <td>276.50</td>\n",
       "      <td>0</td>\n",
       "      <td>0</td>\n",
       "      <td>0</td>\n",
       "      <td>1</td>\n",
       "      <td>0</td>\n",
       "      <td>1</td>\n",
       "    </tr>\n",
       "    <tr>\n",
       "      <th>3</th>\n",
       "      <td>2</td>\n",
       "      <td>2</td>\n",
       "      <td>3</td>\n",
       "      <td>1</td>\n",
       "      <td>1</td>\n",
       "      <td>4</td>\n",
       "      <td>1219.00</td>\n",
       "      <td>0</td>\n",
       "      <td>0</td>\n",
       "      <td>0</td>\n",
       "      <td>0</td>\n",
       "      <td>0</td>\n",
       "      <td>0</td>\n",
       "    </tr>\n",
       "    <tr>\n",
       "      <th>4</th>\n",
       "      <td>2</td>\n",
       "      <td>1</td>\n",
       "      <td>2</td>\n",
       "      <td>2</td>\n",
       "      <td>1</td>\n",
       "      <td>6</td>\n",
       "      <td>1211.00</td>\n",
       "      <td>0</td>\n",
       "      <td>0</td>\n",
       "      <td>0</td>\n",
       "      <td>0</td>\n",
       "      <td>0</td>\n",
       "      <td>1</td>\n",
       "    </tr>\n",
       "    <tr>\n",
       "      <th>...</th>\n",
       "      <td>...</td>\n",
       "      <td>...</td>\n",
       "      <td>...</td>\n",
       "      <td>...</td>\n",
       "      <td>...</td>\n",
       "      <td>...</td>\n",
       "      <td>...</td>\n",
       "      <td>...</td>\n",
       "      <td>...</td>\n",
       "      <td>...</td>\n",
       "      <td>...</td>\n",
       "      <td>...</td>\n",
       "      <td>...</td>\n",
       "    </tr>\n",
       "    <tr>\n",
       "      <th>17995</th>\n",
       "      <td>3</td>\n",
       "      <td>1</td>\n",
       "      <td>1</td>\n",
       "      <td>1</td>\n",
       "      <td>1</td>\n",
       "      <td>5</td>\n",
       "      <td>167.50</td>\n",
       "      <td>0</td>\n",
       "      <td>1</td>\n",
       "      <td>0</td>\n",
       "      <td>0</td>\n",
       "      <td>0</td>\n",
       "      <td>1</td>\n",
       "    </tr>\n",
       "    <tr>\n",
       "      <th>17996</th>\n",
       "      <td>3</td>\n",
       "      <td>1</td>\n",
       "      <td>1</td>\n",
       "      <td>3</td>\n",
       "      <td>1</td>\n",
       "      <td>3</td>\n",
       "      <td>850.50</td>\n",
       "      <td>0</td>\n",
       "      <td>1</td>\n",
       "      <td>0</td>\n",
       "      <td>0</td>\n",
       "      <td>0</td>\n",
       "      <td>1</td>\n",
       "    </tr>\n",
       "    <tr>\n",
       "      <th>17997</th>\n",
       "      <td>3</td>\n",
       "      <td>1</td>\n",
       "      <td>1</td>\n",
       "      <td>2</td>\n",
       "      <td>1</td>\n",
       "      <td>4</td>\n",
       "      <td>1087.25</td>\n",
       "      <td>0</td>\n",
       "      <td>1</td>\n",
       "      <td>0</td>\n",
       "      <td>0</td>\n",
       "      <td>0</td>\n",
       "      <td>0</td>\n",
       "    </tr>\n",
       "    <tr>\n",
       "      <th>17998</th>\n",
       "      <td>2</td>\n",
       "      <td>1</td>\n",
       "      <td>2</td>\n",
       "      <td>4</td>\n",
       "      <td>2</td>\n",
       "      <td>2</td>\n",
       "      <td>1022.25</td>\n",
       "      <td>0</td>\n",
       "      <td>1</td>\n",
       "      <td>0</td>\n",
       "      <td>0</td>\n",
       "      <td>0</td>\n",
       "      <td>1</td>\n",
       "    </tr>\n",
       "    <tr>\n",
       "      <th>17999</th>\n",
       "      <td>1</td>\n",
       "      <td>2</td>\n",
       "      <td>2</td>\n",
       "      <td>2</td>\n",
       "      <td>1</td>\n",
       "      <td>3</td>\n",
       "      <td>1056.00</td>\n",
       "      <td>0</td>\n",
       "      <td>1</td>\n",
       "      <td>0</td>\n",
       "      <td>0</td>\n",
       "      <td>0</td>\n",
       "      <td>0</td>\n",
       "    </tr>\n",
       "  </tbody>\n",
       "</table>\n",
       "<p>17976 rows × 13 columns</p>\n",
       "</div>"
      ],
      "text/plain": [
       "       income_level  #_bank_accounts_open  credit_rating  #_credit_cards_held  \\\n",
       "0                 3                     1              3                    2   \n",
       "1                 2                     1              2                    2   \n",
       "2                 3                     2              2                    2   \n",
       "3                 2                     2              3                    1   \n",
       "4                 2                     1              2                    2   \n",
       "...             ...                   ...            ...                  ...   \n",
       "17995             3                     1              1                    1   \n",
       "17996             3                     1              1                    3   \n",
       "17997             3                     1              1                    2   \n",
       "17998             2                     1              2                    4   \n",
       "17999             1                     2              2                    2   \n",
       "\n",
       "       #_homes_owned  household_size  average_balance  offer_accepted_Yes  \\\n",
       "0                  1               4          1160.75                   0   \n",
       "1                  2               5           147.25                   0   \n",
       "2                  1               2           276.50                   0   \n",
       "3                  1               4          1219.00                   0   \n",
       "4                  1               6          1211.00                   0   \n",
       "...              ...             ...              ...                 ...   \n",
       "17995              1               5           167.50                   0   \n",
       "17996              1               3           850.50                   0   \n",
       "17997              1               4          1087.25                   0   \n",
       "17998              2               2          1022.25                   0   \n",
       "17999              1               3          1056.00                   0   \n",
       "\n",
       "       reward_Cash Back  reward_Points  mailer_type_Postcard  \\\n",
       "0                     0              0                     0   \n",
       "1                     0              0                     0   \n",
       "2                     0              0                     1   \n",
       "3                     0              0                     0   \n",
       "4                     0              0                     0   \n",
       "...                 ...            ...                   ...   \n",
       "17995                 1              0                     0   \n",
       "17996                 1              0                     0   \n",
       "17997                 1              0                     0   \n",
       "17998                 1              0                     0   \n",
       "17999                 1              0                     0   \n",
       "\n",
       "       overdraft_protection_Yes  own_your_home_Yes  \n",
       "0                             0                  0  \n",
       "1                             0                  1  \n",
       "2                             0                  1  \n",
       "3                             0                  0  \n",
       "4                             0                  1  \n",
       "...                         ...                ...  \n",
       "17995                         0                  1  \n",
       "17996                         0                  1  \n",
       "17997                         0                  0  \n",
       "17998                         0                  1  \n",
       "17999                         0                  0  \n",
       "\n",
       "[17976 rows x 13 columns]"
      ]
     },
     "execution_count": 160,
     "metadata": {},
     "output_type": "execute_result"
    }
   ],
   "source": [
    "data_avg_m1"
   ]
  },
  {
   "cell_type": "code",
   "execution_count": 161,
   "id": "abf9ba6f",
   "metadata": {},
   "outputs": [],
   "source": [
    "data_avg_m1.to_csv('data_avg_m1.csv', index = False)"
   ]
  },
  {
   "cell_type": "code",
   "execution_count": 243,
   "id": "29576119",
   "metadata": {},
   "outputs": [],
   "source": [
    "data_avg_m1=pd.read_csv('data_avg_m1.csv')"
   ]
  },
  {
   "cell_type": "code",
   "execution_count": 244,
   "id": "5d0748e6",
   "metadata": {},
   "outputs": [],
   "source": [
    "X = data_avg_m1.drop(['offer_accepted_Yes'], axis =1)\n",
    "y = data_avg_m1['offer_accepted_Yes']\n"
   ]
  },
  {
   "cell_type": "code",
   "execution_count": 164,
   "id": "ed6ae62f",
   "metadata": {},
   "outputs": [],
   "source": [
    "from sklearn.model_selection import train_test_split"
   ]
  },
  {
   "cell_type": "code",
   "execution_count": 245,
   "id": "90ebcc1e",
   "metadata": {},
   "outputs": [],
   "source": [
    "X_train, X_test, y_train, y_test = train_test_split(X, y, test_size=0.4, random_state=100)"
   ]
  },
  {
   "cell_type": "code",
   "execution_count": 246,
   "id": "a8fa65da",
   "metadata": {},
   "outputs": [
    {
     "data": {
      "text/plain": [
       "0.044779978444245416"
      ]
     },
     "execution_count": 246,
     "metadata": {},
     "output_type": "execute_result"
    }
   ],
   "source": [
    "##building a linear Regression model\n",
    "from sklearn import linear_model\n",
    "lm = linear_model.LinearRegression()\n",
    "model1 = lm.fit(X_train, y_train)\n",
    "score = lm.score(X_test,y_test)\n",
    "score"
   ]
  },
  {
   "cell_type": "code",
   "execution_count": 247,
   "id": "1727645a",
   "metadata": {},
   "outputs": [
    {
     "name": "stdout",
     "output_type": "stream",
     "text": [
      "                            OLS Regression Results                            \n",
      "==============================================================================\n",
      "Dep. Variable:     offer_accepted_Yes   R-squared:                       0.045\n",
      "Model:                            OLS   Adj. R-squared:                  0.044\n",
      "Method:                 Least Squares   F-statistic:                     70.39\n",
      "Date:                Sun, 27 Feb 2022   Prob (F-statistic):          5.35e-169\n",
      "Time:                        21:20:27   Log-Likelihood:                 1211.6\n",
      "No. Observations:               17976   AIC:                            -2397.\n",
      "Df Residuals:                   17963   BIC:                            -2296.\n",
      "Df Model:                          12                                         \n",
      "Covariance Type:            nonrobust                                         \n",
      "============================================================================================\n",
      "                               coef    std err          t      P>|t|      [0.025      0.975]\n",
      "--------------------------------------------------------------------------------------------\n",
      "const                        0.2070      0.013     16.159      0.000       0.182       0.232\n",
      "income_level                -0.0257      0.002    -10.748      0.000      -0.030      -0.021\n",
      "#_bank_accounts_open        -0.0005      0.004     -0.150      0.881      -0.008       0.006\n",
      "credit_rating               -0.0437      0.002    -21.177      0.000      -0.048      -0.040\n",
      "#_credit_cards_held         -0.0011      0.002     -0.507      0.612      -0.005       0.003\n",
      "#_homes_owned                0.0002      0.004      0.053      0.957      -0.008       0.008\n",
      "household_size              -0.0027      0.002     -1.802      0.072      -0.006       0.000\n",
      "average_balance          -1.869e-06   4.82e-06     -0.388      0.698   -1.13e-05    7.58e-06\n",
      "reward_Cash Back            -0.0419      0.004    -10.156      0.000      -0.050      -0.034\n",
      "reward_Points               -0.0171      0.004     -4.140      0.000      -0.025      -0.009\n",
      "mailer_type_Postcard         0.0451      0.003     13.349      0.000       0.038       0.052\n",
      "overdraft_protection_Yes    -0.0027      0.005     -0.577      0.564      -0.012       0.007\n",
      "own_your_home_Yes           -0.0002      0.004     -0.054      0.957      -0.007       0.007\n",
      "==============================================================================\n",
      "Omnibus:                    12882.444   Durbin-Watson:                   2.027\n",
      "Prob(Omnibus):                  0.000   Jarque-Bera (JB):           136867.995\n",
      "Skew:                           3.565   Prob(JB):                         0.00\n",
      "Kurtosis:                      14.485   Cond. No.                     7.79e+03\n",
      "==============================================================================\n",
      "\n",
      "Notes:\n",
      "[1] Standard Errors assume that the covariance matrix of the errors is correctly specified.\n",
      "[2] The condition number is large, 7.79e+03. This might indicate that there are\n",
      "strong multicollinearity or other numerical problems.\n"
     ]
    },
    {
     "name": "stderr",
     "output_type": "stream",
     "text": [
      "/usr/local/anaconda3/lib/python3.9/site-packages/statsmodels/tsa/tsatools.py:142: FutureWarning: In a future version of pandas all arguments of concat except for the argument 'objs' will be keyword-only\n",
      "  x = pd.concat(x[::order], 1)\n"
     ]
    }
   ],
   "source": [
    "import statsmodels.api as sm\n",
    "from statsmodels.formula.api import ols\n",
    "\n",
    "X = sm.add_constant(X)\n",
    "model1 = sm.OLS(y,X).fit()\n",
    "print(model1.summary())"
   ]
  },
  {
   "cell_type": "markdown",
   "id": "766be610",
   "metadata": {},
   "source": [
    "print(model1.)"
   ]
  },
  {
   "cell_type": "code",
   "execution_count": 170,
   "id": "5e913b81",
   "metadata": {},
   "outputs": [
    {
     "data": {
      "text/plain": [
       "-0.1286956397737793"
      ]
     },
     "execution_count": 170,
     "metadata": {},
     "output_type": "execute_result"
    }
   ],
   "source": [
    "##building KNN model\n",
    "\n",
    "from sklearn.neighbors import KNeighborsRegressor, KNeighborsClassifier\n",
    "\n",
    "KNN = KNeighborsRegressor(n_neighbors=6, weights = 'distance')\n",
    "KNN.fit(X_train, y_train)\n",
    "score = KNN.score(X_test, y_test)\n",
    "score"
   ]
  },
  {
   "cell_type": "code",
   "execution_count": 248,
   "id": "bf420ae0",
   "metadata": {},
   "outputs": [
    {
     "name": "stderr",
     "output_type": "stream",
     "text": [
      "/usr/local/anaconda3/lib/python3.9/site-packages/sklearn/linear_model/_logistic.py:814: ConvergenceWarning: lbfgs failed to converge (status=1):\n",
      "STOP: TOTAL NO. of ITERATIONS REACHED LIMIT.\n",
      "\n",
      "Increase the number of iterations (max_iter) or scale the data as shown in:\n",
      "    https://scikit-learn.org/stable/modules/preprocessing.html\n",
      "Please also refer to the documentation for alternative solver options:\n",
      "    https://scikit-learn.org/stable/modules/linear_model.html#logistic-regression\n",
      "  n_iter_i = _check_optimize_result(\n"
     ]
    }
   ],
   "source": [
    "##Logistic model\n",
    "from sklearn.linear_model import LogisticRegression\n",
    "classification = LogisticRegression(random_state=0, solver='lbfgs',\n",
    "                  multi_class='multinomial').fit(X_train, y_train)"
   ]
  },
  {
   "cell_type": "code",
   "execution_count": 249,
   "id": "7fa6520e",
   "metadata": {},
   "outputs": [],
   "source": [
    "from sklearn.metrics import classification_report\n",
    "from sklearn.metrics import accuracy_score, precision_score, recall_score, f1_score, plot_confusion_matrix\n",
    "\n",
    "##check the predict data\n",
    "Y_train_perditct = classification.predict(X_train)\n",
    "Y_test_perditct = classification.predict(X_test)"
   ]
  },
  {
   "cell_type": "code",
   "execution_count": 250,
   "id": "2d93415c",
   "metadata": {},
   "outputs": [
    {
     "name": "stderr",
     "output_type": "stream",
     "text": [
      "/usr/local/anaconda3/lib/python3.9/site-packages/sklearn/utils/deprecation.py:87: FutureWarning: Function plot_confusion_matrix is deprecated; Function `plot_confusion_matrix` is deprecated in 1.0 and will be removed in 1.2. Use one of the class methods: ConfusionMatrixDisplay.from_predictions or ConfusionMatrixDisplay.from_estimator.\n",
      "  warnings.warn(msg, category=FutureWarning)\n",
      "/usr/local/anaconda3/lib/python3.9/site-packages/sklearn/utils/deprecation.py:87: FutureWarning: Function plot_confusion_matrix is deprecated; Function `plot_confusion_matrix` is deprecated in 1.0 and will be removed in 1.2. Use one of the class methods: ConfusionMatrixDisplay.from_predictions or ConfusionMatrixDisplay.from_estimator.\n",
      "  warnings.warn(msg, category=FutureWarning)\n"
     ]
    },
    {
     "data": {
      "text/plain": [
       "<sklearn.metrics._plot.confusion_matrix.ConfusionMatrixDisplay at 0x7fd719c52f10>"
      ]
     },
     "execution_count": 250,
     "metadata": {},
     "output_type": "execute_result"
    },
    {
     "data": {
      "image/png": "[encoded data removed]",
      "text/plain": [
       "<Figure size 432x288 with 2 Axes>"
      ]
     },
     "metadata": {
      "needs_background": "light"
     },
     "output_type": "display_data"
    },
    {
     "data": {
      "image/png": "[encoded data removed]",
      "text/plain": [
       "<Figure size 432x288 with 2 Axes>"
      ]
     },
     "metadata": {
      "needs_background": "light"
     },
     "output_type": "display_data"
    }
   ],
   "source": [
    "##to see the accurracy\n",
    "plot_confusion_matrix(classification,X_train, y_train)\n",
    "plot_confusion_matrix(classification,X_test, y_test)\n",
    "##As you can see, this model is only able to predict \"no\". "
   ]
  },
  {
   "cell_type": "code",
   "execution_count": 251,
   "id": "abb59ad5",
   "metadata": {},
   "outputs": [
    {
     "data": {
      "text/plain": [
       "0.9436795994993742"
      ]
     },
     "execution_count": 251,
     "metadata": {},
     "output_type": "execute_result"
    }
   ],
   "source": [
    "classification.score(X_test, y_test)"
   ]
  },
  {
   "cell_type": "code",
   "execution_count": 252,
   "id": "2b6c8b9e",
   "metadata": {},
   "outputs": [
    {
     "name": "stdout",
     "output_type": "stream",
     "text": [
      "              precision    recall  f1-score   support\n",
      "\n",
      "           0       0.94      1.00      0.97     10169\n",
      "           1       0.00      0.00      0.00       616\n",
      "\n",
      "    accuracy                           0.94     10785\n",
      "   macro avg       0.47      0.50      0.49     10785\n",
      "weighted avg       0.89      0.94      0.92     10785\n",
      "               precision    recall  f1-score   support\n",
      "\n",
      "           0       0.94      1.00      0.97      6786\n",
      "           1       0.00      0.00      0.00       405\n",
      "\n",
      "    accuracy                           0.94      7191\n",
      "   macro avg       0.47      0.50      0.49      7191\n",
      "weighted avg       0.89      0.94      0.92      7191\n",
      "\n"
     ]
    },
    {
     "name": "stderr",
     "output_type": "stream",
     "text": [
      "/usr/local/anaconda3/lib/python3.9/site-packages/sklearn/metrics/_classification.py:1318: UndefinedMetricWarning: Precision and F-score are ill-defined and being set to 0.0 in labels with no predicted samples. Use `zero_division` parameter to control this behavior.\n",
      "  _warn_prf(average, modifier, msg_start, len(result))\n",
      "/usr/local/anaconda3/lib/python3.9/site-packages/sklearn/metrics/_classification.py:1318: UndefinedMetricWarning: Precision and F-score are ill-defined and being set to 0.0 in labels with no predicted samples. Use `zero_division` parameter to control this behavior.\n",
      "  _warn_prf(average, modifier, msg_start, len(result))\n",
      "/usr/local/anaconda3/lib/python3.9/site-packages/sklearn/metrics/_classification.py:1318: UndefinedMetricWarning: Precision and F-score are ill-defined and being set to 0.0 in labels with no predicted samples. Use `zero_division` parameter to control this behavior.\n",
      "  _warn_prf(average, modifier, msg_start, len(result))\n",
      "/usr/local/anaconda3/lib/python3.9/site-packages/sklearn/metrics/_classification.py:1318: UndefinedMetricWarning: Precision and F-score are ill-defined and being set to 0.0 in labels with no predicted samples. Use `zero_division` parameter to control this behavior.\n",
      "  _warn_prf(average, modifier, msg_start, len(result))\n",
      "/usr/local/anaconda3/lib/python3.9/site-packages/sklearn/metrics/_classification.py:1318: UndefinedMetricWarning: Precision and F-score are ill-defined and being set to 0.0 in labels with no predicted samples. Use `zero_division` parameter to control this behavior.\n",
      "  _warn_prf(average, modifier, msg_start, len(result))\n",
      "/usr/local/anaconda3/lib/python3.9/site-packages/sklearn/metrics/_classification.py:1318: UndefinedMetricWarning: Precision and F-score are ill-defined and being set to 0.0 in labels with no predicted samples. Use `zero_division` parameter to control this behavior.\n",
      "  _warn_prf(average, modifier, msg_start, len(result))\n"
     ]
    }
   ],
   "source": [
    "print(classification_report(y_train, Y_train_perditct),classification_report(y_test, Y_test_perditct))"
   ]
  },
  {
   "cell_type": "code",
   "execution_count": 171,
   "id": "695d71e9",
   "metadata": {},
   "outputs": [
    {
     "data": {
      "image/png": "[encoded data removed]",
      "text/plain": [
       "<Figure size 1080x936 with 2 Axes>"
      ]
     },
     "metadata": {
      "needs_background": "light"
     },
     "output_type": "display_data"
    }
   ],
   "source": [
    "corr_matrix = data_avg_m1.corr(method = 'pearson')\n",
    "fig, ax = plt.subplots(figsize = (15, 13))\n",
    "ax = sns.heatmap(corr_matrix, annot = True)\n",
    "plt.show()"
   ]
  },
  {
   "cell_type": "markdown",
   "id": "f5bc4837",
   "metadata": {},
   "source": [
    "### Modeling: Model N2 \n",
    "#cleaning the outliers in Average income\n",
    "[<a href=\"#Credit-Card-Marketing-Project\">Back to Top</a>]\n"
   ]
  },
  {
   "cell_type": "code",
   "execution_count": 295,
   "id": "cd5e6823",
   "metadata": {},
   "outputs": [],
   "source": [
    "##In this model, what I will do is: Clean out the outliers in average_balance, and scale it\n",
    "\n",
    "data_avg_m2 = pd.read_csv('data_avg_m1.csv')"
   ]
  },
  {
   "cell_type": "code",
   "execution_count": 296,
   "id": "0be8b856",
   "metadata": {},
   "outputs": [],
   "source": [
    "iqr = np.percentile(data_avg_m2['average_balance'], 75)- np.percentile(data_avg_m2['average_balance'], 25)\n",
    "upper_limit = np.percentile(data_avg_m2['average_balance'], 75) + 1.5*iqr\n",
    "lower_limit = np.percentile(data_avg_m2['average_balance'], 75) - 1.5*iqr\n",
    "data_avg_m2['average_balance'] = data_avg_m2[(data_avg_m2['average_balance']>lower_limit) & (data_avg_m2['average_balance']<upper_limit)]['average_balance']"
   ]
  },
  {
   "cell_type": "code",
   "execution_count": 297,
   "id": "e3aed2ad",
   "metadata": {},
   "outputs": [
    {
     "name": "stderr",
     "output_type": "stream",
     "text": [
      "/usr/local/anaconda3/lib/python3.9/site-packages/seaborn/_decorators.py:36: FutureWarning: Pass the following variable as a keyword arg: x. From version 0.12, the only valid positional argument will be `data`, and passing other arguments without an explicit keyword will result in an error or misinterpretation.\n",
      "  warnings.warn(\n"
     ]
    },
    {
     "data": {
      "text/plain": [
       "<AxesSubplot:xlabel='average_balance'>"
      ]
     },
     "execution_count": 297,
     "metadata": {},
     "output_type": "execute_result"
    },
    {
     "data": {
      "image/png": "[encoded data removed]",
      "text/plain": [
       "<Figure size 432x288 with 1 Axes>"
      ]
     },
     "metadata": {
      "needs_background": "light"
     },
     "output_type": "display_data"
    }
   ],
   "source": [
    "sns.boxplot(data_avg_m2['average_balance'])"
   ]
  },
  {
   "cell_type": "code",
   "execution_count": null,
   "id": "169d4f9b",
   "metadata": {},
   "outputs": [],
   "source": []
  },
  {
   "cell_type": "code",
   "execution_count": 298,
   "id": "17ca4241",
   "metadata": {},
   "outputs": [
    {
     "data": {
      "text/plain": [
       "<seaborn.axisgrid.FacetGrid at 0x7fd71c2aaf70>"
      ]
     },
     "execution_count": 298,
     "metadata": {},
     "output_type": "execute_result"
    },
    {
     "data": {
      "image/png": "[encoded data removed]",
      "text/plain": [
       "<Figure size 360x360 with 1 Axes>"
      ]
     },
     "metadata": {
      "needs_background": "light"
     },
     "output_type": "display_data"
    }
   ],
   "source": [
    "sns.displot(data_avg_m2['average_balance'])"
   ]
  },
  {
   "cell_type": "code",
   "execution_count": 299,
   "id": "6506e0db",
   "metadata": {},
   "outputs": [
    {
     "data": {
      "text/plain": [
       "income_level                   0\n",
       "#_bank_accounts_open           0\n",
       "credit_rating                  0\n",
       "#_credit_cards_held            0\n",
       "#_homes_owned                  0\n",
       "household_size                 0\n",
       "average_balance             2871\n",
       "offer_accepted_Yes             0\n",
       "reward_Cash Back               0\n",
       "reward_Points                  0\n",
       "mailer_type_Postcard           0\n",
       "overdraft_protection_Yes       0\n",
       "own_your_home_Yes              0\n",
       "dtype: int64"
      ]
     },
     "execution_count": 299,
     "metadata": {},
     "output_type": "execute_result"
    }
   ],
   "source": [
    "data_avg_m2.isna().sum()"
   ]
  },
  {
   "cell_type": "code",
   "execution_count": 300,
   "id": "2fe83063",
   "metadata": {},
   "outputs": [],
   "source": [
    "data_avg_m2 = data_avg_m2[~(data_avg_m2['average_balance'].isna())]"
   ]
  },
  {
   "cell_type": "code",
   "execution_count": 301,
   "id": "d3a321a1",
   "metadata": {},
   "outputs": [],
   "source": [
    "data_avg_m2.to_csv('data_avg_m2.csv', index = False)"
   ]
  },
  {
   "cell_type": "code",
   "execution_count": 259,
   "id": "99f95cc3",
   "metadata": {},
   "outputs": [],
   "source": [
    "data_num = data_avg_m2.drop(['offer_accepted_Yes'], axis = 1)"
   ]
  },
  {
   "cell_type": "code",
   "execution_count": 260,
   "id": "b8fde5f7",
   "metadata": {},
   "outputs": [
    {
     "data": {
      "text/html": [
       "<div>\n",
       "<style scoped>\n",
       "    .dataframe tbody tr th:only-of-type {\n",
       "        vertical-align: middle;\n",
       "    }\n",
       "\n",
       "    .dataframe tbody tr th {\n",
       "        vertical-align: top;\n",
       "    }\n",
       "\n",
       "    .dataframe thead th {\n",
       "        text-align: right;\n",
       "    }\n",
       "</style>\n",
       "<table border=\"1\" class=\"dataframe\">\n",
       "  <thead>\n",
       "    <tr style=\"text-align: right;\">\n",
       "      <th></th>\n",
       "      <th>income_level</th>\n",
       "      <th>#_bank_accounts_open</th>\n",
       "      <th>credit_rating</th>\n",
       "      <th>#_credit_cards_held</th>\n",
       "      <th>#_homes_owned</th>\n",
       "      <th>household_size</th>\n",
       "      <th>average_balance</th>\n",
       "      <th>reward_Cash Back</th>\n",
       "      <th>reward_Points</th>\n",
       "      <th>mailer_type_Postcard</th>\n",
       "      <th>overdraft_protection_Yes</th>\n",
       "      <th>own_your_home_Yes</th>\n",
       "    </tr>\n",
       "  </thead>\n",
       "  <tbody>\n",
       "    <tr>\n",
       "      <th>0</th>\n",
       "      <td>3</td>\n",
       "      <td>1</td>\n",
       "      <td>3</td>\n",
       "      <td>2</td>\n",
       "      <td>1</td>\n",
       "      <td>4</td>\n",
       "      <td>1160.75</td>\n",
       "      <td>0</td>\n",
       "      <td>0</td>\n",
       "      <td>0</td>\n",
       "      <td>0</td>\n",
       "      <td>0</td>\n",
       "    </tr>\n",
       "    <tr>\n",
       "      <th>3</th>\n",
       "      <td>2</td>\n",
       "      <td>2</td>\n",
       "      <td>3</td>\n",
       "      <td>1</td>\n",
       "      <td>1</td>\n",
       "      <td>4</td>\n",
       "      <td>1219.00</td>\n",
       "      <td>0</td>\n",
       "      <td>0</td>\n",
       "      <td>0</td>\n",
       "      <td>0</td>\n",
       "      <td>0</td>\n",
       "    </tr>\n",
       "    <tr>\n",
       "      <th>4</th>\n",
       "      <td>2</td>\n",
       "      <td>1</td>\n",
       "      <td>2</td>\n",
       "      <td>2</td>\n",
       "      <td>1</td>\n",
       "      <td>6</td>\n",
       "      <td>1211.00</td>\n",
       "      <td>0</td>\n",
       "      <td>0</td>\n",
       "      <td>0</td>\n",
       "      <td>0</td>\n",
       "      <td>1</td>\n",
       "    </tr>\n",
       "    <tr>\n",
       "      <th>5</th>\n",
       "      <td>2</td>\n",
       "      <td>1</td>\n",
       "      <td>3</td>\n",
       "      <td>3</td>\n",
       "      <td>1</td>\n",
       "      <td>4</td>\n",
       "      <td>1114.75</td>\n",
       "      <td>0</td>\n",
       "      <td>0</td>\n",
       "      <td>0</td>\n",
       "      <td>0</td>\n",
       "      <td>0</td>\n",
       "    </tr>\n",
       "    <tr>\n",
       "      <th>8</th>\n",
       "      <td>2</td>\n",
       "      <td>1</td>\n",
       "      <td>1</td>\n",
       "      <td>2</td>\n",
       "      <td>1</td>\n",
       "      <td>4</td>\n",
       "      <td>1005.00</td>\n",
       "      <td>0</td>\n",
       "      <td>0</td>\n",
       "      <td>1</td>\n",
       "      <td>0</td>\n",
       "      <td>1</td>\n",
       "    </tr>\n",
       "    <tr>\n",
       "      <th>...</th>\n",
       "      <td>...</td>\n",
       "      <td>...</td>\n",
       "      <td>...</td>\n",
       "      <td>...</td>\n",
       "      <td>...</td>\n",
       "      <td>...</td>\n",
       "      <td>...</td>\n",
       "      <td>...</td>\n",
       "      <td>...</td>\n",
       "      <td>...</td>\n",
       "      <td>...</td>\n",
       "      <td>...</td>\n",
       "    </tr>\n",
       "    <tr>\n",
       "      <th>17970</th>\n",
       "      <td>2</td>\n",
       "      <td>1</td>\n",
       "      <td>1</td>\n",
       "      <td>2</td>\n",
       "      <td>1</td>\n",
       "      <td>2</td>\n",
       "      <td>985.25</td>\n",
       "      <td>0</td>\n",
       "      <td>0</td>\n",
       "      <td>1</td>\n",
       "      <td>0</td>\n",
       "      <td>1</td>\n",
       "    </tr>\n",
       "    <tr>\n",
       "      <th>17972</th>\n",
       "      <td>3</td>\n",
       "      <td>1</td>\n",
       "      <td>1</td>\n",
       "      <td>3</td>\n",
       "      <td>1</td>\n",
       "      <td>3</td>\n",
       "      <td>850.50</td>\n",
       "      <td>1</td>\n",
       "      <td>0</td>\n",
       "      <td>0</td>\n",
       "      <td>0</td>\n",
       "      <td>1</td>\n",
       "    </tr>\n",
       "    <tr>\n",
       "      <th>17973</th>\n",
       "      <td>3</td>\n",
       "      <td>1</td>\n",
       "      <td>1</td>\n",
       "      <td>2</td>\n",
       "      <td>1</td>\n",
       "      <td>4</td>\n",
       "      <td>1087.25</td>\n",
       "      <td>1</td>\n",
       "      <td>0</td>\n",
       "      <td>0</td>\n",
       "      <td>0</td>\n",
       "      <td>0</td>\n",
       "    </tr>\n",
       "    <tr>\n",
       "      <th>17974</th>\n",
       "      <td>2</td>\n",
       "      <td>1</td>\n",
       "      <td>2</td>\n",
       "      <td>4</td>\n",
       "      <td>2</td>\n",
       "      <td>2</td>\n",
       "      <td>1022.25</td>\n",
       "      <td>1</td>\n",
       "      <td>0</td>\n",
       "      <td>0</td>\n",
       "      <td>0</td>\n",
       "      <td>1</td>\n",
       "    </tr>\n",
       "    <tr>\n",
       "      <th>17975</th>\n",
       "      <td>1</td>\n",
       "      <td>2</td>\n",
       "      <td>2</td>\n",
       "      <td>2</td>\n",
       "      <td>1</td>\n",
       "      <td>3</td>\n",
       "      <td>1056.00</td>\n",
       "      <td>1</td>\n",
       "      <td>0</td>\n",
       "      <td>0</td>\n",
       "      <td>0</td>\n",
       "      <td>0</td>\n",
       "    </tr>\n",
       "  </tbody>\n",
       "</table>\n",
       "<p>15105 rows × 12 columns</p>\n",
       "</div>"
      ],
      "text/plain": [
       "       income_level  #_bank_accounts_open  credit_rating  #_credit_cards_held  \\\n",
       "0                 3                     1              3                    2   \n",
       "3                 2                     2              3                    1   \n",
       "4                 2                     1              2                    2   \n",
       "5                 2                     1              3                    3   \n",
       "8                 2                     1              1                    2   \n",
       "...             ...                   ...            ...                  ...   \n",
       "17970             2                     1              1                    2   \n",
       "17972             3                     1              1                    3   \n",
       "17973             3                     1              1                    2   \n",
       "17974             2                     1              2                    4   \n",
       "17975             1                     2              2                    2   \n",
       "\n",
       "       #_homes_owned  household_size  average_balance  reward_Cash Back  \\\n",
       "0                  1               4          1160.75                 0   \n",
       "3                  1               4          1219.00                 0   \n",
       "4                  1               6          1211.00                 0   \n",
       "5                  1               4          1114.75                 0   \n",
       "8                  1               4          1005.00                 0   \n",
       "...              ...             ...              ...               ...   \n",
       "17970              1               2           985.25                 0   \n",
       "17972              1               3           850.50                 1   \n",
       "17973              1               4          1087.25                 1   \n",
       "17974              2               2          1022.25                 1   \n",
       "17975              1               3          1056.00                 1   \n",
       "\n",
       "       reward_Points  mailer_type_Postcard  overdraft_protection_Yes  \\\n",
       "0                  0                     0                         0   \n",
       "3                  0                     0                         0   \n",
       "4                  0                     0                         0   \n",
       "5                  0                     0                         0   \n",
       "8                  0                     1                         0   \n",
       "...              ...                   ...                       ...   \n",
       "17970              0                     1                         0   \n",
       "17972              0                     0                         0   \n",
       "17973              0                     0                         0   \n",
       "17974              0                     0                         0   \n",
       "17975              0                     0                         0   \n",
       "\n",
       "       own_your_home_Yes  \n",
       "0                      0  \n",
       "3                      0  \n",
       "4                      1  \n",
       "5                      0  \n",
       "8                      1  \n",
       "...                  ...  \n",
       "17970                  1  \n",
       "17972                  1  \n",
       "17973                  0  \n",
       "17974                  1  \n",
       "17975                  0  \n",
       "\n",
       "[15105 rows x 12 columns]"
      ]
     },
     "execution_count": 260,
     "metadata": {},
     "output_type": "execute_result"
    }
   ],
   "source": [
    "data_num"
   ]
  },
  {
   "cell_type": "code",
   "execution_count": null,
   "id": "c58c4450",
   "metadata": {},
   "outputs": [],
   "source": []
  },
  {
   "cell_type": "code",
   "execution_count": 261,
   "id": "9dcdd1a7",
   "metadata": {},
   "outputs": [],
   "source": [
    "from sklearn.preprocessing import StandardScaler\n",
    "transformer = StandardScaler().fit(data_num)\n",
    "data_num_standard = transformer.transform(data_num)"
   ]
  },
  {
   "cell_type": "code",
   "execution_count": 262,
   "id": "53dd27df",
   "metadata": {},
   "outputs": [],
   "source": [
    "y = data_avg_m2['offer_accepted_Yes']\n",
    "X = data_num_standard"
   ]
  },
  {
   "cell_type": "code",
   "execution_count": 263,
   "id": "7affac6d",
   "metadata": {},
   "outputs": [],
   "source": [
    "X_train, X_test, y_train, y_test = train_test_split(X, y, test_size=0.4, random_state=100)"
   ]
  },
  {
   "cell_type": "code",
   "execution_count": 264,
   "id": "13c33c13",
   "metadata": {},
   "outputs": [],
   "source": [
    "##Classification model: \n",
    "classification = LogisticRegression(random_state=0, solver='lbfgs',\n",
    "                  multi_class='multinomial').fit(X_train, y_train)"
   ]
  },
  {
   "cell_type": "code",
   "execution_count": 265,
   "id": "9c878874",
   "metadata": {},
   "outputs": [
    {
     "data": {
      "text/plain": [
       "0.943230718305197"
      ]
     },
     "execution_count": 265,
     "metadata": {},
     "output_type": "execute_result"
    }
   ],
   "source": [
    "classification.score(X_test, y_test)"
   ]
  },
  {
   "cell_type": "code",
   "execution_count": 266,
   "id": "a12dcc72",
   "metadata": {},
   "outputs": [],
   "source": [
    "##check the predict data\n",
    "Y_train_perditct = classification.predict(X_train)\n",
    "Y_test_perditct = classification.predict(X_test)"
   ]
  },
  {
   "cell_type": "code",
   "execution_count": 267,
   "id": "ccb0303d",
   "metadata": {},
   "outputs": [
    {
     "name": "stderr",
     "output_type": "stream",
     "text": [
      "/usr/local/anaconda3/lib/python3.9/site-packages/sklearn/utils/deprecation.py:87: FutureWarning: Function plot_confusion_matrix is deprecated; Function `plot_confusion_matrix` is deprecated in 1.0 and will be removed in 1.2. Use one of the class methods: ConfusionMatrixDisplay.from_predictions or ConfusionMatrixDisplay.from_estimator.\n",
      "  warnings.warn(msg, category=FutureWarning)\n",
      "/usr/local/anaconda3/lib/python3.9/site-packages/sklearn/utils/deprecation.py:87: FutureWarning: Function plot_confusion_matrix is deprecated; Function `plot_confusion_matrix` is deprecated in 1.0 and will be removed in 1.2. Use one of the class methods: ConfusionMatrixDisplay.from_predictions or ConfusionMatrixDisplay.from_estimator.\n",
      "  warnings.warn(msg, category=FutureWarning)\n"
     ]
    },
    {
     "data": {
      "text/plain": [
       "<sklearn.metrics._plot.confusion_matrix.ConfusionMatrixDisplay at 0x7fd71b6f1b20>"
      ]
     },
     "execution_count": 267,
     "metadata": {},
     "output_type": "execute_result"
    },
    {
     "data": {
      "image/png": "[encoded data removed]",
      "text/plain": [
       "<Figure size 432x288 with 2 Axes>"
      ]
     },
     "metadata": {
      "needs_background": "light"
     },
     "output_type": "display_data"
    },
    {
     "data": {
      "image/png": "[encoded data removed]",
      "text/plain": [
       "<Figure size 432x288 with 2 Axes>"
      ]
     },
     "metadata": {
      "needs_background": "light"
     },
     "output_type": "display_data"
    }
   ],
   "source": [
    "##to see the accurracy\n",
    "plot_confusion_matrix(classification,X_train, y_train)\n",
    "plot_confusion_matrix(classification,X_test, y_test)\n",
    "\n",
    "##the performance is slightly better, however the model still only predicts \"NO\"."
   ]
  },
  {
   "cell_type": "code",
   "execution_count": 268,
   "id": "b033594c",
   "metadata": {},
   "outputs": [
    {
     "name": "stdout",
     "output_type": "stream",
     "text": [
      "              precision    recall  f1-score   support\n",
      "\n",
      "           0       0.94      1.00      0.97      8551\n",
      "           1       0.00      0.00      0.00       512\n",
      "\n",
      "    accuracy                           0.94      9063\n",
      "   macro avg       0.47      0.50      0.49      9063\n",
      "weighted avg       0.89      0.94      0.92      9063\n",
      "               precision    recall  f1-score   support\n",
      "\n",
      "           0       0.94      1.00      0.97      5699\n",
      "           1       0.00      0.00      0.00       343\n",
      "\n",
      "    accuracy                           0.94      6042\n",
      "   macro avg       0.47      0.50      0.49      6042\n",
      "weighted avg       0.89      0.94      0.92      6042\n",
      "\n"
     ]
    },
    {
     "name": "stderr",
     "output_type": "stream",
     "text": [
      "/usr/local/anaconda3/lib/python3.9/site-packages/sklearn/metrics/_classification.py:1318: UndefinedMetricWarning: Precision and F-score are ill-defined and being set to 0.0 in labels with no predicted samples. Use `zero_division` parameter to control this behavior.\n",
      "  _warn_prf(average, modifier, msg_start, len(result))\n",
      "/usr/local/anaconda3/lib/python3.9/site-packages/sklearn/metrics/_classification.py:1318: UndefinedMetricWarning: Precision and F-score are ill-defined and being set to 0.0 in labels with no predicted samples. Use `zero_division` parameter to control this behavior.\n",
      "  _warn_prf(average, modifier, msg_start, len(result))\n",
      "/usr/local/anaconda3/lib/python3.9/site-packages/sklearn/metrics/_classification.py:1318: UndefinedMetricWarning: Precision and F-score are ill-defined and being set to 0.0 in labels with no predicted samples. Use `zero_division` parameter to control this behavior.\n",
      "  _warn_prf(average, modifier, msg_start, len(result))\n",
      "/usr/local/anaconda3/lib/python3.9/site-packages/sklearn/metrics/_classification.py:1318: UndefinedMetricWarning: Precision and F-score are ill-defined and being set to 0.0 in labels with no predicted samples. Use `zero_division` parameter to control this behavior.\n",
      "  _warn_prf(average, modifier, msg_start, len(result))\n",
      "/usr/local/anaconda3/lib/python3.9/site-packages/sklearn/metrics/_classification.py:1318: UndefinedMetricWarning: Precision and F-score are ill-defined and being set to 0.0 in labels with no predicted samples. Use `zero_division` parameter to control this behavior.\n",
      "  _warn_prf(average, modifier, msg_start, len(result))\n",
      "/usr/local/anaconda3/lib/python3.9/site-packages/sklearn/metrics/_classification.py:1318: UndefinedMetricWarning: Precision and F-score are ill-defined and being set to 0.0 in labels with no predicted samples. Use `zero_division` parameter to control this behavior.\n",
      "  _warn_prf(average, modifier, msg_start, len(result))\n"
     ]
    }
   ],
   "source": [
    "print(classification_report(y_train, Y_train_perditct),classification_report(y_test, Y_test_perditct))"
   ]
  },
  {
   "cell_type": "markdown",
   "id": "4c67618f",
   "metadata": {},
   "source": [
    "### Modeling: Model N3 \n",
    "#deal with the inbalance data.\n",
    "[<a href=\"#Credit-Card-Marketing-Project\">Back to Top</a>]\n"
   ]
  },
  {
   "cell_type": "code",
   "execution_count": 269,
   "id": "4c543bc3",
   "metadata": {},
   "outputs": [],
   "source": [
    "from imblearn.under_sampling import RandomUnderSampler\n",
    "from imblearn.under_sampling import TomekLinks\n",
    "from imblearn.over_sampling import RandomOverSampler\n",
    "from imblearn.over_sampling import SMOTE"
   ]
  },
  {
   "cell_type": "code",
   "execution_count": 270,
   "id": "2154afae",
   "metadata": {},
   "outputs": [],
   "source": [
    "data_avg_m3=pd.read_csv('data_avg_m1.csv')"
   ]
  },
  {
   "cell_type": "code",
   "execution_count": 271,
   "id": "7a67caff",
   "metadata": {},
   "outputs": [],
   "source": [
    "X = data_avg_m3.drop(['offer_accepted_Yes'], axis =1)\n",
    "y = data_avg_m3['offer_accepted_Yes']\n"
   ]
  },
  {
   "cell_type": "code",
   "execution_count": 272,
   "id": "6062e5cb",
   "metadata": {},
   "outputs": [],
   "source": [
    "##Split the train and test data before dealing with the inbalabce data\n",
    "X_train, X_test, y_train, y_test = train_test_split(X, y, test_size=0.4, random_state=100)"
   ]
  },
  {
   "cell_type": "code",
   "execution_count": 273,
   "id": "45e18535",
   "metadata": {},
   "outputs": [
    {
     "data": {
      "text/plain": [
       "0    616\n",
       "1    616\n",
       "Name: offer_accepted_Yes, dtype: int64"
      ]
     },
     "execution_count": 273,
     "metadata": {},
     "output_type": "execute_result"
    }
   ],
   "source": [
    "#under sampling using RandomUnderSampler\n",
    "rus = RandomUnderSampler(random_state=10)\n",
    "X_rus, Y_rus = rus.fit_resample(X_train,y_train)\n",
    "Y_rus.value_counts()"
   ]
  },
  {
   "cell_type": "code",
   "execution_count": 274,
   "id": "710813d3",
   "metadata": {},
   "outputs": [
    {
     "name": "stderr",
     "output_type": "stream",
     "text": [
      "/usr/local/anaconda3/lib/python3.9/site-packages/sklearn/linear_model/_logistic.py:814: ConvergenceWarning: lbfgs failed to converge (status=1):\n",
      "STOP: TOTAL NO. of ITERATIONS REACHED LIMIT.\n",
      "\n",
      "Increase the number of iterations (max_iter) or scale the data as shown in:\n",
      "    https://scikit-learn.org/stable/modules/preprocessing.html\n",
      "Please also refer to the documentation for alternative solver options:\n",
      "    https://scikit-learn.org/stable/modules/linear_model.html#logistic-regression\n",
      "  n_iter_i = _check_optimize_result(\n"
     ]
    }
   ],
   "source": [
    "classification_random_under = LogisticRegression(random_state=0, solver='lbfgs',\n",
    "                  multi_class='multinomial').fit(X_rus, Y_rus)\n"
   ]
  },
  {
   "cell_type": "code",
   "execution_count": 275,
   "id": "73ae52d2",
   "metadata": {},
   "outputs": [
    {
     "data": {
      "text/plain": [
       "0.6679182311222361"
      ]
     },
     "execution_count": 275,
     "metadata": {},
     "output_type": "execute_result"
    }
   ],
   "source": [
    "classification_random_under.score(X_test, y_test)"
   ]
  },
  {
   "cell_type": "code",
   "execution_count": 276,
   "id": "a2b6663a",
   "metadata": {},
   "outputs": [
    {
     "data": {
      "text/plain": [
       "0    9904\n",
       "1     616\n",
       "Name: offer_accepted_Yes, dtype: int64"
      ]
     },
     "execution_count": 276,
     "metadata": {},
     "output_type": "execute_result"
    }
   ],
   "source": [
    "#under sampling using TomekLinks\n",
    "t1 = TomekLinks()\n",
    "X_under,Y_under = t1.fit_resample(X_train,y_train)\n",
    "Y_under.value_counts()"
   ]
  },
  {
   "cell_type": "code",
   "execution_count": 277,
   "id": "1f88a8e2",
   "metadata": {},
   "outputs": [
    {
     "name": "stderr",
     "output_type": "stream",
     "text": [
      "/usr/local/anaconda3/lib/python3.9/site-packages/sklearn/linear_model/_logistic.py:814: ConvergenceWarning: lbfgs failed to converge (status=1):\n",
      "STOP: TOTAL NO. of ITERATIONS REACHED LIMIT.\n",
      "\n",
      "Increase the number of iterations (max_iter) or scale the data as shown in:\n",
      "    https://scikit-learn.org/stable/modules/preprocessing.html\n",
      "Please also refer to the documentation for alternative solver options:\n",
      "    https://scikit-learn.org/stable/modules/linear_model.html#logistic-regression\n",
      "  n_iter_i = _check_optimize_result(\n"
     ]
    }
   ],
   "source": [
    "classification_tomeklinks = LogisticRegression(random_state=0, solver='lbfgs',\n",
    "                  multi_class='multinomial').fit(X_under,Y_under)"
   ]
  },
  {
   "cell_type": "code",
   "execution_count": 278,
   "id": "c1e41b93",
   "metadata": {},
   "outputs": [
    {
     "data": {
      "text/plain": [
       "0.9436795994993742"
      ]
     },
     "execution_count": 278,
     "metadata": {},
     "output_type": "execute_result"
    }
   ],
   "source": [
    "classification_tomeklinks.score(X_test, y_test)"
   ]
  },
  {
   "cell_type": "code",
   "execution_count": 279,
   "id": "10c4779e",
   "metadata": {},
   "outputs": [
    {
     "name": "stderr",
     "output_type": "stream",
     "text": [
      "/usr/local/anaconda3/lib/python3.9/site-packages/sklearn/utils/deprecation.py:87: FutureWarning: Function plot_confusion_matrix is deprecated; Function `plot_confusion_matrix` is deprecated in 1.0 and will be removed in 1.2. Use one of the class methods: ConfusionMatrixDisplay.from_predictions or ConfusionMatrixDisplay.from_estimator.\n",
      "  warnings.warn(msg, category=FutureWarning)\n",
      "/usr/local/anaconda3/lib/python3.9/site-packages/sklearn/base.py:443: UserWarning: X has feature names, but LogisticRegression was fitted without feature names\n",
      "  warnings.warn(\n",
      "/usr/local/anaconda3/lib/python3.9/site-packages/sklearn/utils/deprecation.py:87: FutureWarning: Function plot_confusion_matrix is deprecated; Function `plot_confusion_matrix` is deprecated in 1.0 and will be removed in 1.2. Use one of the class methods: ConfusionMatrixDisplay.from_predictions or ConfusionMatrixDisplay.from_estimator.\n",
      "  warnings.warn(msg, category=FutureWarning)\n",
      "/usr/local/anaconda3/lib/python3.9/site-packages/sklearn/base.py:443: UserWarning: X has feature names, but LogisticRegression was fitted without feature names\n",
      "  warnings.warn(\n"
     ]
    },
    {
     "data": {
      "text/plain": [
       "<sklearn.metrics._plot.confusion_matrix.ConfusionMatrixDisplay at 0x7fd71c2aa250>"
      ]
     },
     "execution_count": 279,
     "metadata": {},
     "output_type": "execute_result"
    },
    {
     "data": {
      "image/png": "[encoded data removed]",
      "text/plain": [
       "<Figure size 432x288 with 2 Axes>"
      ]
     },
     "metadata": {
      "needs_background": "light"
     },
     "output_type": "display_data"
    },
    {
     "data": {
      "image/png": "[encoded data removed]",
      "text/plain": [
       "<Figure size 432x288 with 2 Axes>"
      ]
     },
     "metadata": {
      "needs_background": "light"
     },
     "output_type": "display_data"
    }
   ],
   "source": [
    "##to see the accurracy\n",
    "plot_confusion_matrix(classification,X_train, y_train)\n",
    "plot_confusion_matrix(classification,X_test, y_test)\n",
    "\n",
    "##the performance is slightly better, however the model still only predicts \"NO\"."
   ]
  },
  {
   "cell_type": "code",
   "execution_count": 280,
   "id": "8c1908a0",
   "metadata": {},
   "outputs": [
    {
     "data": {
      "text/plain": [
       "0    10169\n",
       "1    10169\n",
       "Name: offer_accepted_Yes, dtype: int64"
      ]
     },
     "execution_count": 280,
     "metadata": {},
     "output_type": "execute_result"
    }
   ],
   "source": [
    "##Over Sampling\n",
    "#over sampling using RandomoverSampler\n",
    "ros = RandomOverSampler(random_state=10)\n",
    "X_rus, Y_rus = ros.fit_resample(X_train,y_train)\n",
    "Y_rus.value_counts()"
   ]
  },
  {
   "cell_type": "code",
   "execution_count": 281,
   "id": "4a550402",
   "metadata": {},
   "outputs": [
    {
     "name": "stderr",
     "output_type": "stream",
     "text": [
      "/usr/local/anaconda3/lib/python3.9/site-packages/sklearn/linear_model/_logistic.py:814: ConvergenceWarning: lbfgs failed to converge (status=1):\n",
      "STOP: TOTAL NO. of ITERATIONS REACHED LIMIT.\n",
      "\n",
      "Increase the number of iterations (max_iter) or scale the data as shown in:\n",
      "    https://scikit-learn.org/stable/modules/preprocessing.html\n",
      "Please also refer to the documentation for alternative solver options:\n",
      "    https://scikit-learn.org/stable/modules/linear_model.html#logistic-regression\n",
      "  n_iter_i = _check_optimize_result(\n"
     ]
    }
   ],
   "source": [
    "classification_random_over = LogisticRegression(random_state=0, solver='lbfgs',\n",
    "                  multi_class='multinomial').fit(X_rus, Y_rus)"
   ]
  },
  {
   "cell_type": "code",
   "execution_count": 282,
   "id": "8df4e6fa",
   "metadata": {},
   "outputs": [
    {
     "data": {
      "text/plain": [
       "0.672646363509943"
      ]
     },
     "execution_count": 282,
     "metadata": {},
     "output_type": "execute_result"
    }
   ],
   "source": [
    "classification_random_over.score(X_test, y_test)"
   ]
  },
  {
   "cell_type": "code",
   "execution_count": 285,
   "id": "767d81c9",
   "metadata": {},
   "outputs": [
    {
     "name": "stderr",
     "output_type": "stream",
     "text": [
      "/usr/local/anaconda3/lib/python3.9/site-packages/sklearn/utils/deprecation.py:87: FutureWarning: Function plot_confusion_matrix is deprecated; Function `plot_confusion_matrix` is deprecated in 1.0 and will be removed in 1.2. Use one of the class methods: ConfusionMatrixDisplay.from_predictions or ConfusionMatrixDisplay.from_estimator.\n",
      "  warnings.warn(msg, category=FutureWarning)\n"
     ]
    },
    {
     "data": {
      "text/plain": [
       "<sklearn.metrics._plot.confusion_matrix.ConfusionMatrixDisplay at 0x7fd71adb6cd0>"
      ]
     },
     "execution_count": 285,
     "metadata": {},
     "output_type": "execute_result"
    },
    {
     "data": {
      "image/png": "[encoded data removed]",
      "text/plain": [
       "<Figure size 432x288 with 2 Axes>"
      ]
     },
     "metadata": {
      "needs_background": "light"
     },
     "output_type": "display_data"
    },
    {
     "data": {
      "image/png": "[encoded data removed]",
      "text/plain": [
       "<Figure size 432x288 with 2 Axes>"
      ]
     },
     "metadata": {
      "needs_background": "light"
     },
     "output_type": "display_data"
    }
   ],
   "source": [
    "##to see the accurracy\n",
    "plot_confusion_matrix(classification_random_over ,X_train, y_train)\n",
    "plot_confusion_matrix(classification_random_over ,X_test, y_test)\n",
    "\n",
    "##the performance is slightly better, however the model still only predicts \"NO\"."
   ]
  },
  {
   "cell_type": "code",
   "execution_count": 314,
   "id": "0420fc38",
   "metadata": {},
   "outputs": [
    {
     "data": {
      "text/plain": [
       "0    10169\n",
       "1    10169\n",
       "Name: offer_accepted_Yes, dtype: int64"
      ]
     },
     "execution_count": 314,
     "metadata": {},
     "output_type": "execute_result"
    }
   ],
   "source": [
    "##Over Sampling\n",
    "#over sampling using SMOTE\n",
    "sm = SMOTE(random_state = 42)\n",
    "X_res, Y_res = sm.fit_resample(X_train,y_train)\n",
    "Y_res.value_counts()"
   ]
  },
  {
   "cell_type": "code",
   "execution_count": 315,
   "id": "c55eecc7",
   "metadata": {},
   "outputs": [
    {
     "name": "stderr",
     "output_type": "stream",
     "text": [
      "/usr/local/anaconda3/lib/python3.9/site-packages/sklearn/linear_model/_logistic.py:814: ConvergenceWarning: lbfgs failed to converge (status=1):\n",
      "STOP: TOTAL NO. of ITERATIONS REACHED LIMIT.\n",
      "\n",
      "Increase the number of iterations (max_iter) or scale the data as shown in:\n",
      "    https://scikit-learn.org/stable/modules/preprocessing.html\n",
      "Please also refer to the documentation for alternative solver options:\n",
      "    https://scikit-learn.org/stable/modules/linear_model.html#logistic-regression\n",
      "  n_iter_i = _check_optimize_result(\n"
     ]
    }
   ],
   "source": [
    "classification_smote = LogisticRegression(random_state=0, solver='lbfgs',\n",
    "                  multi_class='multinomial').fit(X_res, Y_res)"
   ]
  },
  {
   "cell_type": "code",
   "execution_count": 316,
   "id": "efd94a2c",
   "metadata": {},
   "outputs": [
    {
     "data": {
      "text/plain": [
       "0.7972465581977471"
      ]
     },
     "execution_count": 316,
     "metadata": {},
     "output_type": "execute_result"
    }
   ],
   "source": [
    "classification_smote.score(X_test, y_test)"
   ]
  },
  {
   "cell_type": "code",
   "execution_count": 318,
   "id": "20614164",
   "metadata": {},
   "outputs": [
    {
     "name": "stderr",
     "output_type": "stream",
     "text": [
      "/usr/local/anaconda3/lib/python3.9/site-packages/sklearn/utils/deprecation.py:87: FutureWarning: Function plot_confusion_matrix is deprecated; Function `plot_confusion_matrix` is deprecated in 1.0 and will be removed in 1.2. Use one of the class methods: ConfusionMatrixDisplay.from_predictions or ConfusionMatrixDisplay.from_estimator.\n",
      "  warnings.warn(msg, category=FutureWarning)\n",
      "/usr/local/anaconda3/lib/python3.9/site-packages/sklearn/utils/deprecation.py:87: FutureWarning: Function plot_confusion_matrix is deprecated; Function `plot_confusion_matrix` is deprecated in 1.0 and will be removed in 1.2. Use one of the class methods: ConfusionMatrixDisplay.from_predictions or ConfusionMatrixDisplay.from_estimator.\n",
      "  warnings.warn(msg, category=FutureWarning)\n"
     ]
    },
    {
     "data": {
      "text/plain": [
       "<sklearn.metrics._plot.confusion_matrix.ConfusionMatrixDisplay at 0x7fd730d72430>"
      ]
     },
     "execution_count": 318,
     "metadata": {},
     "output_type": "execute_result"
    },
    {
     "data": {
      "image/png": "[encoded data removed]",
      "text/plain": [
       "<Figure size 432x288 with 2 Axes>"
      ]
     },
     "metadata": {
      "needs_background": "light"
     },
     "output_type": "display_data"
    },
    {
     "data": {
      "image/png": "[encoded data removed]",
      "text/plain": [
       "<Figure size 432x288 with 2 Axes>"
      ]
     },
     "metadata": {
      "needs_background": "light"
     },
     "output_type": "display_data"
    }
   ],
   "source": [
    "##to see the accurracy\n",
    "plot_confusion_matrix(classification_smote,X_res, Y_res)\n",
    "plot_confusion_matrix(classification_smote,X_test, y_test)\n",
    "\n",
    "##the performance is slightly better, however the model still only predicts \"NO\"."
   ]
  },
  {
   "cell_type": "code",
   "execution_count": 313,
   "id": "961c85b3",
   "metadata": {},
   "outputs": [],
   "source": [
    "Y_train_perditct = classification_smote.predict(X_res)\n",
    "Y_test_perditct = classification_smote.predict(X_test)"
   ]
  },
  {
   "cell_type": "code",
   "execution_count": null,
   "id": "d73a3ad5",
   "metadata": {},
   "outputs": [],
   "source": [
    "print(classification_report(Y_res, Y_train_perditct),classification_report(y_test, Y_test_perditct))"
   ]
  },
  {
   "cell_type": "code",
   "execution_count": null,
   "id": "e2567b53",
   "metadata": {},
   "outputs": [],
   "source": []
  },
  {
   "cell_type": "markdown",
   "id": "3d2444f0",
   "metadata": {},
   "source": [
    "### Modeling: Model N4 \n",
    "#deal with the inbalance data.\n",
    "[<a href=\"#Credit-Card-Marketing-Project\">Back to Top</a>]\n"
   ]
  },
  {
   "cell_type": "code",
   "execution_count": 321,
   "id": "6881bd12",
   "metadata": {},
   "outputs": [],
   "source": [
    "data_avg_m4=pd.read_csv('data_avg_m2.csv')"
   ]
  },
  {
   "cell_type": "code",
   "execution_count": 322,
   "id": "1ab68229",
   "metadata": {},
   "outputs": [],
   "source": [
    "X = data_avg_m4.drop(['offer_accepted_Yes'], axis =1)\n",
    "y = data_avg_m4['offer_accepted_Yes']"
   ]
  },
  {
   "cell_type": "code",
   "execution_count": 341,
   "id": "8b052443",
   "metadata": {},
   "outputs": [],
   "source": [
    "X = data_avg_m4.drop(['offer_accepted_Yes', 'overdraft_protection_Yes'], axis =1)\n",
    "y = data_avg_m4['offer_accepted_Yes']"
   ]
  },
  {
   "cell_type": "code",
   "execution_count": 342,
   "id": "34f87e71",
   "metadata": {},
   "outputs": [],
   "source": [
    "X_train, X_test, y_train, y_test = train_test_split(X, y, test_size=0.4, random_state=100)"
   ]
  },
  {
   "cell_type": "code",
   "execution_count": 343,
   "id": "3a668753",
   "metadata": {},
   "outputs": [
    {
     "data": {
      "text/plain": [
       "1    8551\n",
       "0    8551\n",
       "Name: offer_accepted_Yes, dtype: int64"
      ]
     },
     "execution_count": 343,
     "metadata": {},
     "output_type": "execute_result"
    }
   ],
   "source": [
    "ros = RandomOverSampler(random_state=10)\n",
    "X_rus, Y_rus = ros.fit_resample(X_train,y_train)\n",
    "Y_rus.value_counts()"
   ]
  },
  {
   "cell_type": "code",
   "execution_count": 344,
   "id": "2d4508cc",
   "metadata": {},
   "outputs": [
    {
     "name": "stderr",
     "output_type": "stream",
     "text": [
      "/usr/local/anaconda3/lib/python3.9/site-packages/sklearn/linear_model/_logistic.py:814: ConvergenceWarning: lbfgs failed to converge (status=1):\n",
      "STOP: TOTAL NO. of ITERATIONS REACHED LIMIT.\n",
      "\n",
      "Increase the number of iterations (max_iter) or scale the data as shown in:\n",
      "    https://scikit-learn.org/stable/modules/preprocessing.html\n",
      "Please also refer to the documentation for alternative solver options:\n",
      "    https://scikit-learn.org/stable/modules/linear_model.html#logistic-regression\n",
      "  n_iter_i = _check_optimize_result(\n"
     ]
    }
   ],
   "source": [
    "classification_random_over = LogisticRegression(random_state=0, solver='lbfgs',\n",
    "                  multi_class='multinomial').fit(X_rus, Y_rus)"
   ]
  },
  {
   "cell_type": "code",
   "execution_count": 345,
   "id": "66e1787a",
   "metadata": {},
   "outputs": [
    {
     "data": {
      "text/plain": [
       "0.6746110559417412"
      ]
     },
     "execution_count": 345,
     "metadata": {},
     "output_type": "execute_result"
    }
   ],
   "source": [
    "classification_random_over.score(X_test, y_test)"
   ]
  },
  {
   "cell_type": "code",
   "execution_count": 327,
   "id": "50440cb9",
   "metadata": {},
   "outputs": [
    {
     "name": "stderr",
     "output_type": "stream",
     "text": [
      "/usr/local/anaconda3/lib/python3.9/site-packages/sklearn/utils/deprecation.py:87: FutureWarning: Function plot_confusion_matrix is deprecated; Function `plot_confusion_matrix` is deprecated in 1.0 and will be removed in 1.2. Use one of the class methods: ConfusionMatrixDisplay.from_predictions or ConfusionMatrixDisplay.from_estimator.\n",
      "  warnings.warn(msg, category=FutureWarning)\n",
      "/usr/local/anaconda3/lib/python3.9/site-packages/sklearn/utils/deprecation.py:87: FutureWarning: Function plot_confusion_matrix is deprecated; Function `plot_confusion_matrix` is deprecated in 1.0 and will be removed in 1.2. Use one of the class methods: ConfusionMatrixDisplay.from_predictions or ConfusionMatrixDisplay.from_estimator.\n",
      "  warnings.warn(msg, category=FutureWarning)\n"
     ]
    },
    {
     "data": {
      "text/plain": [
       "<sklearn.metrics._plot.confusion_matrix.ConfusionMatrixDisplay at 0x7fd71ae8a520>"
      ]
     },
     "execution_count": 327,
     "metadata": {},
     "output_type": "execute_result"
    },
    {
     "data": {
      "image/png": "[encoded data removed]",
      "text/plain": [
       "<Figure size 432x288 with 2 Axes>"
      ]
     },
     "metadata": {
      "needs_background": "light"
     },
     "output_type": "display_data"
    },
    {
     "data": {
      "image/png": "[encoded data removed]",
      "text/plain": [
       "<Figure size 432x288 with 2 Axes>"
      ]
     },
     "metadata": {
      "needs_background": "light"
     },
     "output_type": "display_data"
    }
   ],
   "source": [
    "##to see the accurracy\n",
    "plot_confusion_matrix(classification_random_over ,X_rus, Y_rus)\n",
    "plot_confusion_matrix(classification_random_over ,X_test, y_test)\n",
    "\n",
    "##the performance is slightly better, however the model still only predicts \"NO\"."
   ]
  },
  {
   "cell_type": "code",
   "execution_count": 346,
   "id": "14916160",
   "metadata": {},
   "outputs": [
    {
     "data": {
      "text/plain": [
       "1    8551\n",
       "0    8551\n",
       "Name: offer_accepted_Yes, dtype: int64"
      ]
     },
     "execution_count": 346,
     "metadata": {},
     "output_type": "execute_result"
    }
   ],
   "source": [
    "sm = SMOTE(random_state = 42)\n",
    "X_res, Y_res = sm.fit_resample(X_train,y_train)\n",
    "Y_res.value_counts()"
   ]
  },
  {
   "cell_type": "code",
   "execution_count": 347,
   "id": "a006fa12",
   "metadata": {},
   "outputs": [
    {
     "name": "stderr",
     "output_type": "stream",
     "text": [
      "/usr/local/anaconda3/lib/python3.9/site-packages/sklearn/linear_model/_logistic.py:814: ConvergenceWarning: lbfgs failed to converge (status=1):\n",
      "STOP: TOTAL NO. of ITERATIONS REACHED LIMIT.\n",
      "\n",
      "Increase the number of iterations (max_iter) or scale the data as shown in:\n",
      "    https://scikit-learn.org/stable/modules/preprocessing.html\n",
      "Please also refer to the documentation for alternative solver options:\n",
      "    https://scikit-learn.org/stable/modules/linear_model.html#logistic-regression\n",
      "  n_iter_i = _check_optimize_result(\n"
     ]
    }
   ],
   "source": [
    "classification_smote = LogisticRegression(random_state=0, solver='lbfgs',\n",
    "                  multi_class='multinomial').fit(X_res, Y_res)"
   ]
  },
  {
   "cell_type": "code",
   "execution_count": 348,
   "id": "07a6c7e3",
   "metadata": {},
   "outputs": [
    {
     "data": {
      "text/plain": [
       "0.8096656736180072"
      ]
     },
     "execution_count": 348,
     "metadata": {},
     "output_type": "execute_result"
    }
   ],
   "source": [
    "classification_smote.score(X_test, y_test)"
   ]
  },
  {
   "cell_type": "code",
   "execution_count": 349,
   "id": "dfa10bf4",
   "metadata": {},
   "outputs": [
    {
     "name": "stderr",
     "output_type": "stream",
     "text": [
      "/usr/local/anaconda3/lib/python3.9/site-packages/sklearn/utils/deprecation.py:87: FutureWarning: Function plot_confusion_matrix is deprecated; Function `plot_confusion_matrix` is deprecated in 1.0 and will be removed in 1.2. Use one of the class methods: ConfusionMatrixDisplay.from_predictions or ConfusionMatrixDisplay.from_estimator.\n",
      "  warnings.warn(msg, category=FutureWarning)\n",
      "/usr/local/anaconda3/lib/python3.9/site-packages/sklearn/utils/deprecation.py:87: FutureWarning: Function plot_confusion_matrix is deprecated; Function `plot_confusion_matrix` is deprecated in 1.0 and will be removed in 1.2. Use one of the class methods: ConfusionMatrixDisplay.from_predictions or ConfusionMatrixDisplay.from_estimator.\n",
      "  warnings.warn(msg, category=FutureWarning)\n"
     ]
    },
    {
     "data": {
      "text/plain": [
       "<sklearn.metrics._plot.confusion_matrix.ConfusionMatrixDisplay at 0x7fd71b7f77c0>"
      ]
     },
     "execution_count": 349,
     "metadata": {},
     "output_type": "execute_result"
    },
    {
     "data": {
      "image/png": "[encoded data removed]",
      "text/plain": [
       "<Figure size 432x288 with 2 Axes>"
      ]
     },
     "metadata": {
      "needs_background": "light"
     },
     "output_type": "display_data"
    },
    {
     "data": {
      "image/png": "[encoded data removed]",
      "text/plain": [
       "<Figure size 432x288 with 2 Axes>"
      ]
     },
     "metadata": {
      "needs_background": "light"
     },
     "output_type": "display_data"
    }
   ],
   "source": [
    "##to see the accurracy\n",
    "plot_confusion_matrix(classification_smote ,X_res, Y_res)\n",
    "plot_confusion_matrix(classification_smote ,X_test, y_test)\n",
    "\n",
    "##the performance is slightly better, however the model still only predicts \"NO\"."
   ]
  },
  {
   "cell_type": "code",
   "execution_count": 350,
   "id": "5a67e731",
   "metadata": {},
   "outputs": [],
   "source": [
    "Y_train_perditct = classification_smote.predict(X_res)\n",
    "Y_test_perditct = classification_smote.predict(X_test)"
   ]
  },
  {
   "cell_type": "code",
   "execution_count": 351,
   "id": "afee8604",
   "metadata": {},
   "outputs": [
    {
     "name": "stdout",
     "output_type": "stream",
     "text": [
      "              precision    recall  f1-score   support\n",
      "\n",
      "           0       0.86      0.83      0.85      8551\n",
      "           1       0.84      0.87      0.85      8551\n",
      "\n",
      "    accuracy                           0.85     17102\n",
      "   macro avg       0.85      0.85      0.85     17102\n",
      "weighted avg       0.85      0.85      0.85     17102\n",
      "               precision    recall  f1-score   support\n",
      "\n",
      "           0       0.96      0.83      0.89      5699\n",
      "           1       0.13      0.41      0.20       343\n",
      "\n",
      "    accuracy                           0.81      6042\n",
      "   macro avg       0.54      0.62      0.54      6042\n",
      "weighted avg       0.91      0.81      0.85      6042\n",
      "\n"
     ]
    }
   ],
   "source": [
    "print(classification_report(Y_res, Y_train_perditct),classification_report(y_test, Y_test_perditct))"
   ]
  },
  {
   "cell_type": "code",
   "execution_count": null,
   "id": "edceb2b8",
   "metadata": {},
   "outputs": [],
   "source": []
  },
  {
   "cell_type": "code",
   "execution_count": null,
   "id": "f5b605d2",
   "metadata": {},
   "outputs": [],
   "source": []
  },
  {
   "cell_type": "code",
   "execution_count": null,
   "id": "98df8ca6",
   "metadata": {},
   "outputs": [],
   "source": []
  },
  {
   "cell_type": "code",
   "execution_count": null,
   "id": "6d4fa89b",
   "metadata": {},
   "outputs": [],
   "source": []
  },
  {
   "cell_type": "code",
   "execution_count": null,
   "id": "2729ac75",
   "metadata": {},
   "outputs": [],
   "source": []
  },
  {
   "cell_type": "code",
   "execution_count": null,
   "id": "d3c755bd",
   "metadata": {},
   "outputs": [],
   "source": []
  },
  {
   "cell_type": "code",
   "execution_count": null,
   "id": "aeff9a59",
   "metadata": {},
   "outputs": [],
   "source": []
  },
  {
   "cell_type": "code",
   "execution_count": null,
   "id": "064eab17",
   "metadata": {},
   "outputs": [],
   "source": []
  },
  {
   "cell_type": "code",
   "execution_count": null,
   "id": "a9ead353",
   "metadata": {},
   "outputs": [],
   "source": []
  },
  {
   "cell_type": "code",
   "execution_count": null,
   "id": "6df087fd",
   "metadata": {},
   "outputs": [],
   "source": []
  },
  {
   "cell_type": "code",
   "execution_count": null,
   "id": "d2a726f3",
   "metadata": {},
   "outputs": [],
   "source": []
  },
  {
   "cell_type": "code",
   "execution_count": null,
   "id": "e0018078",
   "metadata": {},
   "outputs": [],
   "source": []
  }
 ],
 "metadata": {
  "kernelspec": {
   "display_name": "Python 3 (ipykernel)",
   "language": "python",
   "name": "python3"
  },
  "language_info": {
   "codemirror_mode": {
    "name": "ipython",
    "version": 3
   },
   "file_extension": ".py",
   "mimetype": "text/x-python",
   "name": "python",
   "nbconvert_exporter": "python",
   "pygments_lexer": "ipython3",
   "version": "3.9.7"
  }
 },
 "nbformat": 4,
 "nbformat_minor": 5
}
